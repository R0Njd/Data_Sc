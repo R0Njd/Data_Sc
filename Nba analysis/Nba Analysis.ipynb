{
 "cells": [
  {
   "cell_type": "code",
   "execution_count": 1,
   "id": "c2e59cab-3fbe-46c4-ad7e-53e8c184d830",
   "metadata": {},
   "outputs": [],
   "source": [
    "import seaborn as sns\n",
    "import matplotlib.pyplot as plt\n",
    "import pandas as pd\n",
    "import plotly.graph_objects as go\n",
    "pd.set_option('display.max_columns',None)\n",
    "\n",
    "data = pd.read_excel('nba_players_data.xlsx')"
   ]
  },
  {
   "cell_type": "code",
   "execution_count": 2,
   "id": "a28a94b3-43e9-4ea7-bf6e-56e93fbb3bcc",
   "metadata": {},
   "outputs": [
    {
     "data": {
      "text/html": [
       "<div>\n",
       "<style scoped>\n",
       "    .dataframe tbody tr th:only-of-type {\n",
       "        vertical-align: middle;\n",
       "    }\n",
       "\n",
       "    .dataframe tbody tr th {\n",
       "        vertical-align: top;\n",
       "    }\n",
       "\n",
       "    .dataframe thead th {\n",
       "        text-align: right;\n",
       "    }\n",
       "</style>\n",
       "<table border=\"1\" class=\"dataframe\">\n",
       "  <thead>\n",
       "    <tr style=\"text-align: right;\">\n",
       "      <th></th>\n",
       "      <th>Year</th>\n",
       "      <th>Season_type</th>\n",
       "      <th>PLAYER_ID</th>\n",
       "      <th>RANK</th>\n",
       "      <th>PLAYER</th>\n",
       "      <th>TEAM_ID</th>\n",
       "      <th>TEAM</th>\n",
       "      <th>GP</th>\n",
       "      <th>MIN</th>\n",
       "      <th>FGM</th>\n",
       "      <th>FGA</th>\n",
       "      <th>FG_PCT</th>\n",
       "      <th>FG3M</th>\n",
       "      <th>FG3A</th>\n",
       "      <th>FG3_PCT</th>\n",
       "      <th>FTM</th>\n",
       "      <th>FTA</th>\n",
       "      <th>FT_PCT</th>\n",
       "      <th>OREB</th>\n",
       "      <th>DREB</th>\n",
       "      <th>REB</th>\n",
       "      <th>AST</th>\n",
       "      <th>STL</th>\n",
       "      <th>BLK</th>\n",
       "      <th>TOV</th>\n",
       "      <th>PF</th>\n",
       "      <th>PTS</th>\n",
       "      <th>EFF</th>\n",
       "      <th>AST_TOV</th>\n",
       "      <th>STL_TOV</th>\n",
       "    </tr>\n",
       "  </thead>\n",
       "  <tbody>\n",
       "    <tr>\n",
       "      <th>712</th>\n",
       "      <td>2015-16</td>\n",
       "      <td>Regular%20Season</td>\n",
       "      <td>203952</td>\n",
       "      <td>13</td>\n",
       "      <td>Andrew Wiggins</td>\n",
       "      <td>1610612750</td>\n",
       "      <td>MIN</td>\n",
       "      <td>81</td>\n",
       "      <td>2845</td>\n",
       "      <td>594</td>\n",
       "      <td>1294</td>\n",
       "      <td>0.459</td>\n",
       "      <td>57</td>\n",
       "      <td>190</td>\n",
       "      <td>0.300</td>\n",
       "      <td>430</td>\n",
       "      <td>565</td>\n",
       "      <td>0.761</td>\n",
       "      <td>105</td>\n",
       "      <td>186</td>\n",
       "      <td>291</td>\n",
       "      <td>164</td>\n",
       "      <td>78</td>\n",
       "      <td>46</td>\n",
       "      <td>182</td>\n",
       "      <td>165</td>\n",
       "      <td>1675</td>\n",
       "      <td>1237</td>\n",
       "      <td>0.90</td>\n",
       "      <td>0.43</td>\n",
       "    </tr>\n",
       "    <tr>\n",
       "      <th>6228</th>\n",
       "      <td>2022-23</td>\n",
       "      <td>Regular%20Season</td>\n",
       "      <td>1628427</td>\n",
       "      <td>297</td>\n",
       "      <td>Vlatko Cancar</td>\n",
       "      <td>1610612743</td>\n",
       "      <td>DEN</td>\n",
       "      <td>60</td>\n",
       "      <td>889</td>\n",
       "      <td>108</td>\n",
       "      <td>227</td>\n",
       "      <td>0.476</td>\n",
       "      <td>43</td>\n",
       "      <td>115</td>\n",
       "      <td>0.374</td>\n",
       "      <td>38</td>\n",
       "      <td>41</td>\n",
       "      <td>0.927</td>\n",
       "      <td>24</td>\n",
       "      <td>104</td>\n",
       "      <td>128</td>\n",
       "      <td>80</td>\n",
       "      <td>22</td>\n",
       "      <td>14</td>\n",
       "      <td>37</td>\n",
       "      <td>84</td>\n",
       "      <td>297</td>\n",
       "      <td>382</td>\n",
       "      <td>2.16</td>\n",
       "      <td>0.59</td>\n",
       "    </tr>\n",
       "    <tr>\n",
       "      <th>5992</th>\n",
       "      <td>2022-23</td>\n",
       "      <td>Regular%20Season</td>\n",
       "      <td>203084</td>\n",
       "      <td>62</td>\n",
       "      <td>Harrison Barnes</td>\n",
       "      <td>1610612758</td>\n",
       "      <td>SAC</td>\n",
       "      <td>82</td>\n",
       "      <td>2662</td>\n",
       "      <td>374</td>\n",
       "      <td>791</td>\n",
       "      <td>0.473</td>\n",
       "      <td>132</td>\n",
       "      <td>353</td>\n",
       "      <td>0.374</td>\n",
       "      <td>350</td>\n",
       "      <td>413</td>\n",
       "      <td>0.847</td>\n",
       "      <td>87</td>\n",
       "      <td>279</td>\n",
       "      <td>366</td>\n",
       "      <td>128</td>\n",
       "      <td>57</td>\n",
       "      <td>10</td>\n",
       "      <td>86</td>\n",
       "      <td>103</td>\n",
       "      <td>1230</td>\n",
       "      <td>1225</td>\n",
       "      <td>1.49</td>\n",
       "      <td>0.66</td>\n",
       "    </tr>\n",
       "    <tr>\n",
       "      <th>810</th>\n",
       "      <td>2015-16</td>\n",
       "      <td>Regular%20Season</td>\n",
       "      <td>202329</td>\n",
       "      <td>111</td>\n",
       "      <td>Al-Farouq Aminu</td>\n",
       "      <td>1610612757</td>\n",
       "      <td>POR</td>\n",
       "      <td>82</td>\n",
       "      <td>2341</td>\n",
       "      <td>299</td>\n",
       "      <td>719</td>\n",
       "      <td>0.416</td>\n",
       "      <td>126</td>\n",
       "      <td>349</td>\n",
       "      <td>0.361</td>\n",
       "      <td>115</td>\n",
       "      <td>156</td>\n",
       "      <td>0.737</td>\n",
       "      <td>98</td>\n",
       "      <td>401</td>\n",
       "      <td>499</td>\n",
       "      <td>138</td>\n",
       "      <td>72</td>\n",
       "      <td>53</td>\n",
       "      <td>120</td>\n",
       "      <td>171</td>\n",
       "      <td>839</td>\n",
       "      <td>1020</td>\n",
       "      <td>1.15</td>\n",
       "      <td>0.60</td>\n",
       "    </tr>\n",
       "    <tr>\n",
       "      <th>5312</th>\n",
       "      <td>2021-22</td>\n",
       "      <td>Regular%20Season</td>\n",
       "      <td>1628402</td>\n",
       "      <td>204</td>\n",
       "      <td>Frank Jackson</td>\n",
       "      <td>1610612765</td>\n",
       "      <td>DET</td>\n",
       "      <td>53</td>\n",
       "      <td>1164</td>\n",
       "      <td>194</td>\n",
       "      <td>483</td>\n",
       "      <td>0.402</td>\n",
       "      <td>86</td>\n",
       "      <td>279</td>\n",
       "      <td>0.308</td>\n",
       "      <td>86</td>\n",
       "      <td>104</td>\n",
       "      <td>0.827</td>\n",
       "      <td>19</td>\n",
       "      <td>68</td>\n",
       "      <td>87</td>\n",
       "      <td>55</td>\n",
       "      <td>27</td>\n",
       "      <td>9</td>\n",
       "      <td>38</td>\n",
       "      <td>89</td>\n",
       "      <td>560</td>\n",
       "      <td>393</td>\n",
       "      <td>1.45</td>\n",
       "      <td>0.71</td>\n",
       "    </tr>\n",
       "    <tr>\n",
       "      <th>5669</th>\n",
       "      <td>2021-22</td>\n",
       "      <td>Regular%20Season</td>\n",
       "      <td>1628422</td>\n",
       "      <td>559</td>\n",
       "      <td>Damyean Dotson</td>\n",
       "      <td>1610612752</td>\n",
       "      <td>NYK</td>\n",
       "      <td>2</td>\n",
       "      <td>21</td>\n",
       "      <td>2</td>\n",
       "      <td>4</td>\n",
       "      <td>0.500</td>\n",
       "      <td>0</td>\n",
       "      <td>1</td>\n",
       "      <td>0.000</td>\n",
       "      <td>0</td>\n",
       "      <td>0</td>\n",
       "      <td>0.000</td>\n",
       "      <td>0</td>\n",
       "      <td>2</td>\n",
       "      <td>2</td>\n",
       "      <td>1</td>\n",
       "      <td>0</td>\n",
       "      <td>0</td>\n",
       "      <td>0</td>\n",
       "      <td>0</td>\n",
       "      <td>4</td>\n",
       "      <td>5</td>\n",
       "      <td>0.00</td>\n",
       "      <td>0.00</td>\n",
       "    </tr>\n",
       "    <tr>\n",
       "      <th>3510</th>\n",
       "      <td>2018-19</td>\n",
       "      <td>Playoffs</td>\n",
       "      <td>203894</td>\n",
       "      <td>136</td>\n",
       "      <td>Shabazz Napier</td>\n",
       "      <td>1610612751</td>\n",
       "      <td>BKN</td>\n",
       "      <td>3</td>\n",
       "      <td>28</td>\n",
       "      <td>7</td>\n",
       "      <td>11</td>\n",
       "      <td>0.636</td>\n",
       "      <td>3</td>\n",
       "      <td>5</td>\n",
       "      <td>0.600</td>\n",
       "      <td>7</td>\n",
       "      <td>8</td>\n",
       "      <td>0.875</td>\n",
       "      <td>2</td>\n",
       "      <td>5</td>\n",
       "      <td>7</td>\n",
       "      <td>11</td>\n",
       "      <td>1</td>\n",
       "      <td>0</td>\n",
       "      <td>0</td>\n",
       "      <td>1</td>\n",
       "      <td>24</td>\n",
       "      <td>38</td>\n",
       "      <td>0.00</td>\n",
       "      <td>0.00</td>\n",
       "    </tr>\n",
       "    <tr>\n",
       "      <th>4578</th>\n",
       "      <td>2020-21</td>\n",
       "      <td>Regular%20Season</td>\n",
       "      <td>201952</td>\n",
       "      <td>249</td>\n",
       "      <td>Jeff Teague</td>\n",
       "      <td>1610612749</td>\n",
       "      <td>MIL</td>\n",
       "      <td>55</td>\n",
       "      <td>950</td>\n",
       "      <td>123</td>\n",
       "      <td>284</td>\n",
       "      <td>0.433</td>\n",
       "      <td>36</td>\n",
       "      <td>82</td>\n",
       "      <td>0.439</td>\n",
       "      <td>89</td>\n",
       "      <td>105</td>\n",
       "      <td>0.848</td>\n",
       "      <td>15</td>\n",
       "      <td>73</td>\n",
       "      <td>88</td>\n",
       "      <td>132</td>\n",
       "      <td>34</td>\n",
       "      <td>12</td>\n",
       "      <td>64</td>\n",
       "      <td>56</td>\n",
       "      <td>371</td>\n",
       "      <td>396</td>\n",
       "      <td>2.06</td>\n",
       "      <td>0.53</td>\n",
       "    </tr>\n",
       "    <tr>\n",
       "      <th>225</th>\n",
       "      <td>2014-15</td>\n",
       "      <td>Regular%20Season</td>\n",
       "      <td>2733</td>\n",
       "      <td>225</td>\n",
       "      <td>Shaun Livingston</td>\n",
       "      <td>1610612744</td>\n",
       "      <td>GSW</td>\n",
       "      <td>78</td>\n",
       "      <td>1468</td>\n",
       "      <td>198</td>\n",
       "      <td>396</td>\n",
       "      <td>0.500</td>\n",
       "      <td>0</td>\n",
       "      <td>2</td>\n",
       "      <td>0.000</td>\n",
       "      <td>65</td>\n",
       "      <td>91</td>\n",
       "      <td>0.714</td>\n",
       "      <td>43</td>\n",
       "      <td>140</td>\n",
       "      <td>183</td>\n",
       "      <td>259</td>\n",
       "      <td>49</td>\n",
       "      <td>20</td>\n",
       "      <td>102</td>\n",
       "      <td>110</td>\n",
       "      <td>461</td>\n",
       "      <td>646</td>\n",
       "      <td>2.54</td>\n",
       "      <td>0.48</td>\n",
       "    </tr>\n",
       "    <tr>\n",
       "      <th>4726</th>\n",
       "      <td>2020-21</td>\n",
       "      <td>Regular%20Season</td>\n",
       "      <td>1626168</td>\n",
       "      <td>397</td>\n",
       "      <td>Trey Lyles</td>\n",
       "      <td>1610612759</td>\n",
       "      <td>SAS</td>\n",
       "      <td>23</td>\n",
       "      <td>358</td>\n",
       "      <td>43</td>\n",
       "      <td>90</td>\n",
       "      <td>0.478</td>\n",
       "      <td>14</td>\n",
       "      <td>40</td>\n",
       "      <td>0.350</td>\n",
       "      <td>15</td>\n",
       "      <td>23</td>\n",
       "      <td>0.652</td>\n",
       "      <td>9</td>\n",
       "      <td>77</td>\n",
       "      <td>86</td>\n",
       "      <td>14</td>\n",
       "      <td>6</td>\n",
       "      <td>1</td>\n",
       "      <td>6</td>\n",
       "      <td>13</td>\n",
       "      <td>115</td>\n",
       "      <td>161</td>\n",
       "      <td>2.33</td>\n",
       "      <td>1.00</td>\n",
       "    </tr>\n",
       "  </tbody>\n",
       "</table>\n",
       "</div>"
      ],
      "text/plain": [
       "         Year       Season_type  PLAYER_ID  RANK            PLAYER  \\\n",
       "712   2015-16  Regular%20Season     203952    13    Andrew Wiggins   \n",
       "6228  2022-23  Regular%20Season    1628427   297     Vlatko Cancar   \n",
       "5992  2022-23  Regular%20Season     203084    62   Harrison Barnes   \n",
       "810   2015-16  Regular%20Season     202329   111   Al-Farouq Aminu   \n",
       "5312  2021-22  Regular%20Season    1628402   204     Frank Jackson   \n",
       "5669  2021-22  Regular%20Season    1628422   559    Damyean Dotson   \n",
       "3510  2018-19          Playoffs     203894   136    Shabazz Napier   \n",
       "4578  2020-21  Regular%20Season     201952   249       Jeff Teague   \n",
       "225   2014-15  Regular%20Season       2733   225  Shaun Livingston   \n",
       "4726  2020-21  Regular%20Season    1626168   397        Trey Lyles   \n",
       "\n",
       "         TEAM_ID TEAM  GP   MIN  FGM   FGA  FG_PCT  FG3M  FG3A  FG3_PCT  FTM  \\\n",
       "712   1610612750  MIN  81  2845  594  1294   0.459    57   190    0.300  430   \n",
       "6228  1610612743  DEN  60   889  108   227   0.476    43   115    0.374   38   \n",
       "5992  1610612758  SAC  82  2662  374   791   0.473   132   353    0.374  350   \n",
       "810   1610612757  POR  82  2341  299   719   0.416   126   349    0.361  115   \n",
       "5312  1610612765  DET  53  1164  194   483   0.402    86   279    0.308   86   \n",
       "5669  1610612752  NYK   2    21    2     4   0.500     0     1    0.000    0   \n",
       "3510  1610612751  BKN   3    28    7    11   0.636     3     5    0.600    7   \n",
       "4578  1610612749  MIL  55   950  123   284   0.433    36    82    0.439   89   \n",
       "225   1610612744  GSW  78  1468  198   396   0.500     0     2    0.000   65   \n",
       "4726  1610612759  SAS  23   358   43    90   0.478    14    40    0.350   15   \n",
       "\n",
       "      FTA  FT_PCT  OREB  DREB  REB  AST  STL  BLK  TOV   PF   PTS   EFF  \\\n",
       "712   565   0.761   105   186  291  164   78   46  182  165  1675  1237   \n",
       "6228   41   0.927    24   104  128   80   22   14   37   84   297   382   \n",
       "5992  413   0.847    87   279  366  128   57   10   86  103  1230  1225   \n",
       "810   156   0.737    98   401  499  138   72   53  120  171   839  1020   \n",
       "5312  104   0.827    19    68   87   55   27    9   38   89   560   393   \n",
       "5669    0   0.000     0     2    2    1    0    0    0    0     4     5   \n",
       "3510    8   0.875     2     5    7   11    1    0    0    1    24    38   \n",
       "4578  105   0.848    15    73   88  132   34   12   64   56   371   396   \n",
       "225    91   0.714    43   140  183  259   49   20  102  110   461   646   \n",
       "4726   23   0.652     9    77   86   14    6    1    6   13   115   161   \n",
       "\n",
       "      AST_TOV  STL_TOV  \n",
       "712      0.90     0.43  \n",
       "6228     2.16     0.59  \n",
       "5992     1.49     0.66  \n",
       "810      1.15     0.60  \n",
       "5312     1.45     0.71  \n",
       "5669     0.00     0.00  \n",
       "3510     0.00     0.00  \n",
       "4578     2.06     0.53  \n",
       "225      2.54     0.48  \n",
       "4726     2.33     1.00  "
      ]
     },
     "execution_count": 2,
     "metadata": {},
     "output_type": "execute_result"
    }
   ],
   "source": [
    "data.sample(10)"
   ]
  },
  {
   "cell_type": "code",
   "execution_count": 3,
   "id": "d77dee21-ac97-4156-ac00-8f3d22cfe304",
   "metadata": {},
   "outputs": [
    {
     "data": {
      "text/plain": [
       "(7224, 30)"
      ]
     },
     "execution_count": 3,
     "metadata": {},
     "output_type": "execute_result"
    }
   ],
   "source": [
    "data.shape"
   ]
  },
  {
   "cell_type": "markdown",
   "id": "90066c60-24a5-449b-8fbb-7a82a0fa3dc0",
   "metadata": {},
   "source": [
    "## Data Analysis"
   ]
  },
  {
   "cell_type": "code",
   "execution_count": 4,
   "id": "15bfbacb-b2e5-4989-bf7a-b0e45f4b71d5",
   "metadata": {},
   "outputs": [
    {
     "data": {
      "text/plain": [
       "Year           0\n",
       "Season_type    0\n",
       "PLAYER_ID      0\n",
       "RANK           0\n",
       "PLAYER         0\n",
       "TEAM_ID        0\n",
       "TEAM           0\n",
       "GP             0\n",
       "MIN            0\n",
       "FGM            0\n",
       "FGA            0\n",
       "FG_PCT         0\n",
       "FG3M           0\n",
       "FG3A           0\n",
       "FG3_PCT        0\n",
       "FTM            0\n",
       "FTA            0\n",
       "FT_PCT         0\n",
       "OREB           0\n",
       "DREB           0\n",
       "REB            0\n",
       "AST            0\n",
       "STL            0\n",
       "BLK            0\n",
       "TOV            0\n",
       "PF             0\n",
       "PTS            0\n",
       "EFF            0\n",
       "AST_TOV        0\n",
       "STL_TOV        0\n",
       "dtype: int64"
      ]
     },
     "execution_count": 4,
     "metadata": {},
     "output_type": "execute_result"
    }
   ],
   "source": [
    "data.isna().sum()"
   ]
  },
  {
   "cell_type": "code",
   "execution_count": 5,
   "id": "40588e76-8266-4220-afd3-49b1254db62d",
   "metadata": {},
   "outputs": [],
   "source": [
    "data.drop(columns=['RANK','EFF'], inplace=True)"
   ]
  },
  {
   "cell_type": "code",
   "execution_count": 6,
   "id": "3780f2a7-d65f-4c2c-9ef0-24f63d85fcf7",
   "metadata": {},
   "outputs": [
    {
     "name": "stderr",
     "output_type": "stream",
     "text": [
      "C:\\Users\\ronjd\\AppData\\Local\\Temp\\ipykernel_4820\\3467540446.py:1: FutureWarning: A value is trying to be set on a copy of a DataFrame or Series through chained assignment using an inplace method.\n",
      "The behavior will change in pandas 3.0. This inplace method will never work because the intermediate object on which we are setting values always behaves as a copy.\n",
      "\n",
      "For example, when doing 'df[col].method(value, inplace=True)', try using 'df.method({col: value}, inplace=True)' or df[col] = df[col].method(value) instead, to perform the operation inplace on the original object.\n",
      "\n",
      "\n",
      "  data['TEAM'].replace(to_replace=['NOP','NOH'], value='NO', inplace=True)\n"
     ]
    }
   ],
   "source": [
    "data['TEAM'].replace(to_replace=['NOP','NOH'], value='NO', inplace=True)"
   ]
  },
  {
   "cell_type": "code",
   "execution_count": 7,
   "id": "be461bd1-1062-4881-9036-f1fb2ab9c190",
   "metadata": {},
   "outputs": [
    {
     "data": {
      "text/plain": [
       "0       2014\n",
       "1       2014\n",
       "2       2014\n",
       "3       2014\n",
       "4       2014\n",
       "        ... \n",
       "7219    2023\n",
       "7220    2023\n",
       "7221    2023\n",
       "7222    2023\n",
       "7223    2023\n",
       "Name: Year, Length: 7224, dtype: int32"
      ]
     },
     "execution_count": 7,
     "metadata": {},
     "output_type": "execute_result"
    }
   ],
   "source": [
    "data['Year'].str[:4].astype(int)"
   ]
  },
  {
   "cell_type": "code",
   "execution_count": 8,
   "id": "ce01415e-862f-4de4-91c9-0520097ff9f7",
   "metadata": {},
   "outputs": [],
   "source": [
    "data['season_start_year'] = data['Year'].str[:4].astype(int)"
   ]
  },
  {
   "cell_type": "code",
   "execution_count": 9,
   "id": "fa770f86-eac0-48e8-9eba-c056268f3989",
   "metadata": {
    "scrolled": true
   },
   "outputs": [
    {
     "data": {
      "text/plain": [
       "array(['HOU', 'GSW', 'OKC', 'CLE', 'POR', 'NO', 'LAC', 'DAL', 'UTA',\n",
       "       'CHI', 'SAC', 'ORL', 'MEM', 'MIN', 'WAS', 'PHX', 'MIA', 'TOR',\n",
       "       'BKN', 'ATL', 'DEN', 'DET', 'BOS', 'CHA', 'SAS', 'MIL', 'NYK',\n",
       "       'PHI', 'IND', 'LAL'], dtype=object)"
      ]
     },
     "execution_count": 9,
     "metadata": {},
     "output_type": "execute_result"
    }
   ],
   "source": [
    "data.TEAM.unique()"
   ]
  },
  {
   "cell_type": "code",
   "execution_count": 10,
   "id": "8a5a0b63-e383-4841-ba10-6b1f676bae78",
   "metadata": {},
   "outputs": [
    {
     "data": {
      "text/plain": [
       "30"
      ]
     },
     "execution_count": 10,
     "metadata": {},
     "output_type": "execute_result"
    }
   ],
   "source": [
    "data.TEAM.nunique()"
   ]
  },
  {
   "cell_type": "code",
   "execution_count": 11,
   "id": "0daeef9f-fe02-4650-be67-0d9ee6955ded",
   "metadata": {},
   "outputs": [
    {
     "name": "stderr",
     "output_type": "stream",
     "text": [
      "C:\\Users\\ronjd\\AppData\\Local\\Temp\\ipykernel_4820\\1249339338.py:1: FutureWarning: A value is trying to be set on a copy of a DataFrame or Series through chained assignment using an inplace method.\n",
      "The behavior will change in pandas 3.0. This inplace method will never work because the intermediate object on which we are setting values always behaves as a copy.\n",
      "\n",
      "For example, when doing 'df[col].method(value, inplace=True)', try using 'df.method({col: value}, inplace=True)' or df[col] = df[col].method(value) instead, to perform the operation inplace on the original object.\n",
      "\n",
      "\n",
      "  data['Season_type'].replace('Regular%20Season','RS', inplace=True)\n"
     ]
    }
   ],
   "source": [
    "data['Season_type'].replace('Regular%20Season','RS', inplace=True)"
   ]
  },
  {
   "cell_type": "code",
   "execution_count": 12,
   "id": "a034f699-9e45-4e49-96c1-76835e71169a",
   "metadata": {},
   "outputs": [],
   "source": [
    "rs_df = data[data['Season_type']=='RS']\n",
    "playoffs_df = data[data['Season_type']=='Playoffs']"
   ]
  },
  {
   "cell_type": "code",
   "execution_count": 13,
   "id": "63e73579-d0b4-48b4-8215-4af8e2877ad9",
   "metadata": {},
   "outputs": [],
   "source": [
    "total_cols = ['MIN','FGM','FGA','FG3M','FG3A','FTM','FTA',\n",
    "              'OREB','DREB','REB','AST','STL','BLK','TOV','PF','PTS']"
   ]
  },
  {
   "cell_type": "code",
   "execution_count": 14,
   "id": "5c4fcb44-031a-4c40-af63-cd5610352cda",
   "metadata": {},
   "outputs": [
    {
     "data": {
      "text/plain": [
       "Index(['Year', 'Season_type', 'PLAYER_ID', 'PLAYER', 'TEAM_ID', 'TEAM', 'GP',\n",
       "       'MIN', 'FGM', 'FGA', 'FG_PCT', 'FG3M', 'FG3A', 'FG3_PCT', 'FTM', 'FTA',\n",
       "       'FT_PCT', 'OREB', 'DREB', 'REB', 'AST', 'STL', 'BLK', 'TOV', 'PF',\n",
       "       'PTS', 'AST_TOV', 'STL_TOV', 'season_start_year'],\n",
       "      dtype='object')"
      ]
     },
     "execution_count": 14,
     "metadata": {},
     "output_type": "execute_result"
    }
   ],
   "source": [
    "data.columns"
   ]
  },
  {
   "cell_type": "code",
   "execution_count": 15,
   "id": "818568f9-bd1d-4e17-ac7a-cc3d64b44841",
   "metadata": {},
   "outputs": [
    {
     "data": {
      "text/html": [
       "<div>\n",
       "<style scoped>\n",
       "    .dataframe tbody tr th:only-of-type {\n",
       "        vertical-align: middle;\n",
       "    }\n",
       "\n",
       "    .dataframe tbody tr th {\n",
       "        vertical-align: top;\n",
       "    }\n",
       "\n",
       "    .dataframe thead th {\n",
       "        text-align: right;\n",
       "    }\n",
       "</style>\n",
       "<table border=\"1\" class=\"dataframe\">\n",
       "  <thead>\n",
       "    <tr style=\"text-align: right;\">\n",
       "      <th></th>\n",
       "      <th>PLAYER_ID</th>\n",
       "      <th>TEAM_ID</th>\n",
       "      <th>GP</th>\n",
       "      <th>MIN</th>\n",
       "      <th>FGM</th>\n",
       "      <th>FGA</th>\n",
       "      <th>FG_PCT</th>\n",
       "      <th>FG3M</th>\n",
       "      <th>FG3A</th>\n",
       "      <th>FG3_PCT</th>\n",
       "      <th>FTM</th>\n",
       "      <th>FTA</th>\n",
       "      <th>FT_PCT</th>\n",
       "      <th>OREB</th>\n",
       "      <th>DREB</th>\n",
       "      <th>REB</th>\n",
       "      <th>AST</th>\n",
       "      <th>STL</th>\n",
       "      <th>BLK</th>\n",
       "      <th>TOV</th>\n",
       "      <th>PF</th>\n",
       "      <th>PTS</th>\n",
       "      <th>AST_TOV</th>\n",
       "      <th>STL_TOV</th>\n",
       "      <th>season_start_year</th>\n",
       "    </tr>\n",
       "  </thead>\n",
       "  <tbody>\n",
       "    <tr>\n",
       "      <th>PLAYER_ID</th>\n",
       "      <td>1.000000</td>\n",
       "      <td>0.033575</td>\n",
       "      <td>-0.119456</td>\n",
       "      <td>-0.162634</td>\n",
       "      <td>-0.141873</td>\n",
       "      <td>-0.145702</td>\n",
       "      <td>-0.046256</td>\n",
       "      <td>-0.082035</td>\n",
       "      <td>-0.078484</td>\n",
       "      <td>-0.008047</td>\n",
       "      <td>-0.150019</td>\n",
       "      <td>-0.151875</td>\n",
       "      <td>-0.109159</td>\n",
       "      <td>-0.109912</td>\n",
       "      <td>-0.156640</td>\n",
       "      <td>-0.148810</td>\n",
       "      <td>-0.135265</td>\n",
       "      <td>-0.145904</td>\n",
       "      <td>-0.102621</td>\n",
       "      <td>-0.154991</td>\n",
       "      <td>-0.141904</td>\n",
       "      <td>-0.142836</td>\n",
       "      <td>-0.030511</td>\n",
       "      <td>0.004158</td>\n",
       "      <td>0.522994</td>\n",
       "    </tr>\n",
       "    <tr>\n",
       "      <th>TEAM_ID</th>\n",
       "      <td>0.033575</td>\n",
       "      <td>1.000000</td>\n",
       "      <td>0.019021</td>\n",
       "      <td>0.009486</td>\n",
       "      <td>0.003464</td>\n",
       "      <td>0.008297</td>\n",
       "      <td>-0.025670</td>\n",
       "      <td>-0.017602</td>\n",
       "      <td>-0.014214</td>\n",
       "      <td>-0.017865</td>\n",
       "      <td>0.007280</td>\n",
       "      <td>0.008583</td>\n",
       "      <td>-0.005658</td>\n",
       "      <td>0.011184</td>\n",
       "      <td>0.001657</td>\n",
       "      <td>0.004369</td>\n",
       "      <td>-0.004141</td>\n",
       "      <td>0.008992</td>\n",
       "      <td>0.010280</td>\n",
       "      <td>0.003419</td>\n",
       "      <td>0.013666</td>\n",
       "      <td>0.001873</td>\n",
       "      <td>-0.001289</td>\n",
       "      <td>0.021255</td>\n",
       "      <td>0.004495</td>\n",
       "    </tr>\n",
       "    <tr>\n",
       "      <th>GP</th>\n",
       "      <td>-0.119456</td>\n",
       "      <td>0.019021</td>\n",
       "      <td>1.000000</td>\n",
       "      <td>0.907242</td>\n",
       "      <td>0.785030</td>\n",
       "      <td>0.791830</td>\n",
       "      <td>0.220367</td>\n",
       "      <td>0.640553</td>\n",
       "      <td>0.663913</td>\n",
       "      <td>0.214713</td>\n",
       "      <td>0.629133</td>\n",
       "      <td>0.649477</td>\n",
       "      <td>0.353079</td>\n",
       "      <td>0.631969</td>\n",
       "      <td>0.778727</td>\n",
       "      <td>0.763661</td>\n",
       "      <td>0.641628</td>\n",
       "      <td>0.793582</td>\n",
       "      <td>0.584382</td>\n",
       "      <td>0.746314</td>\n",
       "      <td>0.899193</td>\n",
       "      <td>0.772622</td>\n",
       "      <td>0.140766</td>\n",
       "      <td>0.067941</td>\n",
       "      <td>-0.093905</td>\n",
       "    </tr>\n",
       "    <tr>\n",
       "      <th>MIN</th>\n",
       "      <td>-0.162634</td>\n",
       "      <td>0.009486</td>\n",
       "      <td>0.907242</td>\n",
       "      <td>1.000000</td>\n",
       "      <td>0.931808</td>\n",
       "      <td>0.937689</td>\n",
       "      <td>0.200566</td>\n",
       "      <td>0.757677</td>\n",
       "      <td>0.778310</td>\n",
       "      <td>0.235934</td>\n",
       "      <td>0.791924</td>\n",
       "      <td>0.804190</td>\n",
       "      <td>0.343118</td>\n",
       "      <td>0.648199</td>\n",
       "      <td>0.863403</td>\n",
       "      <td>0.832060</td>\n",
       "      <td>0.782064</td>\n",
       "      <td>0.891649</td>\n",
       "      <td>0.615610</td>\n",
       "      <td>0.879963</td>\n",
       "      <td>0.918760</td>\n",
       "      <td>0.925742</td>\n",
       "      <td>0.151430</td>\n",
       "      <td>0.022777</td>\n",
       "      <td>-0.075129</td>\n",
       "    </tr>\n",
       "    <tr>\n",
       "      <th>FGM</th>\n",
       "      <td>-0.141873</td>\n",
       "      <td>0.003464</td>\n",
       "      <td>0.785030</td>\n",
       "      <td>0.931808</td>\n",
       "      <td>1.000000</td>\n",
       "      <td>0.988873</td>\n",
       "      <td>0.212604</td>\n",
       "      <td>0.742857</td>\n",
       "      <td>0.759899</td>\n",
       "      <td>0.218195</td>\n",
       "      <td>0.895046</td>\n",
       "      <td>0.898652</td>\n",
       "      <td>0.315865</td>\n",
       "      <td>0.621688</td>\n",
       "      <td>0.849106</td>\n",
       "      <td>0.813882</td>\n",
       "      <td>0.800472</td>\n",
       "      <td>0.826520</td>\n",
       "      <td>0.593338</td>\n",
       "      <td>0.918302</td>\n",
       "      <td>0.829154</td>\n",
       "      <td>0.994106</td>\n",
       "      <td>0.110229</td>\n",
       "      <td>-0.051543</td>\n",
       "      <td>-0.032219</td>\n",
       "    </tr>\n",
       "    <tr>\n",
       "      <th>FGA</th>\n",
       "      <td>-0.145702</td>\n",
       "      <td>0.008297</td>\n",
       "      <td>0.791830</td>\n",
       "      <td>0.937689</td>\n",
       "      <td>0.988873</td>\n",
       "      <td>1.000000</td>\n",
       "      <td>0.160471</td>\n",
       "      <td>0.798843</td>\n",
       "      <td>0.821098</td>\n",
       "      <td>0.244652</td>\n",
       "      <td>0.886225</td>\n",
       "      <td>0.881306</td>\n",
       "      <td>0.332753</td>\n",
       "      <td>0.549920</td>\n",
       "      <td>0.811749</td>\n",
       "      <td>0.765688</td>\n",
       "      <td>0.818309</td>\n",
       "      <td>0.840381</td>\n",
       "      <td>0.533224</td>\n",
       "      <td>0.922310</td>\n",
       "      <td>0.818795</td>\n",
       "      <td>0.990918</td>\n",
       "      <td>0.129581</td>\n",
       "      <td>-0.043599</td>\n",
       "      <td>-0.047251</td>\n",
       "    </tr>\n",
       "    <tr>\n",
       "      <th>FG_PCT</th>\n",
       "      <td>-0.046256</td>\n",
       "      <td>-0.025670</td>\n",
       "      <td>0.220367</td>\n",
       "      <td>0.200566</td>\n",
       "      <td>0.212604</td>\n",
       "      <td>0.160471</td>\n",
       "      <td>1.000000</td>\n",
       "      <td>0.029972</td>\n",
       "      <td>0.018762</td>\n",
       "      <td>0.172806</td>\n",
       "      <td>0.170238</td>\n",
       "      <td>0.195325</td>\n",
       "      <td>0.196637</td>\n",
       "      <td>0.325982</td>\n",
       "      <td>0.263902</td>\n",
       "      <td>0.289980</td>\n",
       "      <td>0.108616</td>\n",
       "      <td>0.153833</td>\n",
       "      <td>0.286858</td>\n",
       "      <td>0.168595</td>\n",
       "      <td>0.247888</td>\n",
       "      <td>0.192134</td>\n",
       "      <td>0.030845</td>\n",
       "      <td>0.061315</td>\n",
       "      <td>0.026120</td>\n",
       "    </tr>\n",
       "    <tr>\n",
       "      <th>FG3M</th>\n",
       "      <td>-0.082035</td>\n",
       "      <td>-0.017602</td>\n",
       "      <td>0.640553</td>\n",
       "      <td>0.757677</td>\n",
       "      <td>0.742857</td>\n",
       "      <td>0.798843</td>\n",
       "      <td>0.029972</td>\n",
       "      <td>1.000000</td>\n",
       "      <td>0.991971</td>\n",
       "      <td>0.369321</td>\n",
       "      <td>0.613028</td>\n",
       "      <td>0.571635</td>\n",
       "      <td>0.333385</td>\n",
       "      <td>0.167805</td>\n",
       "      <td>0.512138</td>\n",
       "      <td>0.433116</td>\n",
       "      <td>0.648098</td>\n",
       "      <td>0.675628</td>\n",
       "      <td>0.228744</td>\n",
       "      <td>0.668914</td>\n",
       "      <td>0.600343</td>\n",
       "      <td>0.781511</td>\n",
       "      <td>0.173807</td>\n",
       "      <td>0.025162</td>\n",
       "      <td>0.055227</td>\n",
       "    </tr>\n",
       "    <tr>\n",
       "      <th>FG3A</th>\n",
       "      <td>-0.078484</td>\n",
       "      <td>-0.014214</td>\n",
       "      <td>0.663913</td>\n",
       "      <td>0.778310</td>\n",
       "      <td>0.759899</td>\n",
       "      <td>0.821098</td>\n",
       "      <td>0.018762</td>\n",
       "      <td>0.991971</td>\n",
       "      <td>1.000000</td>\n",
       "      <td>0.353449</td>\n",
       "      <td>0.637899</td>\n",
       "      <td>0.599210</td>\n",
       "      <td>0.339496</td>\n",
       "      <td>0.184159</td>\n",
       "      <td>0.532997</td>\n",
       "      <td>0.453412</td>\n",
       "      <td>0.673434</td>\n",
       "      <td>0.700463</td>\n",
       "      <td>0.244097</td>\n",
       "      <td>0.698725</td>\n",
       "      <td>0.624145</td>\n",
       "      <td>0.797902</td>\n",
       "      <td>0.176925</td>\n",
       "      <td>0.025157</td>\n",
       "      <td>0.051998</td>\n",
       "    </tr>\n",
       "    <tr>\n",
       "      <th>FG3_PCT</th>\n",
       "      <td>-0.008047</td>\n",
       "      <td>-0.017865</td>\n",
       "      <td>0.214713</td>\n",
       "      <td>0.235934</td>\n",
       "      <td>0.218195</td>\n",
       "      <td>0.244652</td>\n",
       "      <td>0.172806</td>\n",
       "      <td>0.369321</td>\n",
       "      <td>0.353449</td>\n",
       "      <td>1.000000</td>\n",
       "      <td>0.158551</td>\n",
       "      <td>0.131010</td>\n",
       "      <td>0.291776</td>\n",
       "      <td>-0.057460</td>\n",
       "      <td>0.110905</td>\n",
       "      <td>0.067633</td>\n",
       "      <td>0.214082</td>\n",
       "      <td>0.215546</td>\n",
       "      <td>-0.011971</td>\n",
       "      <td>0.186269</td>\n",
       "      <td>0.166977</td>\n",
       "      <td>0.234271</td>\n",
       "      <td>0.243417</td>\n",
       "      <td>0.115861</td>\n",
       "      <td>0.075214</td>\n",
       "    </tr>\n",
       "    <tr>\n",
       "      <th>FTM</th>\n",
       "      <td>-0.150019</td>\n",
       "      <td>0.007280</td>\n",
       "      <td>0.629133</td>\n",
       "      <td>0.791924</td>\n",
       "      <td>0.895046</td>\n",
       "      <td>0.886225</td>\n",
       "      <td>0.170238</td>\n",
       "      <td>0.613028</td>\n",
       "      <td>0.637899</td>\n",
       "      <td>0.158551</td>\n",
       "      <td>1.000000</td>\n",
       "      <td>0.988560</td>\n",
       "      <td>0.284966</td>\n",
       "      <td>0.530410</td>\n",
       "      <td>0.749466</td>\n",
       "      <td>0.713265</td>\n",
       "      <td>0.762744</td>\n",
       "      <td>0.724325</td>\n",
       "      <td>0.518752</td>\n",
       "      <td>0.877245</td>\n",
       "      <td>0.696178</td>\n",
       "      <td>0.923134</td>\n",
       "      <td>0.077694</td>\n",
       "      <td>-0.084490</td>\n",
       "      <td>-0.046016</td>\n",
       "    </tr>\n",
       "    <tr>\n",
       "      <th>FTA</th>\n",
       "      <td>-0.151875</td>\n",
       "      <td>0.008583</td>\n",
       "      <td>0.649477</td>\n",
       "      <td>0.804190</td>\n",
       "      <td>0.898652</td>\n",
       "      <td>0.881306</td>\n",
       "      <td>0.195325</td>\n",
       "      <td>0.571635</td>\n",
       "      <td>0.599210</td>\n",
       "      <td>0.131010</td>\n",
       "      <td>0.988560</td>\n",
       "      <td>1.000000</td>\n",
       "      <td>0.257508</td>\n",
       "      <td>0.602774</td>\n",
       "      <td>0.793321</td>\n",
       "      <td>0.766527</td>\n",
       "      <td>0.751365</td>\n",
       "      <td>0.734133</td>\n",
       "      <td>0.575817</td>\n",
       "      <td>0.885355</td>\n",
       "      <td>0.728401</td>\n",
       "      <td>0.918558</td>\n",
       "      <td>0.061616</td>\n",
       "      <td>-0.084144</td>\n",
       "      <td>-0.056982</td>\n",
       "    </tr>\n",
       "    <tr>\n",
       "      <th>FT_PCT</th>\n",
       "      <td>-0.109159</td>\n",
       "      <td>-0.005658</td>\n",
       "      <td>0.353079</td>\n",
       "      <td>0.343118</td>\n",
       "      <td>0.315865</td>\n",
       "      <td>0.332753</td>\n",
       "      <td>0.196637</td>\n",
       "      <td>0.333385</td>\n",
       "      <td>0.339496</td>\n",
       "      <td>0.291776</td>\n",
       "      <td>0.284966</td>\n",
       "      <td>0.257508</td>\n",
       "      <td>1.000000</td>\n",
       "      <td>0.131411</td>\n",
       "      <td>0.247018</td>\n",
       "      <td>0.222981</td>\n",
       "      <td>0.277203</td>\n",
       "      <td>0.293556</td>\n",
       "      <td>0.139412</td>\n",
       "      <td>0.289566</td>\n",
       "      <td>0.305648</td>\n",
       "      <td>0.326204</td>\n",
       "      <td>0.284230</td>\n",
       "      <td>0.165757</td>\n",
       "      <td>-0.002183</td>\n",
       "    </tr>\n",
       "    <tr>\n",
       "      <th>OREB</th>\n",
       "      <td>-0.109912</td>\n",
       "      <td>0.011184</td>\n",
       "      <td>0.631969</td>\n",
       "      <td>0.648199</td>\n",
       "      <td>0.621688</td>\n",
       "      <td>0.549920</td>\n",
       "      <td>0.325982</td>\n",
       "      <td>0.167805</td>\n",
       "      <td>0.184159</td>\n",
       "      <td>-0.057460</td>\n",
       "      <td>0.530410</td>\n",
       "      <td>0.602774</td>\n",
       "      <td>0.131411</td>\n",
       "      <td>1.000000</td>\n",
       "      <td>0.839505</td>\n",
       "      <td>0.912147</td>\n",
       "      <td>0.352163</td>\n",
       "      <td>0.532048</td>\n",
       "      <td>0.789436</td>\n",
       "      <td>0.561010</td>\n",
       "      <td>0.742383</td>\n",
       "      <td>0.577853</td>\n",
       "      <td>-0.061449</td>\n",
       "      <td>-0.017656</td>\n",
       "      <td>-0.055705</td>\n",
       "    </tr>\n",
       "    <tr>\n",
       "      <th>DREB</th>\n",
       "      <td>-0.156640</td>\n",
       "      <td>0.001657</td>\n",
       "      <td>0.778727</td>\n",
       "      <td>0.863403</td>\n",
       "      <td>0.849106</td>\n",
       "      <td>0.811749</td>\n",
       "      <td>0.263902</td>\n",
       "      <td>0.512138</td>\n",
       "      <td>0.532997</td>\n",
       "      <td>0.110905</td>\n",
       "      <td>0.749466</td>\n",
       "      <td>0.793321</td>\n",
       "      <td>0.247018</td>\n",
       "      <td>0.839505</td>\n",
       "      <td>1.000000</td>\n",
       "      <td>0.988452</td>\n",
       "      <td>0.633233</td>\n",
       "      <td>0.743877</td>\n",
       "      <td>0.770701</td>\n",
       "      <td>0.804190</td>\n",
       "      <td>0.864838</td>\n",
       "      <td>0.827890</td>\n",
       "      <td>0.041140</td>\n",
       "      <td>-0.029399</td>\n",
       "      <td>-0.058919</td>\n",
       "    </tr>\n",
       "    <tr>\n",
       "      <th>REB</th>\n",
       "      <td>-0.148810</td>\n",
       "      <td>0.004369</td>\n",
       "      <td>0.763661</td>\n",
       "      <td>0.832060</td>\n",
       "      <td>0.813882</td>\n",
       "      <td>0.765688</td>\n",
       "      <td>0.289980</td>\n",
       "      <td>0.433116</td>\n",
       "      <td>0.453412</td>\n",
       "      <td>0.067633</td>\n",
       "      <td>0.713265</td>\n",
       "      <td>0.766527</td>\n",
       "      <td>0.222981</td>\n",
       "      <td>0.912147</td>\n",
       "      <td>0.988452</td>\n",
       "      <td>1.000000</td>\n",
       "      <td>0.575877</td>\n",
       "      <td>0.709506</td>\n",
       "      <td>0.801523</td>\n",
       "      <td>0.763078</td>\n",
       "      <td>0.859410</td>\n",
       "      <td>0.785653</td>\n",
       "      <td>0.013895</td>\n",
       "      <td>-0.027100</td>\n",
       "      <td>-0.059979</td>\n",
       "    </tr>\n",
       "    <tr>\n",
       "      <th>AST</th>\n",
       "      <td>-0.135265</td>\n",
       "      <td>-0.004141</td>\n",
       "      <td>0.641628</td>\n",
       "      <td>0.782064</td>\n",
       "      <td>0.800472</td>\n",
       "      <td>0.818309</td>\n",
       "      <td>0.108616</td>\n",
       "      <td>0.648098</td>\n",
       "      <td>0.673434</td>\n",
       "      <td>0.214082</td>\n",
       "      <td>0.762744</td>\n",
       "      <td>0.751365</td>\n",
       "      <td>0.277203</td>\n",
       "      <td>0.352163</td>\n",
       "      <td>0.633233</td>\n",
       "      <td>0.575877</td>\n",
       "      <td>1.000000</td>\n",
       "      <td>0.802707</td>\n",
       "      <td>0.331769</td>\n",
       "      <td>0.900175</td>\n",
       "      <td>0.654129</td>\n",
       "      <td>0.811318</td>\n",
       "      <td>0.299950</td>\n",
       "      <td>-0.052157</td>\n",
       "      <td>-0.013428</td>\n",
       "    </tr>\n",
       "    <tr>\n",
       "      <th>STL</th>\n",
       "      <td>-0.145904</td>\n",
       "      <td>0.008992</td>\n",
       "      <td>0.793582</td>\n",
       "      <td>0.891649</td>\n",
       "      <td>0.826520</td>\n",
       "      <td>0.840381</td>\n",
       "      <td>0.153833</td>\n",
       "      <td>0.675628</td>\n",
       "      <td>0.700463</td>\n",
       "      <td>0.215546</td>\n",
       "      <td>0.724325</td>\n",
       "      <td>0.734133</td>\n",
       "      <td>0.293556</td>\n",
       "      <td>0.532048</td>\n",
       "      <td>0.743877</td>\n",
       "      <td>0.709506</td>\n",
       "      <td>0.802707</td>\n",
       "      <td>1.000000</td>\n",
       "      <td>0.514731</td>\n",
       "      <td>0.836240</td>\n",
       "      <td>0.818190</td>\n",
       "      <td>0.825914</td>\n",
       "      <td>0.191271</td>\n",
       "      <td>0.140414</td>\n",
       "      <td>-0.080983</td>\n",
       "    </tr>\n",
       "    <tr>\n",
       "      <th>BLK</th>\n",
       "      <td>-0.102621</td>\n",
       "      <td>0.010280</td>\n",
       "      <td>0.584382</td>\n",
       "      <td>0.615610</td>\n",
       "      <td>0.593338</td>\n",
       "      <td>0.533224</td>\n",
       "      <td>0.286858</td>\n",
       "      <td>0.228744</td>\n",
       "      <td>0.244097</td>\n",
       "      <td>-0.011971</td>\n",
       "      <td>0.518752</td>\n",
       "      <td>0.575817</td>\n",
       "      <td>0.139412</td>\n",
       "      <td>0.789436</td>\n",
       "      <td>0.770701</td>\n",
       "      <td>0.801523</td>\n",
       "      <td>0.331769</td>\n",
       "      <td>0.514731</td>\n",
       "      <td>1.000000</td>\n",
       "      <td>0.528456</td>\n",
       "      <td>0.703598</td>\n",
       "      <td>0.562157</td>\n",
       "      <td>-0.054179</td>\n",
       "      <td>-0.002555</td>\n",
       "      <td>-0.049679</td>\n",
       "    </tr>\n",
       "    <tr>\n",
       "      <th>TOV</th>\n",
       "      <td>-0.154991</td>\n",
       "      <td>0.003419</td>\n",
       "      <td>0.746314</td>\n",
       "      <td>0.879963</td>\n",
       "      <td>0.918302</td>\n",
       "      <td>0.922310</td>\n",
       "      <td>0.168595</td>\n",
       "      <td>0.668914</td>\n",
       "      <td>0.698725</td>\n",
       "      <td>0.186269</td>\n",
       "      <td>0.877245</td>\n",
       "      <td>0.885355</td>\n",
       "      <td>0.289566</td>\n",
       "      <td>0.561010</td>\n",
       "      <td>0.804190</td>\n",
       "      <td>0.763078</td>\n",
       "      <td>0.900175</td>\n",
       "      <td>0.836240</td>\n",
       "      <td>0.528456</td>\n",
       "      <td>1.000000</td>\n",
       "      <td>0.808726</td>\n",
       "      <td>0.922309</td>\n",
       "      <td>0.110860</td>\n",
       "      <td>-0.106007</td>\n",
       "      <td>-0.072336</td>\n",
       "    </tr>\n",
       "    <tr>\n",
       "      <th>PF</th>\n",
       "      <td>-0.141904</td>\n",
       "      <td>0.013666</td>\n",
       "      <td>0.899193</td>\n",
       "      <td>0.918760</td>\n",
       "      <td>0.829154</td>\n",
       "      <td>0.818795</td>\n",
       "      <td>0.247888</td>\n",
       "      <td>0.600343</td>\n",
       "      <td>0.624145</td>\n",
       "      <td>0.166977</td>\n",
       "      <td>0.696178</td>\n",
       "      <td>0.728401</td>\n",
       "      <td>0.305648</td>\n",
       "      <td>0.742383</td>\n",
       "      <td>0.864838</td>\n",
       "      <td>0.859410</td>\n",
       "      <td>0.654129</td>\n",
       "      <td>0.818190</td>\n",
       "      <td>0.703598</td>\n",
       "      <td>0.808726</td>\n",
       "      <td>1.000000</td>\n",
       "      <td>0.813275</td>\n",
       "      <td>0.072931</td>\n",
       "      <td>0.019282</td>\n",
       "      <td>-0.087754</td>\n",
       "    </tr>\n",
       "    <tr>\n",
       "      <th>PTS</th>\n",
       "      <td>-0.142836</td>\n",
       "      <td>0.001873</td>\n",
       "      <td>0.772622</td>\n",
       "      <td>0.925742</td>\n",
       "      <td>0.994106</td>\n",
       "      <td>0.990918</td>\n",
       "      <td>0.192134</td>\n",
       "      <td>0.781511</td>\n",
       "      <td>0.797902</td>\n",
       "      <td>0.234271</td>\n",
       "      <td>0.923134</td>\n",
       "      <td>0.918558</td>\n",
       "      <td>0.326204</td>\n",
       "      <td>0.577853</td>\n",
       "      <td>0.827890</td>\n",
       "      <td>0.785653</td>\n",
       "      <td>0.811318</td>\n",
       "      <td>0.825914</td>\n",
       "      <td>0.562157</td>\n",
       "      <td>0.922309</td>\n",
       "      <td>0.813275</td>\n",
       "      <td>1.000000</td>\n",
       "      <td>0.116353</td>\n",
       "      <td>-0.051312</td>\n",
       "      <td>-0.026022</td>\n",
       "    </tr>\n",
       "    <tr>\n",
       "      <th>AST_TOV</th>\n",
       "      <td>-0.030511</td>\n",
       "      <td>-0.001289</td>\n",
       "      <td>0.140766</td>\n",
       "      <td>0.151430</td>\n",
       "      <td>0.110229</td>\n",
       "      <td>0.129581</td>\n",
       "      <td>0.030845</td>\n",
       "      <td>0.173807</td>\n",
       "      <td>0.176925</td>\n",
       "      <td>0.243417</td>\n",
       "      <td>0.077694</td>\n",
       "      <td>0.061616</td>\n",
       "      <td>0.284230</td>\n",
       "      <td>-0.061449</td>\n",
       "      <td>0.041140</td>\n",
       "      <td>0.013895</td>\n",
       "      <td>0.299950</td>\n",
       "      <td>0.191271</td>\n",
       "      <td>-0.054179</td>\n",
       "      <td>0.110860</td>\n",
       "      <td>0.072931</td>\n",
       "      <td>0.116353</td>\n",
       "      <td>1.000000</td>\n",
       "      <td>0.473018</td>\n",
       "      <td>0.108705</td>\n",
       "    </tr>\n",
       "    <tr>\n",
       "      <th>STL_TOV</th>\n",
       "      <td>0.004158</td>\n",
       "      <td>0.021255</td>\n",
       "      <td>0.067941</td>\n",
       "      <td>0.022777</td>\n",
       "      <td>-0.051543</td>\n",
       "      <td>-0.043599</td>\n",
       "      <td>0.061315</td>\n",
       "      <td>0.025162</td>\n",
       "      <td>0.025157</td>\n",
       "      <td>0.115861</td>\n",
       "      <td>-0.084490</td>\n",
       "      <td>-0.084144</td>\n",
       "      <td>0.165757</td>\n",
       "      <td>-0.017656</td>\n",
       "      <td>-0.029399</td>\n",
       "      <td>-0.027100</td>\n",
       "      <td>-0.052157</td>\n",
       "      <td>0.140414</td>\n",
       "      <td>-0.002555</td>\n",
       "      <td>-0.106007</td>\n",
       "      <td>0.019282</td>\n",
       "      <td>-0.051312</td>\n",
       "      <td>0.473018</td>\n",
       "      <td>1.000000</td>\n",
       "      <td>0.028753</td>\n",
       "    </tr>\n",
       "    <tr>\n",
       "      <th>season_start_year</th>\n",
       "      <td>0.522994</td>\n",
       "      <td>0.004495</td>\n",
       "      <td>-0.093905</td>\n",
       "      <td>-0.075129</td>\n",
       "      <td>-0.032219</td>\n",
       "      <td>-0.047251</td>\n",
       "      <td>0.026120</td>\n",
       "      <td>0.055227</td>\n",
       "      <td>0.051998</td>\n",
       "      <td>0.075214</td>\n",
       "      <td>-0.046016</td>\n",
       "      <td>-0.056982</td>\n",
       "      <td>-0.002183</td>\n",
       "      <td>-0.055705</td>\n",
       "      <td>-0.058919</td>\n",
       "      <td>-0.059979</td>\n",
       "      <td>-0.013428</td>\n",
       "      <td>-0.080983</td>\n",
       "      <td>-0.049679</td>\n",
       "      <td>-0.072336</td>\n",
       "      <td>-0.087754</td>\n",
       "      <td>-0.026022</td>\n",
       "      <td>0.108705</td>\n",
       "      <td>0.028753</td>\n",
       "      <td>1.000000</td>\n",
       "    </tr>\n",
       "  </tbody>\n",
       "</table>\n",
       "</div>"
      ],
      "text/plain": [
       "                   PLAYER_ID   TEAM_ID        GP       MIN       FGM  \\\n",
       "PLAYER_ID           1.000000  0.033575 -0.119456 -0.162634 -0.141873   \n",
       "TEAM_ID             0.033575  1.000000  0.019021  0.009486  0.003464   \n",
       "GP                 -0.119456  0.019021  1.000000  0.907242  0.785030   \n",
       "MIN                -0.162634  0.009486  0.907242  1.000000  0.931808   \n",
       "FGM                -0.141873  0.003464  0.785030  0.931808  1.000000   \n",
       "FGA                -0.145702  0.008297  0.791830  0.937689  0.988873   \n",
       "FG_PCT             -0.046256 -0.025670  0.220367  0.200566  0.212604   \n",
       "FG3M               -0.082035 -0.017602  0.640553  0.757677  0.742857   \n",
       "FG3A               -0.078484 -0.014214  0.663913  0.778310  0.759899   \n",
       "FG3_PCT            -0.008047 -0.017865  0.214713  0.235934  0.218195   \n",
       "FTM                -0.150019  0.007280  0.629133  0.791924  0.895046   \n",
       "FTA                -0.151875  0.008583  0.649477  0.804190  0.898652   \n",
       "FT_PCT             -0.109159 -0.005658  0.353079  0.343118  0.315865   \n",
       "OREB               -0.109912  0.011184  0.631969  0.648199  0.621688   \n",
       "DREB               -0.156640  0.001657  0.778727  0.863403  0.849106   \n",
       "REB                -0.148810  0.004369  0.763661  0.832060  0.813882   \n",
       "AST                -0.135265 -0.004141  0.641628  0.782064  0.800472   \n",
       "STL                -0.145904  0.008992  0.793582  0.891649  0.826520   \n",
       "BLK                -0.102621  0.010280  0.584382  0.615610  0.593338   \n",
       "TOV                -0.154991  0.003419  0.746314  0.879963  0.918302   \n",
       "PF                 -0.141904  0.013666  0.899193  0.918760  0.829154   \n",
       "PTS                -0.142836  0.001873  0.772622  0.925742  0.994106   \n",
       "AST_TOV            -0.030511 -0.001289  0.140766  0.151430  0.110229   \n",
       "STL_TOV             0.004158  0.021255  0.067941  0.022777 -0.051543   \n",
       "season_start_year   0.522994  0.004495 -0.093905 -0.075129 -0.032219   \n",
       "\n",
       "                        FGA    FG_PCT      FG3M      FG3A   FG3_PCT       FTM  \\\n",
       "PLAYER_ID         -0.145702 -0.046256 -0.082035 -0.078484 -0.008047 -0.150019   \n",
       "TEAM_ID            0.008297 -0.025670 -0.017602 -0.014214 -0.017865  0.007280   \n",
       "GP                 0.791830  0.220367  0.640553  0.663913  0.214713  0.629133   \n",
       "MIN                0.937689  0.200566  0.757677  0.778310  0.235934  0.791924   \n",
       "FGM                0.988873  0.212604  0.742857  0.759899  0.218195  0.895046   \n",
       "FGA                1.000000  0.160471  0.798843  0.821098  0.244652  0.886225   \n",
       "FG_PCT             0.160471  1.000000  0.029972  0.018762  0.172806  0.170238   \n",
       "FG3M               0.798843  0.029972  1.000000  0.991971  0.369321  0.613028   \n",
       "FG3A               0.821098  0.018762  0.991971  1.000000  0.353449  0.637899   \n",
       "FG3_PCT            0.244652  0.172806  0.369321  0.353449  1.000000  0.158551   \n",
       "FTM                0.886225  0.170238  0.613028  0.637899  0.158551  1.000000   \n",
       "FTA                0.881306  0.195325  0.571635  0.599210  0.131010  0.988560   \n",
       "FT_PCT             0.332753  0.196637  0.333385  0.339496  0.291776  0.284966   \n",
       "OREB               0.549920  0.325982  0.167805  0.184159 -0.057460  0.530410   \n",
       "DREB               0.811749  0.263902  0.512138  0.532997  0.110905  0.749466   \n",
       "REB                0.765688  0.289980  0.433116  0.453412  0.067633  0.713265   \n",
       "AST                0.818309  0.108616  0.648098  0.673434  0.214082  0.762744   \n",
       "STL                0.840381  0.153833  0.675628  0.700463  0.215546  0.724325   \n",
       "BLK                0.533224  0.286858  0.228744  0.244097 -0.011971  0.518752   \n",
       "TOV                0.922310  0.168595  0.668914  0.698725  0.186269  0.877245   \n",
       "PF                 0.818795  0.247888  0.600343  0.624145  0.166977  0.696178   \n",
       "PTS                0.990918  0.192134  0.781511  0.797902  0.234271  0.923134   \n",
       "AST_TOV            0.129581  0.030845  0.173807  0.176925  0.243417  0.077694   \n",
       "STL_TOV           -0.043599  0.061315  0.025162  0.025157  0.115861 -0.084490   \n",
       "season_start_year -0.047251  0.026120  0.055227  0.051998  0.075214 -0.046016   \n",
       "\n",
       "                        FTA    FT_PCT      OREB      DREB       REB       AST  \\\n",
       "PLAYER_ID         -0.151875 -0.109159 -0.109912 -0.156640 -0.148810 -0.135265   \n",
       "TEAM_ID            0.008583 -0.005658  0.011184  0.001657  0.004369 -0.004141   \n",
       "GP                 0.649477  0.353079  0.631969  0.778727  0.763661  0.641628   \n",
       "MIN                0.804190  0.343118  0.648199  0.863403  0.832060  0.782064   \n",
       "FGM                0.898652  0.315865  0.621688  0.849106  0.813882  0.800472   \n",
       "FGA                0.881306  0.332753  0.549920  0.811749  0.765688  0.818309   \n",
       "FG_PCT             0.195325  0.196637  0.325982  0.263902  0.289980  0.108616   \n",
       "FG3M               0.571635  0.333385  0.167805  0.512138  0.433116  0.648098   \n",
       "FG3A               0.599210  0.339496  0.184159  0.532997  0.453412  0.673434   \n",
       "FG3_PCT            0.131010  0.291776 -0.057460  0.110905  0.067633  0.214082   \n",
       "FTM                0.988560  0.284966  0.530410  0.749466  0.713265  0.762744   \n",
       "FTA                1.000000  0.257508  0.602774  0.793321  0.766527  0.751365   \n",
       "FT_PCT             0.257508  1.000000  0.131411  0.247018  0.222981  0.277203   \n",
       "OREB               0.602774  0.131411  1.000000  0.839505  0.912147  0.352163   \n",
       "DREB               0.793321  0.247018  0.839505  1.000000  0.988452  0.633233   \n",
       "REB                0.766527  0.222981  0.912147  0.988452  1.000000  0.575877   \n",
       "AST                0.751365  0.277203  0.352163  0.633233  0.575877  1.000000   \n",
       "STL                0.734133  0.293556  0.532048  0.743877  0.709506  0.802707   \n",
       "BLK                0.575817  0.139412  0.789436  0.770701  0.801523  0.331769   \n",
       "TOV                0.885355  0.289566  0.561010  0.804190  0.763078  0.900175   \n",
       "PF                 0.728401  0.305648  0.742383  0.864838  0.859410  0.654129   \n",
       "PTS                0.918558  0.326204  0.577853  0.827890  0.785653  0.811318   \n",
       "AST_TOV            0.061616  0.284230 -0.061449  0.041140  0.013895  0.299950   \n",
       "STL_TOV           -0.084144  0.165757 -0.017656 -0.029399 -0.027100 -0.052157   \n",
       "season_start_year -0.056982 -0.002183 -0.055705 -0.058919 -0.059979 -0.013428   \n",
       "\n",
       "                        STL       BLK       TOV        PF       PTS   AST_TOV  \\\n",
       "PLAYER_ID         -0.145904 -0.102621 -0.154991 -0.141904 -0.142836 -0.030511   \n",
       "TEAM_ID            0.008992  0.010280  0.003419  0.013666  0.001873 -0.001289   \n",
       "GP                 0.793582  0.584382  0.746314  0.899193  0.772622  0.140766   \n",
       "MIN                0.891649  0.615610  0.879963  0.918760  0.925742  0.151430   \n",
       "FGM                0.826520  0.593338  0.918302  0.829154  0.994106  0.110229   \n",
       "FGA                0.840381  0.533224  0.922310  0.818795  0.990918  0.129581   \n",
       "FG_PCT             0.153833  0.286858  0.168595  0.247888  0.192134  0.030845   \n",
       "FG3M               0.675628  0.228744  0.668914  0.600343  0.781511  0.173807   \n",
       "FG3A               0.700463  0.244097  0.698725  0.624145  0.797902  0.176925   \n",
       "FG3_PCT            0.215546 -0.011971  0.186269  0.166977  0.234271  0.243417   \n",
       "FTM                0.724325  0.518752  0.877245  0.696178  0.923134  0.077694   \n",
       "FTA                0.734133  0.575817  0.885355  0.728401  0.918558  0.061616   \n",
       "FT_PCT             0.293556  0.139412  0.289566  0.305648  0.326204  0.284230   \n",
       "OREB               0.532048  0.789436  0.561010  0.742383  0.577853 -0.061449   \n",
       "DREB               0.743877  0.770701  0.804190  0.864838  0.827890  0.041140   \n",
       "REB                0.709506  0.801523  0.763078  0.859410  0.785653  0.013895   \n",
       "AST                0.802707  0.331769  0.900175  0.654129  0.811318  0.299950   \n",
       "STL                1.000000  0.514731  0.836240  0.818190  0.825914  0.191271   \n",
       "BLK                0.514731  1.000000  0.528456  0.703598  0.562157 -0.054179   \n",
       "TOV                0.836240  0.528456  1.000000  0.808726  0.922309  0.110860   \n",
       "PF                 0.818190  0.703598  0.808726  1.000000  0.813275  0.072931   \n",
       "PTS                0.825914  0.562157  0.922309  0.813275  1.000000  0.116353   \n",
       "AST_TOV            0.191271 -0.054179  0.110860  0.072931  0.116353  1.000000   \n",
       "STL_TOV            0.140414 -0.002555 -0.106007  0.019282 -0.051312  0.473018   \n",
       "season_start_year -0.080983 -0.049679 -0.072336 -0.087754 -0.026022  0.108705   \n",
       "\n",
       "                    STL_TOV  season_start_year  \n",
       "PLAYER_ID          0.004158           0.522994  \n",
       "TEAM_ID            0.021255           0.004495  \n",
       "GP                 0.067941          -0.093905  \n",
       "MIN                0.022777          -0.075129  \n",
       "FGM               -0.051543          -0.032219  \n",
       "FGA               -0.043599          -0.047251  \n",
       "FG_PCT             0.061315           0.026120  \n",
       "FG3M               0.025162           0.055227  \n",
       "FG3A               0.025157           0.051998  \n",
       "FG3_PCT            0.115861           0.075214  \n",
       "FTM               -0.084490          -0.046016  \n",
       "FTA               -0.084144          -0.056982  \n",
       "FT_PCT             0.165757          -0.002183  \n",
       "OREB              -0.017656          -0.055705  \n",
       "DREB              -0.029399          -0.058919  \n",
       "REB               -0.027100          -0.059979  \n",
       "AST               -0.052157          -0.013428  \n",
       "STL                0.140414          -0.080983  \n",
       "BLK               -0.002555          -0.049679  \n",
       "TOV               -0.106007          -0.072336  \n",
       "PF                 0.019282          -0.087754  \n",
       "PTS               -0.051312          -0.026022  \n",
       "AST_TOV            0.473018           0.108705  \n",
       "STL_TOV            1.000000           0.028753  \n",
       "season_start_year  0.028753           1.000000  "
      ]
     },
     "execution_count": 15,
     "metadata": {},
     "output_type": "execute_result"
    }
   ],
   "source": [
    "data.corr(numeric_only=True)"
   ]
  },
  {
   "cell_type": "markdown",
   "id": "67574e09-b9f1-4900-b2b0-86300a94000c",
   "metadata": {},
   "source": [
    "## correlation of player stats"
   ]
  },
  {
   "cell_type": "code",
   "execution_count": 16,
   "id": "118c334c-ccd4-4f25-a8b8-7b1287f08b2d",
   "metadata": {},
   "outputs": [
    {
     "data": {
      "image/png": "[encoded data removed]",
      "text/plain": [
       "<Figure size 1200x1000 with 2 Axes>"
      ]
     },
     "metadata": {},
     "output_type": "display_data"
    }
   ],
   "source": [
    "\n",
    "data_per_min = data.groupby(['PLAYER','PLAYER_ID','Year'])[total_cols].sum().reset_index()\n",
    "for col in data_per_min.columns[4:]:\n",
    "    data_per_min[col] = data_per_min[col]/data_per_min['MIN'] \n",
    "# Compute correlation matrix\n",
    "corr_matrix = data_per_min.corr(numeric_only=True)\n",
    "\n",
    "# Create a seaborn heatmap\n",
    "plt.figure(figsize=(12, 10))\n",
    "sns.heatmap(corr_matrix, annot=True, fmt=\".2f\", cmap=\"coolwarm\", center=0, square=True)\n",
    "plt.title(\"Correlation Analysis\", fontsize=16)\n",
    "plt.tight_layout()\n",
    "plt.show()\n"
   ]
  },
  {
   "cell_type": "markdown",
   "id": "4e84261a-3435-48ec-815c-2069eb605e81",
   "metadata": {},
   "source": [
    "## minutes played by a player"
   ]
  },
  {
   "cell_type": "code",
   "execution_count": 17,
   "id": "a514f13e-1e49-4365-b6fd-82ec3795d1c0",
   "metadata": {},
   "outputs": [
    {
     "data": {
      "image/png": "[encoded data removed]",
      "text/plain": [
       "<Figure size 1000x700 with 1 Axes>"
      ]
     },
     "metadata": {},
     "output_type": "display_data"
    }
   ],
   "source": [
    "\n",
    "sns.set(style=\"whitegrid\")\n",
    "plt.figure(figsize=(10, 7))\n",
    "\n",
    "sns.histplot(\n",
    "    rs_df['MIN'],\n",
    "    stat='percent',\n",
    "    bins=30,\n",
    "    color='dodgerblue',      \n",
    "    edgecolor='white'\n",
    ")\n",
    "\n",
    "plt.xlabel('Minutes', fontsize=13)\n",
    "plt.ylabel('Percentage of Players', fontsize=13)\n",
    "plt.title('Distribution of Minutes in Regular Season', fontsize=16, weight='bold', pad=15)\n",
    "plt.yticks(fontsize=11)\n",
    "plt.grid(True, linestyle='--', linewidth=0.5, alpha=0.7)\n",
    "plt.tight_layout()\n",
    "\n",
    "plt.show()"
   ]
  },
  {
   "cell_type": "code",
   "execution_count": 18,
   "id": "d45a3da3-e770-4bd9-a569-bb345b76a908",
   "metadata": {},
   "outputs": [
    {
     "data": {
      "image/png": "[encoded data removed]",
      "text/plain": [
       "<Figure size 1000x700 with 1 Axes>"
      ]
     },
     "metadata": {},
     "output_type": "display_data"
    }
   ],
   "source": [
    "\n",
    "sns.set(style=\"whitegrid\")\n",
    "plt.figure(figsize=(10, 7))\n",
    "\n",
    "\n",
    "sns.histplot(\n",
    "    playoffs_df['MIN'],\n",
    "    stat='percent',\n",
    "    bins=30,\n",
    "    color='mediumslateblue',  \n",
    "    edgecolor='white'\n",
    ")\n",
    "\n",
    "plt.xlabel('Minutes', fontsize=13)\n",
    "plt.ylabel('Percentage of Players', fontsize=13)\n",
    "plt.title('Distribution of Minutes in Playoffs', fontsize=16, weight='bold', pad=15)\n",
    "plt.xticks(fontsize=11)\n",
    "plt.yticks(fontsize=11)\n",
    "plt.grid(True, linestyle='--', linewidth=0.5, alpha=0.7)\n",
    "plt.tight_layout()\n",
    "\n",
    "plt.show()"
   ]
  },
  {
   "cell_type": "markdown",
   "id": "f3579e3d-260c-4bf7-a7ac-b48007b23ffb",
   "metadata": {},
   "source": [
    "## comparison of playoffs and regular season"
   ]
  },
  {
   "cell_type": "code",
   "execution_count": 19,
   "id": "90c42f6a-dbbb-470d-85d0-64719a37cf2a",
   "metadata": {},
   "outputs": [],
   "source": [
    " def hist_data(df=rs_df, min_MIN=0, min_GP=0):\n",
    "    return df.loc[(df['MIN']>=min_MIN) & (df['GP']>=min_GP), 'MIN']/\\\n",
    "    df.loc[(df['MIN']>=min_MIN) & (df['GP']>=min_GP), 'GP']"
   ]
  },
  {
   "cell_type": "code",
   "execution_count": 20,
   "id": "3810ab07-50cf-4731-9930-d9b1bd33bd56",
   "metadata": {},
   "outputs": [
    {
     "data": {
      "image/png": "[encoded data removed]",
      "text/plain": [
       "<Figure size 1000x700 with 1 Axes>"
      ]
     },
     "metadata": {},
     "output_type": "display_data"
    }
   ],
   "source": [
    "\n",
    "sns.set(style=\"whitegrid\")\n",
    "plt.figure(figsize=(10, 7))\n",
    "\n",
    "# Plot histogram for Regular Season\n",
    "sns.histplot(\n",
    "    hist_data(rs_df, 50, 5),\n",
    "    stat='percent',\n",
    "    bins=range(0, 47, 1),\n",
    "    color='dodgerblue',\n",
    "    label='Regular Season',\n",
    "    kde=False,\n",
    "    edgecolor='white',\n",
    "    alpha=0.5\n",
    ")\n",
    "\n",
    "# Plot histogram for Playoffs\n",
    "sns.histplot(\n",
    "    hist_data(playoffs_df, 5, 1),\n",
    "    stat='percent',\n",
    "    bins=range(0, 47, 1),\n",
    "    color='darkorange',\n",
    "    label='Playoffs',\n",
    "    kde=False,\n",
    "    edgecolor='white',\n",
    "    alpha=0.5\n",
    ")\n",
    "\n",
    "plt.xlabel('Minutes', fontsize=13)\n",
    "plt.ylabel('Percentage of Players', fontsize=13)\n",
    "plt.title('Regular Season vs Playoffs', fontsize=16, weight='bold', pad=15)\n",
    "plt.legend(title='Game Type', fontsize=11)\n",
    "plt.xticks(fontsize=11)\n",
    "plt.yticks(fontsize=11)\n",
    "plt.grid(True, linestyle='--', linewidth=0.5, alpha=0.7)\n",
    "plt.tight_layout()\n",
    "\n",
    "plt.show()"
   ]
  },
  {
   "cell_type": "code",
   "execution_count": 21,
   "id": "72e4eb6e-289a-4d37-a191-a401e7583794",
   "metadata": {},
   "outputs": [
    {
     "data": {
      "text/plain": [
       "0.5016094420600858"
      ]
     },
     "execution_count": 21,
     "metadata": {},
     "output_type": "execute_result"
    }
   ],
   "source": [
    "((hist_data(playoffs_df,5,1)>=12)&(hist_data(playoffs_df,5,1)<=34)).mean()"
   ]
  },
  {
   "cell_type": "code",
   "execution_count": 22,
   "id": "d4cca7c8-dc8e-411c-b0b2-df9d9124431a",
   "metadata": {},
   "outputs": [
    {
     "data": {
      "text/plain": [
       "0.7008055235903338"
      ]
     },
     "execution_count": 22,
     "metadata": {},
     "output_type": "execute_result"
    }
   ],
   "source": [
    "((hist_data(rs_df,5,1)>=12)&(hist_data(rs_df,5,1)<=34)).mean()"
   ]
  },
  {
   "cell_type": "code",
   "execution_count": 23,
   "id": "318e4aca-dc74-4649-9596-215623937b83",
   "metadata": {},
   "outputs": [],
   "source": [
    "def hist_data(df=rs_df, min_MIN=0, min_GP=0):\n",
    "    return df.loc[(df['MIN']>=min_MIN) & (df['GP']>=min_GP), 'PTS']/\\\n",
    "    df.loc[(df['MIN']>=min_MIN) & (df['GP']>=min_GP), 'GP']"
   ]
  },
  {
   "cell_type": "code",
   "execution_count": 24,
   "id": "1da39691-c698-469e-b6d8-c0def67c4489",
   "metadata": {},
   "outputs": [
    {
     "data": {
      "image/png": "[encoded data removed]",
      "text/plain": [
       "<Figure size 1000x700 with 1 Axes>"
      ]
     },
     "metadata": {},
     "output_type": "display_data"
    }
   ],
   "source": [
    "sns.set(style=\"whitegrid\")\n",
    "plt.figure(figsize=(10, 7))\n",
    "\n",
    "# Histogram for Regular Season\n",
    "sns.histplot(\n",
    "    hist_data(rs_df, 50, 5),\n",
    "    stat='percent',\n",
    "    bins=range(0, 39, 1), \n",
    "    color='royalblue',\n",
    "    label='Regular Season',\n",
    "    edgecolor='white',\n",
    "    alpha=0.5\n",
    ")\n",
    "\n",
    "# Histogram for Playoffs\n",
    "sns.histplot(\n",
    "    hist_data(playoffs_df, 5, 1),\n",
    "    stat='percent',\n",
    "    bins=range(0, 39, 1),\n",
    "    color='tomato',\n",
    "    label='Playoffs',\n",
    "    edgecolor='white',\n",
    "    alpha=0.5\n",
    ")\n",
    "\n",
    "\n",
    "plt.xlabel('Points', fontsize=13)\n",
    "plt.ylabel('Percentage of Players', fontsize=13)\n",
    "plt.title('Regular Season vs Playoffs', fontsize=16, weight='bold', pad=15)\n",
    "plt.legend(title='Game Type', fontsize=11)\n",
    "plt.xticks(fontsize=11)\n",
    "plt.yticks(fontsize=11)\n",
    "plt.grid(True, linestyle='--', linewidth=0.5, alpha=0.7)\n",
    "plt.tight_layout()\n",
    "\n",
    "plt.show()"
   ]
  },
  {
   "cell_type": "markdown",
   "id": "d43a197b-47f1-4864-9f68-1d63996cbca7",
   "metadata": {},
   "source": [
    "## How has the game changed over the past 10 years"
   ]
  },
  {
   "cell_type": "code",
   "execution_count": 25,
   "id": "878b0cdb",
   "metadata": {},
   "outputs": [
    {
     "name": "stdout",
     "output_type": "stream",
     "text": [
      "Index(['Year', 'Season_type', 'PLAYER_ID', 'PLAYER', 'TEAM_ID', 'TEAM', 'GP',\n",
      "       'MIN', 'FGM', 'FGA', 'FG_PCT', 'FG3M', 'FG3A', 'FG3_PCT', 'FTM', 'FTA',\n",
      "       'FT_PCT', 'OREB', 'DREB', 'REB', 'AST', 'STL', 'BLK', 'TOV', 'PF',\n",
      "       'PTS', 'AST_TOV', 'STL_TOV', 'season_start_year'],\n",
      "      dtype='object')\n"
     ]
    }
   ],
   "source": [
    "print(data.columns)\n"
   ]
  },
  {
   "cell_type": "code",
   "execution_count": 26,
   "id": "5495fa83-1ff5-4d37-8a20-f77c29f13baf",
   "metadata": {},
   "outputs": [
    {
     "data": {
      "text/html": [
       "<div>\n",
       "<style scoped>\n",
       "    .dataframe tbody tr th:only-of-type {\n",
       "        vertical-align: middle;\n",
       "    }\n",
       "\n",
       "    .dataframe tbody tr th {\n",
       "        vertical-align: top;\n",
       "    }\n",
       "\n",
       "    .dataframe thead th {\n",
       "        text-align: right;\n",
       "    }\n",
       "</style>\n",
       "<table border=\"1\" class=\"dataframe\">\n",
       "  <thead>\n",
       "    <tr style=\"text-align: right;\">\n",
       "      <th></th>\n",
       "      <th>season_start_year</th>\n",
       "      <th>MIN</th>\n",
       "      <th>POSS_est</th>\n",
       "      <th>FGM</th>\n",
       "      <th>FGA</th>\n",
       "      <th>FG3M</th>\n",
       "      <th>FG3A</th>\n",
       "      <th>FTM</th>\n",
       "      <th>FTA</th>\n",
       "      <th>OREB</th>\n",
       "      <th>DREB</th>\n",
       "      <th>REB</th>\n",
       "      <th>AST</th>\n",
       "      <th>STL</th>\n",
       "      <th>BLK</th>\n",
       "      <th>TOV</th>\n",
       "      <th>PF</th>\n",
       "      <th>PTS</th>\n",
       "      <th>FG%</th>\n",
       "      <th>3PT%</th>\n",
       "      <th>FT%</th>\n",
       "      <th>AST%</th>\n",
       "      <th>FG3A%</th>\n",
       "      <th>PTS/FGA</th>\n",
       "      <th>FG3M/FGM</th>\n",
       "      <th>FTA/FGA</th>\n",
       "      <th>TRU%</th>\n",
       "      <th>AST_TOV</th>\n",
       "    </tr>\n",
       "  </thead>\n",
       "  <tbody>\n",
       "    <tr>\n",
       "      <th>0</th>\n",
       "      <td>2014</td>\n",
       "      <td>634546</td>\n",
       "      <td>253004.12</td>\n",
       "      <td>98251</td>\n",
       "      <td>219265</td>\n",
       "      <td>20724</td>\n",
       "      <td>59276</td>\n",
       "      <td>45098</td>\n",
       "      <td>60248</td>\n",
       "      <td>28566</td>\n",
       "      <td>85231</td>\n",
       "      <td>113797</td>\n",
       "      <td>57727</td>\n",
       "      <td>20261</td>\n",
       "      <td>12665</td>\n",
       "      <td>35796</td>\n",
       "      <td>53272</td>\n",
       "      <td>262324</td>\n",
       "      <td>0.448092</td>\n",
       "      <td>0.349619</td>\n",
       "      <td>0.748539</td>\n",
       "      <td>0.587546</td>\n",
       "      <td>0.270340</td>\n",
       "      <td>1.196379</td>\n",
       "      <td>0.210929</td>\n",
       "      <td>0.274773</td>\n",
       "      <td>0.529129</td>\n",
       "      <td>1.612666</td>\n",
       "    </tr>\n",
       "    <tr>\n",
       "      <th>1</th>\n",
       "      <td>2015</td>\n",
       "      <td>636391</td>\n",
       "      <td>258064.80</td>\n",
       "      <td>100351</td>\n",
       "      <td>222344</td>\n",
       "      <td>22524</td>\n",
       "      <td>63673</td>\n",
       "      <td>46516</td>\n",
       "      <td>61520</td>\n",
       "      <td>27426</td>\n",
       "      <td>87611</td>\n",
       "      <td>115037</td>\n",
       "      <td>58251</td>\n",
       "      <td>20562</td>\n",
       "      <td>13046</td>\n",
       "      <td>36078</td>\n",
       "      <td>53478</td>\n",
       "      <td>269742</td>\n",
       "      <td>0.451332</td>\n",
       "      <td>0.353745</td>\n",
       "      <td>0.756112</td>\n",
       "      <td>0.580473</td>\n",
       "      <td>0.286372</td>\n",
       "      <td>1.213174</td>\n",
       "      <td>0.224452</td>\n",
       "      <td>0.276688</td>\n",
       "      <td>0.536126</td>\n",
       "      <td>1.614585</td>\n",
       "    </tr>\n",
       "    <tr>\n",
       "      <th>2</th>\n",
       "      <td>2016</td>\n",
       "      <td>632482</td>\n",
       "      <td>258443.80</td>\n",
       "      <td>102147</td>\n",
       "      <td>223333</td>\n",
       "      <td>25408</td>\n",
       "      <td>71018</td>\n",
       "      <td>46806</td>\n",
       "      <td>60620</td>\n",
       "      <td>26470</td>\n",
       "      <td>87173</td>\n",
       "      <td>113643</td>\n",
       "      <td>59162</td>\n",
       "      <td>20143</td>\n",
       "      <td>12409</td>\n",
       "      <td>34908</td>\n",
       "      <td>52232</td>\n",
       "      <td>276508</td>\n",
       "      <td>0.457375</td>\n",
       "      <td>0.357768</td>\n",
       "      <td>0.772121</td>\n",
       "      <td>0.579185</td>\n",
       "      <td>0.317992</td>\n",
       "      <td>1.238097</td>\n",
       "      <td>0.248740</td>\n",
       "      <td>0.271433</td>\n",
       "      <td>0.548350</td>\n",
       "      <td>1.694798</td>\n",
       "    </tr>\n",
       "    <tr>\n",
       "      <th>3</th>\n",
       "      <td>2017</td>\n",
       "      <td>633425</td>\n",
       "      <td>260904.52</td>\n",
       "      <td>103729</td>\n",
       "      <td>225523</td>\n",
       "      <td>27530</td>\n",
       "      <td>76245</td>\n",
       "      <td>43721</td>\n",
       "      <td>57008</td>\n",
       "      <td>25397</td>\n",
       "      <td>88678</td>\n",
       "      <td>114075</td>\n",
       "      <td>60739</td>\n",
       "      <td>20181</td>\n",
       "      <td>12636</td>\n",
       "      <td>35695</td>\n",
       "      <td>52238</td>\n",
       "      <td>278709</td>\n",
       "      <td>0.459949</td>\n",
       "      <td>0.361073</td>\n",
       "      <td>0.766927</td>\n",
       "      <td>0.585555</td>\n",
       "      <td>0.338081</td>\n",
       "      <td>1.235834</td>\n",
       "      <td>0.265403</td>\n",
       "      <td>0.252781</td>\n",
       "      <td>0.551677</td>\n",
       "      <td>1.701611</td>\n",
       "    </tr>\n",
       "    <tr>\n",
       "      <th>4</th>\n",
       "      <td>2018</td>\n",
       "      <td>634231</td>\n",
       "      <td>268739.84</td>\n",
       "      <td>107374</td>\n",
       "      <td>233717</td>\n",
       "      <td>29817</td>\n",
       "      <td>84143</td>\n",
       "      <td>46671</td>\n",
       "      <td>60811</td>\n",
       "      <td>27128</td>\n",
       "      <td>91360</td>\n",
       "      <td>118488</td>\n",
       "      <td>64257</td>\n",
       "      <td>19940</td>\n",
       "      <td>12984</td>\n",
       "      <td>35394</td>\n",
       "      <td>55063</td>\n",
       "      <td>291236</td>\n",
       "      <td>0.459419</td>\n",
       "      <td>0.354361</td>\n",
       "      <td>0.767476</td>\n",
       "      <td>0.598441</td>\n",
       "      <td>0.360021</td>\n",
       "      <td>1.246105</td>\n",
       "      <td>0.277693</td>\n",
       "      <td>0.260191</td>\n",
       "      <td>0.554519</td>\n",
       "      <td>1.815477</td>\n",
       "    </tr>\n",
       "    <tr>\n",
       "      <th>5</th>\n",
       "      <td>2019</td>\n",
       "      <td>552262</td>\n",
       "      <td>234384.64</td>\n",
       "      <td>92997</td>\n",
       "      <td>202223</td>\n",
       "      <td>28032</td>\n",
       "      <td>78279</td>\n",
       "      <td>40949</td>\n",
       "      <td>52906</td>\n",
       "      <td>22802</td>\n",
       "      <td>79318</td>\n",
       "      <td>102120</td>\n",
       "      <td>55445</td>\n",
       "      <td>17368</td>\n",
       "      <td>11085</td>\n",
       "      <td>31685</td>\n",
       "      <td>47615</td>\n",
       "      <td>254975</td>\n",
       "      <td>0.459874</td>\n",
       "      <td>0.358104</td>\n",
       "      <td>0.773995</td>\n",
       "      <td>0.596202</td>\n",
       "      <td>0.387092</td>\n",
       "      <td>1.260861</td>\n",
       "      <td>0.301429</td>\n",
       "      <td>0.261622</td>\n",
       "      <td>0.560746</td>\n",
       "      <td>1.749882</td>\n",
       "    </tr>\n",
       "    <tr>\n",
       "      <th>6</th>\n",
       "      <td>2020</td>\n",
       "      <td>562518</td>\n",
       "      <td>235759.48</td>\n",
       "      <td>95849</td>\n",
       "      <td>205754</td>\n",
       "      <td>29549</td>\n",
       "      <td>80653</td>\n",
       "      <td>39624</td>\n",
       "      <td>50917</td>\n",
       "      <td>22918</td>\n",
       "      <td>80151</td>\n",
       "      <td>103069</td>\n",
       "      <td>57311</td>\n",
       "      <td>17491</td>\n",
       "      <td>11272</td>\n",
       "      <td>30520</td>\n",
       "      <td>45152</td>\n",
       "      <td>260871</td>\n",
       "      <td>0.465843</td>\n",
       "      <td>0.366372</td>\n",
       "      <td>0.778208</td>\n",
       "      <td>0.597930</td>\n",
       "      <td>0.391988</td>\n",
       "      <td>1.267878</td>\n",
       "      <td>0.308287</td>\n",
       "      <td>0.247465</td>\n",
       "      <td>0.567260</td>\n",
       "      <td>1.877818</td>\n",
       "    </tr>\n",
       "    <tr>\n",
       "      <th>7</th>\n",
       "      <td>2021</td>\n",
       "      <td>635572</td>\n",
       "      <td>264004.96</td>\n",
       "      <td>106569</td>\n",
       "      <td>231293</td>\n",
       "      <td>32733</td>\n",
       "      <td>92552</td>\n",
       "      <td>44740</td>\n",
       "      <td>57709</td>\n",
       "      <td>27052</td>\n",
       "      <td>89602</td>\n",
       "      <td>116654</td>\n",
       "      <td>64618</td>\n",
       "      <td>20006</td>\n",
       "      <td>12387</td>\n",
       "      <td>34372</td>\n",
       "      <td>52038</td>\n",
       "      <td>290611</td>\n",
       "      <td>0.460753</td>\n",
       "      <td>0.353671</td>\n",
       "      <td>0.775269</td>\n",
       "      <td>0.606349</td>\n",
       "      <td>0.400150</td>\n",
       "      <td>1.256463</td>\n",
       "      <td>0.307153</td>\n",
       "      <td>0.249506</td>\n",
       "      <td>0.561665</td>\n",
       "      <td>1.879960</td>\n",
       "    </tr>\n",
       "    <tr>\n",
       "      <th>8</th>\n",
       "      <td>2022</td>\n",
       "      <td>635386</td>\n",
       "      <td>266600.04</td>\n",
       "      <td>110010</td>\n",
       "      <td>231870</td>\n",
       "      <td>32382</td>\n",
       "      <td>89926</td>\n",
       "      <td>48136</td>\n",
       "      <td>61516</td>\n",
       "      <td>27403</td>\n",
       "      <td>86695</td>\n",
       "      <td>114098</td>\n",
       "      <td>66265</td>\n",
       "      <td>19078</td>\n",
       "      <td>12250</td>\n",
       "      <td>35066</td>\n",
       "      <td>52438</td>\n",
       "      <td>300538</td>\n",
       "      <td>0.474447</td>\n",
       "      <td>0.360096</td>\n",
       "      <td>0.782496</td>\n",
       "      <td>0.602354</td>\n",
       "      <td>0.387829</td>\n",
       "      <td>1.296149</td>\n",
       "      <td>0.294355</td>\n",
       "      <td>0.265304</td>\n",
       "      <td>0.575545</td>\n",
       "      <td>1.889722</td>\n",
       "    </tr>\n",
       "    <tr>\n",
       "      <th>9</th>\n",
       "      <td>2023</td>\n",
       "      <td>371280</td>\n",
       "      <td>156088.16</td>\n",
       "      <td>65321</td>\n",
       "      <td>137188</td>\n",
       "      <td>19772</td>\n",
       "      <td>53801</td>\n",
       "      <td>27415</td>\n",
       "      <td>34964</td>\n",
       "      <td>16386</td>\n",
       "      <td>50546</td>\n",
       "      <td>66932</td>\n",
       "      <td>41015</td>\n",
       "      <td>11358</td>\n",
       "      <td>7950</td>\n",
       "      <td>19902</td>\n",
       "      <td>29883</td>\n",
       "      <td>177829</td>\n",
       "      <td>0.476142</td>\n",
       "      <td>0.367502</td>\n",
       "      <td>0.784092</td>\n",
       "      <td>0.627899</td>\n",
       "      <td>0.392170</td>\n",
       "      <td>1.296243</td>\n",
       "      <td>0.302690</td>\n",
       "      <td>0.254862</td>\n",
       "      <td>0.578133</td>\n",
       "      <td>2.060848</td>\n",
       "    </tr>\n",
       "  </tbody>\n",
       "</table>\n",
       "</div>"
      ],
      "text/plain": [
       "   season_start_year     MIN   POSS_est     FGM     FGA   FG3M   FG3A    FTM  \\\n",
       "0               2014  634546  253004.12   98251  219265  20724  59276  45098   \n",
       "1               2015  636391  258064.80  100351  222344  22524  63673  46516   \n",
       "2               2016  632482  258443.80  102147  223333  25408  71018  46806   \n",
       "3               2017  633425  260904.52  103729  225523  27530  76245  43721   \n",
       "4               2018  634231  268739.84  107374  233717  29817  84143  46671   \n",
       "5               2019  552262  234384.64   92997  202223  28032  78279  40949   \n",
       "6               2020  562518  235759.48   95849  205754  29549  80653  39624   \n",
       "7               2021  635572  264004.96  106569  231293  32733  92552  44740   \n",
       "8               2022  635386  266600.04  110010  231870  32382  89926  48136   \n",
       "9               2023  371280  156088.16   65321  137188  19772  53801  27415   \n",
       "\n",
       "     FTA   OREB   DREB     REB    AST    STL    BLK    TOV     PF     PTS  \\\n",
       "0  60248  28566  85231  113797  57727  20261  12665  35796  53272  262324   \n",
       "1  61520  27426  87611  115037  58251  20562  13046  36078  53478  269742   \n",
       "2  60620  26470  87173  113643  59162  20143  12409  34908  52232  276508   \n",
       "3  57008  25397  88678  114075  60739  20181  12636  35695  52238  278709   \n",
       "4  60811  27128  91360  118488  64257  19940  12984  35394  55063  291236   \n",
       "5  52906  22802  79318  102120  55445  17368  11085  31685  47615  254975   \n",
       "6  50917  22918  80151  103069  57311  17491  11272  30520  45152  260871   \n",
       "7  57709  27052  89602  116654  64618  20006  12387  34372  52038  290611   \n",
       "8  61516  27403  86695  114098  66265  19078  12250  35066  52438  300538   \n",
       "9  34964  16386  50546   66932  41015  11358   7950  19902  29883  177829   \n",
       "\n",
       "        FG%      3PT%       FT%      AST%     FG3A%   PTS/FGA  FG3M/FGM  \\\n",
       "0  0.448092  0.349619  0.748539  0.587546  0.270340  1.196379  0.210929   \n",
       "1  0.451332  0.353745  0.756112  0.580473  0.286372  1.213174  0.224452   \n",
       "2  0.457375  0.357768  0.772121  0.579185  0.317992  1.238097  0.248740   \n",
       "3  0.459949  0.361073  0.766927  0.585555  0.338081  1.235834  0.265403   \n",
       "4  0.459419  0.354361  0.767476  0.598441  0.360021  1.246105  0.277693   \n",
       "5  0.459874  0.358104  0.773995  0.596202  0.387092  1.260861  0.301429   \n",
       "6  0.465843  0.366372  0.778208  0.597930  0.391988  1.267878  0.308287   \n",
       "7  0.460753  0.353671  0.775269  0.606349  0.400150  1.256463  0.307153   \n",
       "8  0.474447  0.360096  0.782496  0.602354  0.387829  1.296149  0.294355   \n",
       "9  0.476142  0.367502  0.784092  0.627899  0.392170  1.296243  0.302690   \n",
       "\n",
       "    FTA/FGA      TRU%   AST_TOV  \n",
       "0  0.274773  0.529129  1.612666  \n",
       "1  0.276688  0.536126  1.614585  \n",
       "2  0.271433  0.548350  1.694798  \n",
       "3  0.252781  0.551677  1.701611  \n",
       "4  0.260191  0.554519  1.815477  \n",
       "5  0.261622  0.560746  1.749882  \n",
       "6  0.247465  0.567260  1.877818  \n",
       "7  0.249506  0.561665  1.879960  \n",
       "8  0.265304  0.575545  1.889722  \n",
       "9  0.254862  0.578133  2.060848  "
      ]
     },
     "execution_count": 26,
     "metadata": {},
     "output_type": "execute_result"
    }
   ],
   "source": [
    "change_df = data.groupby('season_start_year')[total_cols].sum().reset_index()\n",
    "change_df['POSS_est'] = change_df['FGA']-change_df['OREB']+change_df['TOV']+0.44*change_df['FTA']\n",
    "change_df = change_df[list(change_df.columns[0:2])+['POSS_est']+list(change_df.columns[2:-1])]\n",
    "\n",
    "change_df['FG%'] = change_df['FGM']/change_df['FGA']\n",
    "change_df['3PT%'] = change_df['FG3M']/change_df['FG3A']\n",
    "change_df['FT%'] = change_df['FTM']/change_df['FTA']\n",
    "change_df['AST%'] = change_df['AST']/change_df['FGM']\n",
    "change_df['FG3A%'] = change_df['FG3A']/change_df['FGA']\n",
    "change_df['PTS/FGA'] = change_df['PTS']/change_df['FGA']\n",
    "change_df['FG3M/FGM'] = change_df['FG3M']/change_df['FGM']\n",
    "change_df['FTA/FGA'] = change_df['FTA']/change_df['FGA']\n",
    "change_df['TRU%'] = 0.5*change_df['PTS']/(change_df['FGA']+0.475*change_df['FTA'])\n",
    "change_df['AST_TOV'] = change_df['AST']/change_df['TOV']\n",
    "\n",
    "change_df"
   ]
  },
  {
   "cell_type": "code",
   "execution_count": 27,
   "id": "553e087d-10ad-41f2-978c-387fe485340e",
   "metadata": {},
   "outputs": [
    {
     "data": {
      "application/vnd.plotly.v1+json": {
       "config": {
        "plotlyServerURL": "https://plot.ly"
       },
       "data": [
        {
         "name": "POSS_est",
         "type": "scatter",
         "x": {
          "bdata": "3gcAAN8HAADgBwAA4QcAAOIHAADjBwAA5AcAAOUHAADmBwAA5wcAAA==",
          "dtype": "i4"
         },
         "y": {
          "bdata": "NOcVEErsV0DHjDTarVRYQCmOxAhhhFhA0kw4m7S2WEA6vD5qbGxZQHjL4srpdllAyL7XepklWUChHfUxQ+xYQNXmmUndLFlAjjoGwW05WUA=",
          "dtype": "f8"
         }
        },
        {
         "name": "FGM",
         "type": "scatter",
         "x": {
          "bdata": "3gcAAN8HAADgBwAA4QcAAOIHAADjBwAA5AcAAOUHAADmBwAA5wcAAA==",
          "dtype": "i4"
         },
         "y": {
          "bdata": "b0feP5WUQkA6gLofKuxCQKwS8xBWYUNAiPAdoKymQ0CpxUMn1VBEQCdDsKcHNURAAnIoRHdyREDlLiE88x5EQLMm3k3TxkRACLacB7YcRUA=",
          "dtype": "f8"
         }
        },
        {
         "name": "FGA",
         "type": "scatter",
         "x": {
          "bdata": "3gcAAN8HAADgBwAA4QcAAOIHAADjBwAA5AcAAOUHAADmBwAA5wcAAA==",
          "dtype": "i4"
         },
         "y": {
          "bdata": "r90fM5e7VEC0Mz6khPZUQCHEBR20L1VAxtmSFbxcVUDbyEHLOhxWQEbnBL1n+FVAdugLr0byVUBEjcqttNVVQPpdh2dK5VVAjIUri4UrVkA=",
          "dtype": "f8"
         }
        },
        {
         "name": "FG3M",
         "type": "scatter",
         "x": {
          "bdata": "3gcAAN8HAADgBwAA4QcAAOIHAADjBwAA5AcAAOUHAADmBwAA5wcAAA==",
          "dtype": "i4"
         },
         "y": {
          "bdata": "BlyAhmpaH0DzRXMOIv0gQBqYTIZSSCNAiNFuaKDcJEDESp4L8JAmQLYSBeA0XShAerNA+d42KUCbwUJ+hbgoQDvJ1R5+dihAsc2Psc2PKUA=",
          "dtype": "f8"
         }
        },
        {
         "name": "FG3A",
         "type": "scatter",
         "x": {
          "bdata": "3gcAAN8HAADgBwAA4QcAAOIHAADjBwAA5AcAAOUHAADmBwAA5wcAAA==",
          "dtype": "i4"
         },
         "y": {
          "bdata": "ufiyEGhrNkBtV+HZRQM4QE8CCVfE8jpALl4PR3/jPEAXAckVNNc/QO4WTG1UAkFAdTcDlpY0QUCsvD9YcnlBQOgaevnK+0BAhInjg4ljQUA=",
          "dtype": "f8"
         }
        },
        {
         "name": "FTM",
         "type": "scatter",
         "x": {
          "bdata": "3gcAAN8HAADgBwAA4QcAAOIHAADjBwAA5AcAAOUHAADmBwAA5wcAAA==",
          "dtype": "i4"
         },
         "y": {
          "bdata": "2T9tqp4OMUA70co43IoxQIn2OlrJwjFAsnhwjsiQMEDtRlOMK6kxQDb+trOjyzFAEL8M5NvnMEC4GHWd9uQwQDKjtOOcLjJAbK24bK24MUA=",
          "dtype": "f8"
         }
        },
        {
         "name": "FTA",
         "type": "scatter",
         "x": {
          "bdata": "3gcAAN8HAADgBwAA4QcAAOIHAADjBwAA5AcAAOUHAADmBwAA5wcAAA==",
          "dtype": "i4"
         },
         "y": {
          "bdata": "JQ+jQYXJNkB22fynaTM3QDlSj5mxADdAWdhoZJOZNUDjtwMc9QI3QFxngMnf/TZAoIkX9FC5NUD8DxtPqco1QOy95J5rPDdA2uWZ2uWZNkA=",
          "dtype": "f8"
         }
        },
        {
         "name": "OREB",
         "type": "scatter",
         "x": {
          "bdata": "3gcAAN8HAADgBwAA4QcAAOIHAADjBwAA5AcAAOUHAADmBwAA5wcAAA==",
          "dtype": "i4"
         },
         "y": {
          "bdata": "EiZ1PNCbJUAQbhKPp68kQGMP02qmFiRA4oqd7tY+I0B6ziIY9IckQAhjCfGD0SNAfRw3cVqOI0CJId+UK24kQGtacSqVsyRAiSkviSkvJUA=",
          "dtype": "f8"
         }
        },
        {
         "name": "DREB",
         "type": "scatter",
         "x": {
          "bdata": "3gcAAN8HAADgBwAA4QcAAOIHAADjBwAA5AcAAOUHAADmBwAA5wcAAA==",
          "dtype": "i4"
         },
         "y": {
          "bdata": "eD+pW0AeQEDkYBM1LYVAQHQCbG4KikBADYk6LbrMQEBIBAwzK0lBQHgmA/4fPEFASEGFVywZQUCQzwoy3OpAQKlmOCOUX0BARTdWRTdWQEA=",
          "dtype": "f8"
         }
        },
        {
         "name": "REB",
         "type": "scatter",
         "x": {
          "bdata": "3gcAAN8HAADgBwAA4QcAAOIHAADjBwAA5AcAAOUHAADmBwAA5wcAAA==",
          "dtype": "i4"
         },
         "y": {
          "bdata": "/IjGajSFRUBn/NcYF7FFQEzGIAm0j0VAxuvh6G+cRUDmtxQ5KGtGQDp/RfqAMEZAaAjT88L8RUDyl0IXZwZGQES91G15jEVApwGipwGiRUA=",
          "dtype": "f8"
         }
        },
        {
         "name": "AST",
         "type": "scatter",
         "x": {
          "bdata": "3gcAAN8HAADgBwAA4QcAAOIHAADjBwAA5AcAAOUHAADmBwAA5wcAAA==",
          "dtype": "i4"
         },
         "y": {
          "bdata": "ulnlo2zVNUAo4E8bz/c1QO7HfOAPczZAba2qOngDN0DDkxxXyFA4QMDIrYJXGDhARL5QbrBzOEBsjM3Zi2Y4QLyWPJKiBzlAFTqDFTqDOkA=",
          "dtype": "f8"
         }
        },
        {
         "name": "STL",
         "type": "scatter",
         "x": {
          "bdata": "3gcAAN8HAADgBwAA4QcAAOIHAADjBwAA5AcAAOUHAADmBwAA5wcAAA==",
          "dtype": "i4"
         },
         "y": {
          "bdata": "e9KNkRinHkBe/43glQQfQOzwcGLakh5AQ80jx/GVHkBTnFCumy4eQCkDegPeMB5ApCILorDZHUAksPqE0zceQBB4V6wm0xxAtShetSheHUA=",
          "dtype": "f8"
         }
        },
        {
         "name": "BLK",
         "type": "scatter",
         "x": {
          "bdata": "3gcAAN8HAADgBwAA4QcAAOIHAADjBwAA5AcAAOUHAADmBwAA5wcAAA==",
          "dtype": "i4"
         },
         "y": {
          "bdata": "K8B1QikpE0DV/ZjyEq4TQIAAySOy1RJAjKkqKJcmE0ChhZQmNacTQDQt2LjkRBNATO78g6c8E0CUvHw/v7USQJZfHr8oghJAbFCObFCOFEA=",
          "dtype": "f8"
         }
        },
        {
         "name": "TOV",
         "type": "scatter",
         "x": {
          "bdata": "3gcAAN8HAADgBwAA4QcAAOIHAADjBwAA5AcAAOUHAADmBwAA5wcAAA==",
          "dtype": "i4"
         },
         "y": {
          "bdata": "kKy0oucTK0AcbQVZQjYrQMkCQdsAfipAGJiLSJQMK0D0f5YqdskqQHrNaKQCiitA7H7nffsKKkAojDrhZvUpQDx/mBWQfSpAJdS6JdS6KUA=",
          "dtype": "f8"
         }
        },
        {
         "name": "PF",
         "type": "scatter",
         "x": {
          "bdata": "3gcAAN8HAADgBwAA4QcAAOIHAADjBwAA5AcAAOUHAADmBwAA5wcAAA==",
          "dtype": "i4"
         },
         "y": {
          "bdata": "8vKYgxEmNEBQLm6jACs0QKDnUMnf0TNACrulCufKM0AW0alTIdY0QC6xKAQ+sTRA61gsB6VDM0BZPEvTc6YzQDYdM5iazjNAAxZRAhZRM0A=",
          "dtype": "f8"
         }
        },
        {
         "name": "PTS",
         "type": "scatter",
         "x": {
          "bdata": "3gcAAN8HAADgBwAA4QcAAOIHAADjBwAA5AcAAOUHAADmBwAA5wcAAA==",
          "dtype": "i4"
         },
         "y": {
          "bdata": "Jp3hkuPNWEBHnbtvhW5ZQFJjS7gSO1pA5ujH0HJmWkC9YMwLPo1bQAulnjCXs1tANbhTHErTW0BGzUaTQW9bQKcIpkpKYVxAGdv8GNu8XEA=",
          "dtype": "f8"
         }
        },
        {
         "name": "FG%",
         "type": "scatter",
         "x": {
          "bdata": "3gcAAN8HAADgBwAA4QcAAOIHAADjBwAA5AcAAOUHAADmBwAA5wcAAA==",
          "dtype": "i4"
         },
         "y": {
          "bdata": "B15qIIyt3D8hFWpToOLcPy90FxejRd0/e2ZIecxv3T9LYUVnHmfdP+YPH0mRbt0/YU0o7F3Q3T+2u1Ms+3zdP4u1R3tWXd4/JKiSQB153j8=",
          "dtype": "f8"
         }
        },
        {
         "name": "3PT%",
         "type": "scatter",
         "x": {
          "bdata": "3gcAAN8HAADgBwAA4QcAAOIHAADjBwAA5AcAAOUHAADmBwAA5wcAAA==",
          "dtype": "i4"
         },
         "y": {
          "bdata": "CzHDPydg1j9Uuri2waPWP079Xaet5dY/SXhTVNEb1z/5wNPg2a3WP+E8b84r69Y/dARZf6Ny1z+63FmTjaLWP2HKrWzQC9c/R5i1DCmF1z8=",
          "dtype": "f8"
         }
        },
        {
         "name": "FT%",
         "type": "scatter",
         "x": {
          "bdata": "3gcAAN8HAADgBwAA4QcAAOIHAADjBwAA5AcAAOUHAADmBwAA5wcAAA==",
          "dtype": "i4"
         },
         "y": {
          "bdata": "xg+Q1gj05z9/6qZxETLoPwTxrPY3teg/KCfdbquK6D9uN9NpKo/oP91L3fmRxOg/cXs4xhPn6D8mVfn6AM/oP1tAQjw0Cuk/vkpoi0gX6T8=",
          "dtype": "f8"
         }
        },
        {
         "name": "AST%",
         "type": "scatter",
         "x": {
          "bdata": "3gcAAN8HAADgBwAA4QcAAOIHAADjBwAA5AcAAOUHAADmBwAA5wcAAA==",
          "dtype": "i4"
         },
         "y": {
          "bdata": "MLb3pi3N4j9Nd64mO5PiP5ZKlcWuiOI/WpTSI9284j9nNcepbSbjP7FIhUYWFOM/HHkHQj4i4z/1d3fjNWfjP0hMQpd8RuM/BWo08r8X5D8=",
          "dtype": "f8"
         }
        },
        {
         "name": "FG3A%",
         "type": "scatter",
         "x": {
          "bdata": "3gcAAN8HAADgBwAA4QcAAOIHAADjBwAA5AcAAOUHAADmBwAA5wcAAA==",
          "dtype": "i4"
         },
         "y": {
          "bdata": "B4yCOj5N0T/AtSxq6VPSP6L0Cxr5WdQ/kWOquB2j1T+TpVEElQrXP60V0Xsfxtg/yNS30VIW2T92ujGrEJzZP736kFky0tg/boWMpk8Z2T8=",
          "dtype": "f8"
         }
        },
        {
         "name": "PTS/FGA",
         "type": "scatter",
         "x": {
          "bdata": "3gcAAN8HAADgBwAA4QcAAOIHAADjBwAA5AcAAOUHAADmBwAA5wcAAA==",
          "dtype": "i4"
         },
         "y": {
          "bdata": "bN2vG14k8z/59FxUKWnzP4HcKjA/z/M/O4HT6fnF8z9JiyglDPDzPyy0tBh8LPQ//7s0mDpJ9D+cyCuCeBr0P8D3Z2wGvfQ/HbbCamm99D8=",
          "dtype": "f8"
         }
        },
        {
         "name": "FG3M/FGM",
         "type": "scatter",
         "x": {
          "bdata": "3gcAAN8HAADgBwAA4QcAAOIHAADjBwAA5AcAAOUHAADmBwAA5wcAAA==",
          "dtype": "i4"
         },
         "y": {
          "bdata": "HFVV9rn/yj8q2ABL2brMP3hALK2y1s8/6aS8W1380D9sC4OKuMXRP43uZjCdStM/v61EXvm60z8qp8yGZajTP33gjpm21tI/K3z1AkVf0z8=",
          "dtype": "f8"
         }
        },
        {
         "name": "FTA/FGA",
         "type": "scatter",
         "x": {
          "bdata": "3gcAAN8HAADgBwAA4QcAAOIHAADjBwAA5AcAAOUHAADmBwAA5wcAAA==",
          "dtype": "i4"
         },
         "y": {
          "bdata": "i3B4i9+V0T/IrzQoQ7XRP30GOocpX9E/pvvYq5Et0D9fJIUT96bQP0wRYH9qvtA/AfOdZvKszz/doD5Y0O/PP7x9ru68+tA/rRaydahP0D8=",
          "dtype": "f8"
         }
        },
        {
         "name": "TRU%",
         "type": "scatter",
         "x": {
          "bdata": "3gcAAN8HAADgBwAA4QcAAOIHAADjBwAA5AcAAOUHAADmBwAA5wcAAA==",
          "dtype": "i4"
         },
         "y": {
          "bdata": "HJhEIKDu4D/+Ihoa8SfhP51ZhFgUjOE/bAW+qlWn4T8T5kA+n77hPxtE38Oh8eE/lgkbO/4m4j+c/RiMKfnhP+b+HojcauI/CGwj+xCA4j8=",
          "dtype": "f8"
         }
        },
        {
         "name": "AST_TOV",
         "type": "scatter",
         "x": {
          "bdata": "3gcAAN8HAADgBwAA4QcAAOIHAADjBwAA5AcAAOUHAADmBwAA5wcAAA==",
          "dtype": "i4"
         },
         "y": {
          "bdata": "G+AOGHvN+T/AC1wmV9X5P7fb8j/kHfs/1LzJUcw5+z8whenRMQz9PyPh++WD//s/ucD4s4oL/j+D/hFkURT+Pwo8sGJNPP4/JBs/9Z18AEA=",
          "dtype": "f8"
         }
        }
       ],
       "layout": {
        "height": 600,
        "template": {
         "data": {
          "bar": [
           {
            "error_x": {
             "color": "#2a3f5f"
            },
            "error_y": {
             "color": "#2a3f5f"
            },
            "marker": {
             "line": {
              "color": "#E5ECF6",
              "width": 0.5
             },
             "pattern": {
              "fillmode": "overlay",
              "size": 10,
              "solidity": 0.2
             }
            },
            "type": "bar"
           }
          ],
          "barpolar": [
           {
            "marker": {
             "line": {
              "color": "#E5ECF6",
              "width": 0.5
             },
             "pattern": {
              "fillmode": "overlay",
              "size": 10,
              "solidity": 0.2
             }
            },
            "type": "barpolar"
           }
          ],
          "carpet": [
           {
            "aaxis": {
             "endlinecolor": "#2a3f5f",
             "gridcolor": "white",
             "linecolor": "white",
             "minorgridcolor": "white",
             "startlinecolor": "#2a3f5f"
            },
            "baxis": {
             "endlinecolor": "#2a3f5f",
             "gridcolor": "white",
             "linecolor": "white",
             "minorgridcolor": "white",
             "startlinecolor": "#2a3f5f"
            },
            "type": "carpet"
           }
          ],
          "choropleth": [
           {
            "colorbar": {
             "outlinewidth": 0,
             "ticks": ""
            },
            "type": "choropleth"
           }
          ],
          "contour": [
           {
            "colorbar": {
             "outlinewidth": 0,
             "ticks": ""
            },
            "colorscale": [
             [
              0,
              "#0d0887"
             ],
             [
              0.1111111111111111,
              "#46039f"
             ],
             [
              0.2222222222222222,
              "#7201a8"
             ],
             [
              0.3333333333333333,
              "#9c179e"
             ],
             [
              0.4444444444444444,
              "#bd3786"
             ],
             [
              0.5555555555555556,
              "#d8576b"
             ],
             [
              0.6666666666666666,
              "#ed7953"
             ],
             [
              0.7777777777777778,
              "#fb9f3a"
             ],
             [
              0.8888888888888888,
              "#fdca26"
             ],
             [
              1,
              "#f0f921"
             ]
            ],
            "type": "contour"
           }
          ],
          "contourcarpet": [
           {
            "colorbar": {
             "outlinewidth": 0,
             "ticks": ""
            },
            "type": "contourcarpet"
           }
          ],
          "heatmap": [
           {
            "colorbar": {
             "outlinewidth": 0,
             "ticks": ""
            },
            "colorscale": [
             [
              0,
              "#0d0887"
             ],
             [
              0.1111111111111111,
              "#46039f"
             ],
             [
              0.2222222222222222,
              "#7201a8"
             ],
             [
              0.3333333333333333,
              "#9c179e"
             ],
             [
              0.4444444444444444,
              "#bd3786"
             ],
             [
              0.5555555555555556,
              "#d8576b"
             ],
             [
              0.6666666666666666,
              "#ed7953"
             ],
             [
              0.7777777777777778,
              "#fb9f3a"
             ],
             [
              0.8888888888888888,
              "#fdca26"
             ],
             [
              1,
              "#f0f921"
             ]
            ],
            "type": "heatmap"
           }
          ],
          "histogram": [
           {
            "marker": {
             "pattern": {
              "fillmode": "overlay",
              "size": 10,
              "solidity": 0.2
             }
            },
            "type": "histogram"
           }
          ],
          "histogram2d": [
           {
            "colorbar": {
             "outlinewidth": 0,
             "ticks": ""
            },
            "colorscale": [
             [
              0,
              "#0d0887"
             ],
             [
              0.1111111111111111,
              "#46039f"
             ],
             [
              0.2222222222222222,
              "#7201a8"
             ],
             [
              0.3333333333333333,
              "#9c179e"
             ],
             [
              0.4444444444444444,
              "#bd3786"
             ],
             [
              0.5555555555555556,
              "#d8576b"
             ],
             [
              0.6666666666666666,
              "#ed7953"
             ],
             [
              0.7777777777777778,
              "#fb9f3a"
             ],
             [
              0.8888888888888888,
              "#fdca26"
             ],
             [
              1,
              "#f0f921"
             ]
            ],
            "type": "histogram2d"
           }
          ],
          "histogram2dcontour": [
           {
            "colorbar": {
             "outlinewidth": 0,
             "ticks": ""
            },
            "colorscale": [
             [
              0,
              "#0d0887"
             ],
             [
              0.1111111111111111,
              "#46039f"
             ],
             [
              0.2222222222222222,
              "#7201a8"
             ],
             [
              0.3333333333333333,
              "#9c179e"
             ],
             [
              0.4444444444444444,
              "#bd3786"
             ],
             [
              0.5555555555555556,
              "#d8576b"
             ],
             [
              0.6666666666666666,
              "#ed7953"
             ],
             [
              0.7777777777777778,
              "#fb9f3a"
             ],
             [
              0.8888888888888888,
              "#fdca26"
             ],
             [
              1,
              "#f0f921"
             ]
            ],
            "type": "histogram2dcontour"
           }
          ],
          "mesh3d": [
           {
            "colorbar": {
             "outlinewidth": 0,
             "ticks": ""
            },
            "type": "mesh3d"
           }
          ],
          "parcoords": [
           {
            "line": {
             "colorbar": {
              "outlinewidth": 0,
              "ticks": ""
             }
            },
            "type": "parcoords"
           }
          ],
          "pie": [
           {
            "automargin": true,
            "type": "pie"
           }
          ],
          "scatter": [
           {
            "fillpattern": {
             "fillmode": "overlay",
             "size": 10,
             "solidity": 0.2
            },
            "type": "scatter"
           }
          ],
          "scatter3d": [
           {
            "line": {
             "colorbar": {
              "outlinewidth": 0,
              "ticks": ""
             }
            },
            "marker": {
             "colorbar": {
              "outlinewidth": 0,
              "ticks": ""
             }
            },
            "type": "scatter3d"
           }
          ],
          "scattercarpet": [
           {
            "marker": {
             "colorbar": {
              "outlinewidth": 0,
              "ticks": ""
             }
            },
            "type": "scattercarpet"
           }
          ],
          "scattergeo": [
           {
            "marker": {
             "colorbar": {
              "outlinewidth": 0,
              "ticks": ""
             }
            },
            "type": "scattergeo"
           }
          ],
          "scattergl": [
           {
            "marker": {
             "colorbar": {
              "outlinewidth": 0,
              "ticks": ""
             }
            },
            "type": "scattergl"
           }
          ],
          "scattermap": [
           {
            "marker": {
             "colorbar": {
              "outlinewidth": 0,
              "ticks": ""
             }
            },
            "type": "scattermap"
           }
          ],
          "scattermapbox": [
           {
            "marker": {
             "colorbar": {
              "outlinewidth": 0,
              "ticks": ""
             }
            },
            "type": "scattermapbox"
           }
          ],
          "scatterpolar": [
           {
            "marker": {
             "colorbar": {
              "outlinewidth": 0,
              "ticks": ""
             }
            },
            "type": "scatterpolar"
           }
          ],
          "scatterpolargl": [
           {
            "marker": {
             "colorbar": {
              "outlinewidth": 0,
              "ticks": ""
             }
            },
            "type": "scatterpolargl"
           }
          ],
          "scatterternary": [
           {
            "marker": {
             "colorbar": {
              "outlinewidth": 0,
              "ticks": ""
             }
            },
            "type": "scatterternary"
           }
          ],
          "surface": [
           {
            "colorbar": {
             "outlinewidth": 0,
             "ticks": ""
            },
            "colorscale": [
             [
              0,
              "#0d0887"
             ],
             [
              0.1111111111111111,
              "#46039f"
             ],
             [
              0.2222222222222222,
              "#7201a8"
             ],
             [
              0.3333333333333333,
              "#9c179e"
             ],
             [
              0.4444444444444444,
              "#bd3786"
             ],
             [
              0.5555555555555556,
              "#d8576b"
             ],
             [
              0.6666666666666666,
              "#ed7953"
             ],
             [
              0.7777777777777778,
              "#fb9f3a"
             ],
             [
              0.8888888888888888,
              "#fdca26"
             ],
             [
              1,
              "#f0f921"
             ]
            ],
            "type": "surface"
           }
          ],
          "table": [
           {
            "cells": {
             "fill": {
              "color": "#EBF0F8"
             },
             "line": {
              "color": "white"
             }
            },
            "header": {
             "fill": {
              "color": "#C8D4E3"
             },
             "line": {
              "color": "white"
             }
            },
            "type": "table"
           }
          ]
         },
         "layout": {
          "annotationdefaults": {
           "arrowcolor": "#2a3f5f",
           "arrowhead": 0,
           "arrowwidth": 1
          },
          "autotypenumbers": "strict",
          "coloraxis": {
           "colorbar": {
            "outlinewidth": 0,
            "ticks": ""
           }
          },
          "colorscale": {
           "diverging": [
            [
             0,
             "#8e0152"
            ],
            [
             0.1,
             "#c51b7d"
            ],
            [
             0.2,
             "#de77ae"
            ],
            [
             0.3,
             "#f1b6da"
            ],
            [
             0.4,
             "#fde0ef"
            ],
            [
             0.5,
             "#f7f7f7"
            ],
            [
             0.6,
             "#e6f5d0"
            ],
            [
             0.7,
             "#b8e186"
            ],
            [
             0.8,
             "#7fbc41"
            ],
            [
             0.9,
             "#4d9221"
            ],
            [
             1,
             "#276419"
            ]
           ],
           "sequential": [
            [
             0,
             "#0d0887"
            ],
            [
             0.1111111111111111,
             "#46039f"
            ],
            [
             0.2222222222222222,
             "#7201a8"
            ],
            [
             0.3333333333333333,
             "#9c179e"
            ],
            [
             0.4444444444444444,
             "#bd3786"
            ],
            [
             0.5555555555555556,
             "#d8576b"
            ],
            [
             0.6666666666666666,
             "#ed7953"
            ],
            [
             0.7777777777777778,
             "#fb9f3a"
            ],
            [
             0.8888888888888888,
             "#fdca26"
            ],
            [
             1,
             "#f0f921"
            ]
           ],
           "sequentialminus": [
            [
             0,
             "#0d0887"
            ],
            [
             0.1111111111111111,
             "#46039f"
            ],
            [
             0.2222222222222222,
             "#7201a8"
            ],
            [
             0.3333333333333333,
             "#9c179e"
            ],
            [
             0.4444444444444444,
             "#bd3786"
            ],
            [
             0.5555555555555556,
             "#d8576b"
            ],
            [
             0.6666666666666666,
             "#ed7953"
            ],
            [
             0.7777777777777778,
             "#fb9f3a"
            ],
            [
             0.8888888888888888,
             "#fdca26"
            ],
            [
             1,
             "#f0f921"
            ]
           ]
          },
          "colorway": [
           "#636efa",
           "#EF553B",
           "#00cc96",
           "#ab63fa",
           "#FFA15A",
           "#19d3f3",
           "#FF6692",
           "#B6E880",
           "#FF97FF",
           "#FECB52"
          ],
          "font": {
           "color": "#2a3f5f"
          },
          "geo": {
           "bgcolor": "white",
           "lakecolor": "white",
           "landcolor": "#E5ECF6",
           "showlakes": true,
           "showland": true,
           "subunitcolor": "white"
          },
          "hoverlabel": {
           "align": "left"
          },
          "hovermode": "closest",
          "mapbox": {
           "style": "light"
          },
          "paper_bgcolor": "white",
          "plot_bgcolor": "#E5ECF6",
          "polar": {
           "angularaxis": {
            "gridcolor": "white",
            "linecolor": "white",
            "ticks": ""
           },
           "bgcolor": "#E5ECF6",
           "radialaxis": {
            "gridcolor": "white",
            "linecolor": "white",
            "ticks": ""
           }
          },
          "scene": {
           "xaxis": {
            "backgroundcolor": "#E5ECF6",
            "gridcolor": "white",
            "gridwidth": 2,
            "linecolor": "white",
            "showbackground": true,
            "ticks": "",
            "zerolinecolor": "white"
           },
           "yaxis": {
            "backgroundcolor": "#E5ECF6",
            "gridcolor": "white",
            "gridwidth": 2,
            "linecolor": "white",
            "showbackground": true,
            "ticks": "",
            "zerolinecolor": "white"
           },
           "zaxis": {
            "backgroundcolor": "#E5ECF6",
            "gridcolor": "white",
            "gridwidth": 2,
            "linecolor": "white",
            "showbackground": true,
            "ticks": "",
            "zerolinecolor": "white"
           }
          },
          "shapedefaults": {
           "line": {
            "color": "#2a3f5f"
           }
          },
          "ternary": {
           "aaxis": {
            "gridcolor": "white",
            "linecolor": "white",
            "ticks": ""
           },
           "baxis": {
            "gridcolor": "white",
            "linecolor": "white",
            "ticks": ""
           },
           "bgcolor": "#E5ECF6",
           "caxis": {
            "gridcolor": "white",
            "linecolor": "white",
            "ticks": ""
           }
          },
          "title": {
           "x": 0.05
          },
          "xaxis": {
           "automargin": true,
           "gridcolor": "white",
           "linecolor": "white",
           "ticks": "",
           "title": {
            "standoff": 15
           },
           "zerolinecolor": "white",
           "zerolinewidth": 2
          },
          "yaxis": {
           "automargin": true,
           "gridcolor": "white",
           "linecolor": "white",
           "ticks": "",
           "title": {
            "standoff": 15
           },
           "zerolinecolor": "white",
           "zerolinewidth": 2
          }
         }
        },
        "title": {
         "text": "changes over the year per 50 possessions",
         "x": 0.5,
         "y": 0.95
        },
        "width": 800,
        "xaxis": {
         "title": {
          "text": "years"
         }
        },
        "yaxis": {
         "title": {
          "text": "stats"
         }
        }
       }
      }
     },
     "metadata": {},
     "output_type": "display_data"
    }
   ],
   "source": [
    "\n",
    "change_per48_df = change_df.copy()\n",
    "for col in change_per48_df.columns[2:18]:\n",
    "    change_per48_df[col] = (change_per48_df[col]/change_per48_df['MIN'])*48*5\n",
    "\n",
    "change_per48_df.drop(columns='MIN', inplace=True)\n",
    "\n",
    "fig = go.Figure()\n",
    "for col in change_per48_df.columns[1:]:\n",
    "    fig.add_trace(go.Scatter(x=change_per48_df['season_start_year'],\n",
    "                             y=change_per48_df[col], name=col))\n",
    "\n",
    "fig.update_layout(height=600, width=800)\n",
    "fig.update_xaxes(title_text='years')\n",
    "fig.update_yaxes(title_text='stats')\n",
    "fig.update_layout(title_text='changes over the year per 50 possessions', title_x=0.5, title_y=0.95)\n",
    "fig.show()"
   ]
  },
  {
   "cell_type": "code",
   "execution_count": 28,
   "id": "2e549050-cb47-4788-8310-6903b27f36e1",
   "metadata": {},
   "outputs": [
    {
     "data": {
      "application/vnd.plotly.v1+json": {
       "config": {
        "plotlyServerURL": "https://plot.ly"
       },
       "data": [
        {
         "name": "FGM",
         "type": "scatter",
         "x": {
          "bdata": "3gcAAN8HAADgBwAA4QcAAOIHAADjBwAA5AcAAOUHAADmBwAA5wcAAA==",
          "dtype": "i4"
         },
         "y": {
          "bdata": "qHWHe7hqQ0C3/bl0Z3FDQGxwjEcOw0NARUBLUvTgQ0CRIZc1MfpDQLAwRtKq1kNAI1ZRteRTREDsv4p+4i5EQPcGXbbMoURAuzjDBKXsREA=",
          "dtype": "f8"
         }
        },
        {
         "name": "FGA",
         "type": "scatter",
         "x": {
          "bdata": "3gcAAN8HAADgBwAA4QcAAOIHAADjBwAA5AcAAOUHAADmBwAA5wcAAA==",
          "dtype": "i4"
         },
         "y": {
          "bdata": "YkI2wIiqVUBo588IIIpVQNGq0LCHmlVAX0ig9BacVUC+AN6p771VQH6xiRbPkVVA4tH+QHbRVUCob2Vo/+ZVQFKzvU5FvlVASD8E+Qv5VUA=",
          "dtype": "f8"
         }
        },
        {
         "name": "FG3M",
         "type": "scatter",
         "x": {
          "bdata": "3gcAAN8HAADgBwAA4QcAAOIHAADjBwAA5AcAAOUHAADmBwAA5wcAAA==",
          "dtype": "i4"
         },
         "y": {
          "bdata": "hirpKOFhIEBwFBG2wXQhQE3Pv5yMqSNAfE3hV38aJUDk1/swszAmQIKuL5Zu6ydAhs5nqysRKUAdBXZSGcwoQHjRq9XlSihArF3aSZtVKUA=",
          "dtype": "f8"
         }
        },
        {
         "name": "FG3A",
         "type": "scatter",
         "x": {
          "bdata": "3gcAAN8HAADgBwAA4QcAAOIHAADjBwAA5AcAAOUHAADmBwAA5wcAAA==",
          "dtype": "i4"
         },
         "y": {
          "bdata": "Z4tjQsptN0DpX3nKWqw4QPdO14elejtALERBbyw5PUAsmJ+4aU8/QNm5+LrmskBA/yzQ29waQUAaUFgPSYdBQMkBC9iG3UBA09YXnfI7QUA=",
          "dtype": "f8"
         }
        },
        {
         "name": "FTM",
         "type": "scatter",
         "x": {
          "bdata": "3gcAAN8HAADgBwAA4QcAAOIHAADjBwAA5AcAAOUHAADmBwAA5wcAAA==",
          "dtype": "i4"
         },
         "y": {
          "bdata": "A4y2mjPTMUCr5uPSYQYyQCqrSk9XHDJA6l47o+nBMEBrYJwn2l0xQEDKxO+JeDFAk+SM45TOMECuJW29V/IwQPlq4fo1DjJAcNDArlSQMUA=",
          "dtype": "f8"
         }
        },
        {
         "name": "FTA",
         "type": "scatter",
         "x": {
          "bdata": "3gcAAN8HAADgBwAA4QcAAOIHAADjBwAA5AcAAOUHAADmBwAA5wcAAA==",
          "dtype": "i4"
         },
         "y": {
          "bdata": "MzJmGyTQN0BR+Eb8xtY3QF5zGcStdDdAhJjZs6LZNUA4pwr/0aA2QNknaCOCkjZAzNqZsNWYNUBfPJhK69s1QJ3LtQkDEzdARDTB/HBmNkA=",
          "dtype": "f8"
         }
        },
        {
         "name": "OREB",
         "type": "scatter",
         "x": {
          "bdata": "3gcAAN8HAADgBwAA4QcAAOIHAADjBwAA5AcAAOUHAADmBwAA5wcAAA==",
          "dtype": "i4"
         },
         "y": {
          "bdata": "ur3U79mUJkBLfmb6T0ElQJh+e9vweyRAf0lGrup3I0AVu6gTZTAkQK9CN9H3dCNAZlwi9RxxI0BOIiqUWX4kQLekut2wjiRAlm08hO7+JEA=",
          "dtype": "f8"
         }
        },
        {
         "name": "DREB",
         "type": "scatter",
         "x": {
          "bdata": "3gcAAN8HAADgBwAA4QcAAOIHAADjBwAA5AcAAOUHAADmBwAA5wcAAA==",
          "dtype": "i4"
         },
         "y": {
          "bdata": "ANMLEgPYQECQdrw1gPlAQCzJk3Nv3UBAttI2CY3+QEAvjt04c/9AQH/p32ek60BAKKT6mpv/QEDdUYP9QfhAQNqazWRmQkBA1BTNiQUxQEA=",
          "dtype": "f8"
         }
        },
        {
         "name": "REB",
         "type": "scatter",
         "x": {
          "bdata": "3gcAAN8HAADgBwAA4QcAAOIHAADjBwAA5AcAAOUHAADmBwAA5wcAAA==",
          "dtype": "i4"
         },
         "y": {
          "bdata": "bgIBjjl9RkAjFlY01ElGQNKocqpr/EVAFmXItIfcRUD1vMd9jAtGQCu6LVziyEVAQTtD2OLbRUBx2o1i2BdGQAdEPJwSZkVAOTDcKsFwRUA=",
          "dtype": "f8"
         }
        },
        {
         "name": "AST",
         "type": "scatter",
         "x": {
          "bdata": "3gcAAN8HAADgBwAA4QcAAOIHAADjBwAA5AcAAOUHAADmBwAA5wcAAA==",
          "dtype": "i4"
         },
         "y": {
          "bdata": "+M1tTQ7RNkCagAArfpI2QLN2I+dB5DZAegQM07hHN0AYXu2QFek3QJSA1c3SpzdAua9L9iBPOECyhZHC3nk4QFhOK6EH2zhADZTceN1GOkA=",
          "dtype": "f8"
         }
        },
        {
         "name": "STL",
         "type": "scatter",
         "x": {
          "bdata": "3gcAAN8HAADgBwAA4QcAAOIHAADjBwAA5AcAAOUHAADmBwAA5wcAAA==",
          "dtype": "i4"
         },
         "y": {
          "bdata": "8lY52y4EIECI2K0c/t4fQGV5njMDLR9AhvcEZafwHkBQcboV5K0dQFKINQXiox1AZSX3zA6tHUAyjorawU8eQCuRoWjInxxAcscX+EsbHUA=",
          "dtype": "f8"
         }
        },
        {
         "name": "BLK",
         "type": "scatter",
         "x": {
          "bdata": "3gcAAN8HAADgBwAA4QcAAOIHAADjBwAA5AcAAOUHAADmBwAA5wcAAA==",
          "dtype": "i4"
         },
         "y": {
          "bdata": "r9QM2PwFFEDO57eopTgUQAc1AkGqNBNAvigm/WJfE0ASzNuaZFMTQGCk6kTp6hJAs/zXL+QfE0B57oN0kMQSQPDTV/MsYRJA3IFXnINfFEA=",
          "dtype": "f8"
         }
        },
        {
         "name": "TOV",
         "type": "scatter",
         "x": {
          "bdata": "3gcAAN8HAADgBwAA4QcAAOIHAADjBwAA5AcAAOUHAADmBwAA5wcAAA==",
          "dtype": "i4"
         },
         "y": {
          "bdata": "oQOqRvlLLEDGchkJ3vUrQIXrO0yVAytAPdJl0cxcK0DlczQ2OVcqQOedUMBoCStAywwVCgvkKUCmjvOo9QkqQJbwp8VaTipApf0yyT+AKUA=",
          "dtype": "f8"
         }
        },
        {
         "name": "PF",
         "type": "scatter",
         "x": {
          "bdata": "3gcAAN8HAADgBwAA4QcAAOIHAADjBwAA5AcAAOUHAADmBwAA5wcAAA==",
          "dtype": "i4"
         },
         "y": {
          "bdata": "Jvx21UcONUAtV/8CA7k0QNXuPHHPNTRAPh1gLpoFNEAVIu/oRH00QAtW3yOdUDRAnu1aP9cmM0A/KFCoA7YzQEoAr1pOqzNAFHhwbxslM0A=",
          "dtype": "f8"
         }
        },
        {
         "name": "PTS",
         "type": "scatter",
         "x": {
          "bdata": "3gcAAN8HAADgBwAA4QcAAOIHAADjBwAA5AcAAOUHAADmBwAA5wcAAA==",
          "dtype": "i4"
         },
         "y": {
          "bdata": "+j1Sh8HrWUDwGTUgmCFaQCEV965Vv1pAr0EWpr60WkCotJ0lvhdbQBFZ/SA7MltAGYmhY6+pW0D8yTSY+4RbQOPbyu+2LlxAjriumW17XEA=",
          "dtype": "f8"
         }
        },
        {
         "name": "FG%",
         "type": "scatter",
         "x": {
          "bdata": "3gcAAN8HAADgBwAA4QcAAOIHAADjBwAA5AcAAOUHAADmBwAA5wcAAA==",
          "dtype": "i4"
         },
         "y": {
          "bdata": "B15qIIyt3D8hFWpToOLcPy90FxejRd0/e2ZIecxv3T9LYUVnHmfdP+YPH0mRbt0/YU0o7F3Q3T+2u1Ms+3zdP4u1R3tWXd4/JKiSQB153j8=",
          "dtype": "f8"
         }
        },
        {
         "name": "3PT%",
         "type": "scatter",
         "x": {
          "bdata": "3gcAAN8HAADgBwAA4QcAAOIHAADjBwAA5AcAAOUHAADmBwAA5wcAAA==",
          "dtype": "i4"
         },
         "y": {
          "bdata": "CzHDPydg1j9Uuri2waPWP079Xaet5dY/SXhTVNEb1z/5wNPg2a3WP+E8b84r69Y/dARZf6Ny1z+63FmTjaLWP2HKrWzQC9c/R5i1DCmF1z8=",
          "dtype": "f8"
         }
        },
        {
         "name": "FT%",
         "type": "scatter",
         "x": {
          "bdata": "3gcAAN8HAADgBwAA4QcAAOIHAADjBwAA5AcAAOUHAADmBwAA5wcAAA==",
          "dtype": "i4"
         },
         "y": {
          "bdata": "xg+Q1gj05z9/6qZxETLoPwTxrPY3teg/KCfdbquK6D9uN9NpKo/oP91L3fmRxOg/cXs4xhPn6D8mVfn6AM/oP1tAQjw0Cuk/vkpoi0gX6T8=",
          "dtype": "f8"
         }
        },
        {
         "name": "AST%",
         "type": "scatter",
         "x": {
          "bdata": "3gcAAN8HAADgBwAA4QcAAOIHAADjBwAA5AcAAOUHAADmBwAA5wcAAA==",
          "dtype": "i4"
         },
         "y": {
          "bdata": "MLb3pi3N4j9Nd64mO5PiP5ZKlcWuiOI/WpTSI9284j9nNcepbSbjP7FIhUYWFOM/HHkHQj4i4z/1d3fjNWfjP0hMQpd8RuM/BWo08r8X5D8=",
          "dtype": "f8"
         }
        },
        {
         "name": "FG3A%",
         "type": "scatter",
         "x": {
          "bdata": "3gcAAN8HAADgBwAA4QcAAOIHAADjBwAA5AcAAOUHAADmBwAA5wcAAA==",
          "dtype": "i4"
         },
         "y": {
          "bdata": "B4yCOj5N0T/AtSxq6VPSP6L0Cxr5WdQ/kWOquB2j1T+TpVEElQrXP60V0Xsfxtg/yNS30VIW2T92ujGrEJzZP736kFky0tg/boWMpk8Z2T8=",
          "dtype": "f8"
         }
        },
        {
         "name": "PTS/FGA",
         "type": "scatter",
         "x": {
          "bdata": "3gcAAN8HAADgBwAA4QcAAOIHAADjBwAA5AcAAOUHAADmBwAA5wcAAA==",
          "dtype": "i4"
         },
         "y": {
          "bdata": "bN2vG14k8z/59FxUKWnzP4HcKjA/z/M/O4HT6fnF8z9JiyglDPDzPyy0tBh8LPQ//7s0mDpJ9D+cyCuCeBr0P8D3Z2wGvfQ/HbbCamm99D8=",
          "dtype": "f8"
         }
        },
        {
         "name": "FG3M/FGM",
         "type": "scatter",
         "x": {
          "bdata": "3gcAAN8HAADgBwAA4QcAAOIHAADjBwAA5AcAAOUHAADmBwAA5wcAAA==",
          "dtype": "i4"
         },
         "y": {
          "bdata": "HFVV9rn/yj8q2ABL2brMP3hALK2y1s8/6aS8W1380D9sC4OKuMXRP43uZjCdStM/v61EXvm60z8qp8yGZajTP33gjpm21tI/K3z1AkVf0z8=",
          "dtype": "f8"
         }
        },
        {
         "name": "FTA/FGA",
         "type": "scatter",
         "x": {
          "bdata": "3gcAAN8HAADgBwAA4QcAAOIHAADjBwAA5AcAAOUHAADmBwAA5wcAAA==",
          "dtype": "i4"
         },
         "y": {
          "bdata": "i3B4i9+V0T/IrzQoQ7XRP30GOocpX9E/pvvYq5Et0D9fJIUT96bQP0wRYH9qvtA/AfOdZvKszz/doD5Y0O/PP7x9ru68+tA/rRaydahP0D8=",
          "dtype": "f8"
         }
        },
        {
         "name": "TRU%",
         "type": "scatter",
         "x": {
          "bdata": "3gcAAN8HAADgBwAA4QcAAOIHAADjBwAA5AcAAOUHAADmBwAA5wcAAA==",
          "dtype": "i4"
         },
         "y": {
          "bdata": "HJhEIKDu4D/+Ihoa8SfhP51ZhFgUjOE/bAW+qlWn4T8T5kA+n77hPxtE38Oh8eE/lgkbO/4m4j+c/RiMKfnhP+b+HojcauI/CGwj+xCA4j8=",
          "dtype": "f8"
         }
        },
        {
         "name": "AST_TOV",
         "type": "scatter",
         "x": {
          "bdata": "3gcAAN8HAADgBwAA4QcAAOIHAADjBwAA5AcAAOUHAADmBwAA5wcAAA==",
          "dtype": "i4"
         },
         "y": {
          "bdata": "G+AOGHvN+T/AC1wmV9X5P7fb8j/kHfs/1LzJUcw5+z8whenRMQz9PyPh++WD//s/ucD4s4oL/j+D/hFkURT+Pwo8sGJNPP4/JBs/9Z18AEA=",
          "dtype": "f8"
         }
        }
       ],
       "layout": {
        "height": 600,
        "template": {
         "data": {
          "bar": [
           {
            "error_x": {
             "color": "#2a3f5f"
            },
            "error_y": {
             "color": "#2a3f5f"
            },
            "marker": {
             "line": {
              "color": "#E5ECF6",
              "width": 0.5
             },
             "pattern": {
              "fillmode": "overlay",
              "size": 10,
              "solidity": 0.2
             }
            },
            "type": "bar"
           }
          ],
          "barpolar": [
           {
            "marker": {
             "line": {
              "color": "#E5ECF6",
              "width": 0.5
             },
             "pattern": {
              "fillmode": "overlay",
              "size": 10,
              "solidity": 0.2
             }
            },
            "type": "barpolar"
           }
          ],
          "carpet": [
           {
            "aaxis": {
             "endlinecolor": "#2a3f5f",
             "gridcolor": "white",
             "linecolor": "white",
             "minorgridcolor": "white",
             "startlinecolor": "#2a3f5f"
            },
            "baxis": {
             "endlinecolor": "#2a3f5f",
             "gridcolor": "white",
             "linecolor": "white",
             "minorgridcolor": "white",
             "startlinecolor": "#2a3f5f"
            },
            "type": "carpet"
           }
          ],
          "choropleth": [
           {
            "colorbar": {
             "outlinewidth": 0,
             "ticks": ""
            },
            "type": "choropleth"
           }
          ],
          "contour": [
           {
            "colorbar": {
             "outlinewidth": 0,
             "ticks": ""
            },
            "colorscale": [
             [
              0,
              "#0d0887"
             ],
             [
              0.1111111111111111,
              "#46039f"
             ],
             [
              0.2222222222222222,
              "#7201a8"
             ],
             [
              0.3333333333333333,
              "#9c179e"
             ],
             [
              0.4444444444444444,
              "#bd3786"
             ],
             [
              0.5555555555555556,
              "#d8576b"
             ],
             [
              0.6666666666666666,
              "#ed7953"
             ],
             [
              0.7777777777777778,
              "#fb9f3a"
             ],
             [
              0.8888888888888888,
              "#fdca26"
             ],
             [
              1,
              "#f0f921"
             ]
            ],
            "type": "contour"
           }
          ],
          "contourcarpet": [
           {
            "colorbar": {
             "outlinewidth": 0,
             "ticks": ""
            },
            "type": "contourcarpet"
           }
          ],
          "heatmap": [
           {
            "colorbar": {
             "outlinewidth": 0,
             "ticks": ""
            },
            "colorscale": [
             [
              0,
              "#0d0887"
             ],
             [
              0.1111111111111111,
              "#46039f"
             ],
             [
              0.2222222222222222,
              "#7201a8"
             ],
             [
              0.3333333333333333,
              "#9c179e"
             ],
             [
              0.4444444444444444,
              "#bd3786"
             ],
             [
              0.5555555555555556,
              "#d8576b"
             ],
             [
              0.6666666666666666,
              "#ed7953"
             ],
             [
              0.7777777777777778,
              "#fb9f3a"
             ],
             [
              0.8888888888888888,
              "#fdca26"
             ],
             [
              1,
              "#f0f921"
             ]
            ],
            "type": "heatmap"
           }
          ],
          "histogram": [
           {
            "marker": {
             "pattern": {
              "fillmode": "overlay",
              "size": 10,
              "solidity": 0.2
             }
            },
            "type": "histogram"
           }
          ],
          "histogram2d": [
           {
            "colorbar": {
             "outlinewidth": 0,
             "ticks": ""
            },
            "colorscale": [
             [
              0,
              "#0d0887"
             ],
             [
              0.1111111111111111,
              "#46039f"
             ],
             [
              0.2222222222222222,
              "#7201a8"
             ],
             [
              0.3333333333333333,
              "#9c179e"
             ],
             [
              0.4444444444444444,
              "#bd3786"
             ],
             [
              0.5555555555555556,
              "#d8576b"
             ],
             [
              0.6666666666666666,
              "#ed7953"
             ],
             [
              0.7777777777777778,
              "#fb9f3a"
             ],
             [
              0.8888888888888888,
              "#fdca26"
             ],
             [
              1,
              "#f0f921"
             ]
            ],
            "type": "histogram2d"
           }
          ],
          "histogram2dcontour": [
           {
            "colorbar": {
             "outlinewidth": 0,
             "ticks": ""
            },
            "colorscale": [
             [
              0,
              "#0d0887"
             ],
             [
              0.1111111111111111,
              "#46039f"
             ],
             [
              0.2222222222222222,
              "#7201a8"
             ],
             [
              0.3333333333333333,
              "#9c179e"
             ],
             [
              0.4444444444444444,
              "#bd3786"
             ],
             [
              0.5555555555555556,
              "#d8576b"
             ],
             [
              0.6666666666666666,
              "#ed7953"
             ],
             [
              0.7777777777777778,
              "#fb9f3a"
             ],
             [
              0.8888888888888888,
              "#fdca26"
             ],
             [
              1,
              "#f0f921"
             ]
            ],
            "type": "histogram2dcontour"
           }
          ],
          "mesh3d": [
           {
            "colorbar": {
             "outlinewidth": 0,
             "ticks": ""
            },
            "type": "mesh3d"
           }
          ],
          "parcoords": [
           {
            "line": {
             "colorbar": {
              "outlinewidth": 0,
              "ticks": ""
             }
            },
            "type": "parcoords"
           }
          ],
          "pie": [
           {
            "automargin": true,
            "type": "pie"
           }
          ],
          "scatter": [
           {
            "fillpattern": {
             "fillmode": "overlay",
             "size": 10,
             "solidity": 0.2
            },
            "type": "scatter"
           }
          ],
          "scatter3d": [
           {
            "line": {
             "colorbar": {
              "outlinewidth": 0,
              "ticks": ""
             }
            },
            "marker": {
             "colorbar": {
              "outlinewidth": 0,
              "ticks": ""
             }
            },
            "type": "scatter3d"
           }
          ],
          "scattercarpet": [
           {
            "marker": {
             "colorbar": {
              "outlinewidth": 0,
              "ticks": ""
             }
            },
            "type": "scattercarpet"
           }
          ],
          "scattergeo": [
           {
            "marker": {
             "colorbar": {
              "outlinewidth": 0,
              "ticks": ""
             }
            },
            "type": "scattergeo"
           }
          ],
          "scattergl": [
           {
            "marker": {
             "colorbar": {
              "outlinewidth": 0,
              "ticks": ""
             }
            },
            "type": "scattergl"
           }
          ],
          "scattermap": [
           {
            "marker": {
             "colorbar": {
              "outlinewidth": 0,
              "ticks": ""
             }
            },
            "type": "scattermap"
           }
          ],
          "scattermapbox": [
           {
            "marker": {
             "colorbar": {
              "outlinewidth": 0,
              "ticks": ""
             }
            },
            "type": "scattermapbox"
           }
          ],
          "scatterpolar": [
           {
            "marker": {
             "colorbar": {
              "outlinewidth": 0,
              "ticks": ""
             }
            },
            "type": "scatterpolar"
           }
          ],
          "scatterpolargl": [
           {
            "marker": {
             "colorbar": {
              "outlinewidth": 0,
              "ticks": ""
             }
            },
            "type": "scatterpolargl"
           }
          ],
          "scatterternary": [
           {
            "marker": {
             "colorbar": {
              "outlinewidth": 0,
              "ticks": ""
             }
            },
            "type": "scatterternary"
           }
          ],
          "surface": [
           {
            "colorbar": {
             "outlinewidth": 0,
             "ticks": ""
            },
            "colorscale": [
             [
              0,
              "#0d0887"
             ],
             [
              0.1111111111111111,
              "#46039f"
             ],
             [
              0.2222222222222222,
              "#7201a8"
             ],
             [
              0.3333333333333333,
              "#9c179e"
             ],
             [
              0.4444444444444444,
              "#bd3786"
             ],
             [
              0.5555555555555556,
              "#d8576b"
             ],
             [
              0.6666666666666666,
              "#ed7953"
             ],
             [
              0.7777777777777778,
              "#fb9f3a"
             ],
             [
              0.8888888888888888,
              "#fdca26"
             ],
             [
              1,
              "#f0f921"
             ]
            ],
            "type": "surface"
           }
          ],
          "table": [
           {
            "cells": {
             "fill": {
              "color": "#EBF0F8"
             },
             "line": {
              "color": "white"
             }
            },
            "header": {
             "fill": {
              "color": "#C8D4E3"
             },
             "line": {
              "color": "white"
             }
            },
            "type": "table"
           }
          ]
         },
         "layout": {
          "annotationdefaults": {
           "arrowcolor": "#2a3f5f",
           "arrowhead": 0,
           "arrowwidth": 1
          },
          "autotypenumbers": "strict",
          "coloraxis": {
           "colorbar": {
            "outlinewidth": 0,
            "ticks": ""
           }
          },
          "colorscale": {
           "diverging": [
            [
             0,
             "#8e0152"
            ],
            [
             0.1,
             "#c51b7d"
            ],
            [
             0.2,
             "#de77ae"
            ],
            [
             0.3,
             "#f1b6da"
            ],
            [
             0.4,
             "#fde0ef"
            ],
            [
             0.5,
             "#f7f7f7"
            ],
            [
             0.6,
             "#e6f5d0"
            ],
            [
             0.7,
             "#b8e186"
            ],
            [
             0.8,
             "#7fbc41"
            ],
            [
             0.9,
             "#4d9221"
            ],
            [
             1,
             "#276419"
            ]
           ],
           "sequential": [
            [
             0,
             "#0d0887"
            ],
            [
             0.1111111111111111,
             "#46039f"
            ],
            [
             0.2222222222222222,
             "#7201a8"
            ],
            [
             0.3333333333333333,
             "#9c179e"
            ],
            [
             0.4444444444444444,
             "#bd3786"
            ],
            [
             0.5555555555555556,
             "#d8576b"
            ],
            [
             0.6666666666666666,
             "#ed7953"
            ],
            [
             0.7777777777777778,
             "#fb9f3a"
            ],
            [
             0.8888888888888888,
             "#fdca26"
            ],
            [
             1,
             "#f0f921"
            ]
           ],
           "sequentialminus": [
            [
             0,
             "#0d0887"
            ],
            [
             0.1111111111111111,
             "#46039f"
            ],
            [
             0.2222222222222222,
             "#7201a8"
            ],
            [
             0.3333333333333333,
             "#9c179e"
            ],
            [
             0.4444444444444444,
             "#bd3786"
            ],
            [
             0.5555555555555556,
             "#d8576b"
            ],
            [
             0.6666666666666666,
             "#ed7953"
            ],
            [
             0.7777777777777778,
             "#fb9f3a"
            ],
            [
             0.8888888888888888,
             "#fdca26"
            ],
            [
             1,
             "#f0f921"
            ]
           ]
          },
          "colorway": [
           "#636efa",
           "#EF553B",
           "#00cc96",
           "#ab63fa",
           "#FFA15A",
           "#19d3f3",
           "#FF6692",
           "#B6E880",
           "#FF97FF",
           "#FECB52"
          ],
          "font": {
           "color": "#2a3f5f"
          },
          "geo": {
           "bgcolor": "white",
           "lakecolor": "white",
           "landcolor": "#E5ECF6",
           "showlakes": true,
           "showland": true,
           "subunitcolor": "white"
          },
          "hoverlabel": {
           "align": "left"
          },
          "hovermode": "closest",
          "mapbox": {
           "style": "light"
          },
          "paper_bgcolor": "white",
          "plot_bgcolor": "#E5ECF6",
          "polar": {
           "angularaxis": {
            "gridcolor": "white",
            "linecolor": "white",
            "ticks": ""
           },
           "bgcolor": "#E5ECF6",
           "radialaxis": {
            "gridcolor": "white",
            "linecolor": "white",
            "ticks": ""
           }
          },
          "scene": {
           "xaxis": {
            "backgroundcolor": "#E5ECF6",
            "gridcolor": "white",
            "gridwidth": 2,
            "linecolor": "white",
            "showbackground": true,
            "ticks": "",
            "zerolinecolor": "white"
           },
           "yaxis": {
            "backgroundcolor": "#E5ECF6",
            "gridcolor": "white",
            "gridwidth": 2,
            "linecolor": "white",
            "showbackground": true,
            "ticks": "",
            "zerolinecolor": "white"
           },
           "zaxis": {
            "backgroundcolor": "#E5ECF6",
            "gridcolor": "white",
            "gridwidth": 2,
            "linecolor": "white",
            "showbackground": true,
            "ticks": "",
            "zerolinecolor": "white"
           }
          },
          "shapedefaults": {
           "line": {
            "color": "#2a3f5f"
           }
          },
          "ternary": {
           "aaxis": {
            "gridcolor": "white",
            "linecolor": "white",
            "ticks": ""
           },
           "baxis": {
            "gridcolor": "white",
            "linecolor": "white",
            "ticks": ""
           },
           "bgcolor": "#E5ECF6",
           "caxis": {
            "gridcolor": "white",
            "linecolor": "white",
            "ticks": ""
           }
          },
          "title": {
           "x": 0.05
          },
          "xaxis": {
           "automargin": true,
           "gridcolor": "white",
           "linecolor": "white",
           "ticks": "",
           "title": {
            "standoff": 15
           },
           "zerolinecolor": "white",
           "zerolinewidth": 2
          },
          "yaxis": {
           "automargin": true,
           "gridcolor": "white",
           "linecolor": "white",
           "ticks": "",
           "title": {
            "standoff": 15
           },
           "zerolinecolor": "white",
           "zerolinewidth": 2
          }
         }
        },
        "title": {
         "text": "changes over the year per 100 possessions",
         "x": 0.5,
         "y": 0.95
        },
        "width": 800,
        "xaxis": {
         "title": {
          "text": "years"
         }
        },
        "yaxis": {
         "title": {
          "text": "stats"
         }
        }
       }
      }
     },
     "metadata": {},
     "output_type": "display_data"
    }
   ],
   "source": [
    "change_per100_df = change_df.copy()\n",
    "\n",
    "for col in change_per100_df.columns[3:18]:\n",
    "    change_per100_df[col] = (change_per100_df[col]/change_per100_df['POSS_est'])*100\n",
    "\n",
    "change_per100_df.drop(columns=['MIN','POSS_est'], inplace=True)\n",
    "change_per100_df\n",
    "\n",
    "fig = go.Figure()\n",
    "for col in change_per100_df.columns[1:]:\n",
    "    fig.add_trace(go.Scatter(x=change_per100_df['season_start_year'],\n",
    "                             y=change_per100_df[col], name=col))\n",
    "\n",
    "fig.update_layout(height=600, width=800)\n",
    "fig.update_xaxes(title_text='years')\n",
    "fig.update_yaxes(title_text='stats')\n",
    "fig.update_layout(title_text='changes over the year per 100 possessions', title_x=0.5, title_y=0.95)\n",
    "fig.show()"
   ]
  },
  {
   "cell_type": "markdown",
   "id": "4641dc4c-7cbb-4725-9cc8-657c1630e101",
   "metadata": {},
   "source": [
    "## comparing regular season to playoffs"
   ]
  },
  {
   "cell_type": "code",
   "execution_count": 29,
   "id": "896b44f6-60a4-4991-a256-41be2245a50e",
   "metadata": {},
   "outputs": [
    {
     "data": {
      "text/html": [
       "<div>\n",
       "<style scoped>\n",
       "    .dataframe tbody tr th:only-of-type {\n",
       "        vertical-align: middle;\n",
       "    }\n",
       "\n",
       "    .dataframe tbody tr th {\n",
       "        vertical-align: top;\n",
       "    }\n",
       "\n",
       "    .dataframe thead th {\n",
       "        text-align: right;\n",
       "    }\n",
       "</style>\n",
       "<table border=\"1\" class=\"dataframe\">\n",
       "  <thead>\n",
       "    <tr style=\"text-align: right;\">\n",
       "      <th></th>\n",
       "      <th>season_start_year</th>\n",
       "      <th>FGM</th>\n",
       "      <th>FGA</th>\n",
       "      <th>FG3M</th>\n",
       "      <th>FG3A</th>\n",
       "      <th>FTM</th>\n",
       "      <th>FTA</th>\n",
       "      <th>OREB</th>\n",
       "      <th>DREB</th>\n",
       "      <th>REB</th>\n",
       "      <th>AST</th>\n",
       "      <th>STL</th>\n",
       "      <th>BLK</th>\n",
       "      <th>TOV</th>\n",
       "      <th>PF</th>\n",
       "      <th>PTS</th>\n",
       "      <th>POSS_per_48</th>\n",
       "      <th>FG%</th>\n",
       "      <th>3PT%</th>\n",
       "      <th>FT%</th>\n",
       "      <th>AST%</th>\n",
       "      <th>FG3A%</th>\n",
       "      <th>PTS/FGA</th>\n",
       "      <th>FG3M/FGM</th>\n",
       "      <th>FTA/FGA</th>\n",
       "      <th>TRU%</th>\n",
       "      <th>AST_TOV</th>\n",
       "    </tr>\n",
       "  </thead>\n",
       "  <tbody>\n",
       "    <tr>\n",
       "      <th>0</th>\n",
       "      <td>2014</td>\n",
       "      <td>38.900086</td>\n",
       "      <td>86.650240</td>\n",
       "      <td>8.135183</td>\n",
       "      <td>23.240912</td>\n",
       "      <td>17.771371</td>\n",
       "      <td>23.688136</td>\n",
       "      <td>11.288515</td>\n",
       "      <td>33.604208</td>\n",
       "      <td>44.892723</td>\n",
       "      <td>22.846798</td>\n",
       "      <td>8.021797</td>\n",
       "      <td>4.972578</td>\n",
       "      <td>14.215495</td>\n",
       "      <td>20.960953</td>\n",
       "      <td>103.706727</td>\n",
       "      <td>95.659492</td>\n",
       "      <td>0.448932</td>\n",
       "      <td>0.350037</td>\n",
       "      <td>0.750222</td>\n",
       "      <td>0.587320</td>\n",
       "      <td>0.268215</td>\n",
       "      <td>1.196843</td>\n",
       "      <td>0.209130</td>\n",
       "      <td>0.273376</td>\n",
       "      <td>0.529645</td>\n",
       "      <td>1.607176</td>\n",
       "    </tr>\n",
       "    <tr>\n",
       "      <th>1</th>\n",
       "      <td>2015</td>\n",
       "      <td>38.926558</td>\n",
       "      <td>86.096120</td>\n",
       "      <td>8.670900</td>\n",
       "      <td>24.515476</td>\n",
       "      <td>17.996886</td>\n",
       "      <td>23.782176</td>\n",
       "      <td>10.603882</td>\n",
       "      <td>33.942436</td>\n",
       "      <td>44.546317</td>\n",
       "      <td>22.690502</td>\n",
       "      <td>7.988086</td>\n",
       "      <td>5.045782</td>\n",
       "      <td>14.043605</td>\n",
       "      <td>20.630890</td>\n",
       "      <td>104.520902</td>\n",
       "      <td>97.493488</td>\n",
       "      <td>0.452129</td>\n",
       "      <td>0.353691</td>\n",
       "      <td>0.756738</td>\n",
       "      <td>0.582905</td>\n",
       "      <td>0.284745</td>\n",
       "      <td>1.214002</td>\n",
       "      <td>0.222750</td>\n",
       "      <td>0.276228</td>\n",
       "      <td>0.536595</td>\n",
       "      <td>1.615718</td>\n",
       "    </tr>\n",
       "    <tr>\n",
       "      <th>2</th>\n",
       "      <td>2016</td>\n",
       "      <td>39.516445</td>\n",
       "      <td>86.434227</td>\n",
       "      <td>9.769173</td>\n",
       "      <td>27.323490</td>\n",
       "      <td>18.052073</td>\n",
       "      <td>23.388341</td>\n",
       "      <td>10.257879</td>\n",
       "      <td>33.777035</td>\n",
       "      <td>44.034914</td>\n",
       "      <td>22.896756</td>\n",
       "      <td>7.795428</td>\n",
       "      <td>4.800256</td>\n",
       "      <td>13.532781</td>\n",
       "      <td>20.136476</td>\n",
       "      <td>106.854135</td>\n",
       "      <td>98.151085</td>\n",
       "      <td>0.457185</td>\n",
       "      <td>0.357538</td>\n",
       "      <td>0.771841</td>\n",
       "      <td>0.579423</td>\n",
       "      <td>0.316119</td>\n",
       "      <td>1.236248</td>\n",
       "      <td>0.247218</td>\n",
       "      <td>0.270591</td>\n",
       "      <td>0.547724</td>\n",
       "      <td>1.691948</td>\n",
       "    </tr>\n",
       "    <tr>\n",
       "      <th>3</th>\n",
       "      <td>2017</td>\n",
       "      <td>39.782703</td>\n",
       "      <td>86.439951</td>\n",
       "      <td>10.536996</td>\n",
       "      <td>29.127708</td>\n",
       "      <td>16.700692</td>\n",
       "      <td>21.772593</td>\n",
       "      <td>9.754285</td>\n",
       "      <td>33.953813</td>\n",
       "      <td>43.708098</td>\n",
       "      <td>23.339648</td>\n",
       "      <td>7.750757</td>\n",
       "      <td>4.836313</td>\n",
       "      <td>13.734393</td>\n",
       "      <td>19.940143</td>\n",
       "      <td>106.803093</td>\n",
       "      <td>98.979263</td>\n",
       "      <td>0.460235</td>\n",
       "      <td>0.361752</td>\n",
       "      <td>0.767051</td>\n",
       "      <td>0.586678</td>\n",
       "      <td>0.336970</td>\n",
       "      <td>1.235576</td>\n",
       "      <td>0.264864</td>\n",
       "      <td>0.251881</td>\n",
       "      <td>0.551772</td>\n",
       "      <td>1.699358</td>\n",
       "    </tr>\n",
       "    <tr>\n",
       "      <th>4</th>\n",
       "      <td>2018</td>\n",
       "      <td>40.060963</td>\n",
       "      <td>86.993122</td>\n",
       "      <td>11.081358</td>\n",
       "      <td>31.213318</td>\n",
       "      <td>17.241016</td>\n",
       "      <td>22.498864</td>\n",
       "      <td>10.089962</td>\n",
       "      <td>33.952838</td>\n",
       "      <td>44.042800</td>\n",
       "      <td>23.975453</td>\n",
       "      <td>7.443993</td>\n",
       "      <td>4.830132</td>\n",
       "      <td>13.197341</td>\n",
       "      <td>20.384863</td>\n",
       "      <td>108.444300</td>\n",
       "      <td>101.847754</td>\n",
       "      <td>0.460507</td>\n",
       "      <td>0.355020</td>\n",
       "      <td>0.766306</td>\n",
       "      <td>0.598474</td>\n",
       "      <td>0.358802</td>\n",
       "      <td>1.246585</td>\n",
       "      <td>0.276612</td>\n",
       "      <td>0.258628</td>\n",
       "      <td>0.555099</td>\n",
       "      <td>1.816688</td>\n",
       "    </tr>\n",
       "    <tr>\n",
       "      <th>5</th>\n",
       "      <td>2019</td>\n",
       "      <td>39.741774</td>\n",
       "      <td>86.378550</td>\n",
       "      <td>11.875237</td>\n",
       "      <td>33.176460</td>\n",
       "      <td>17.368831</td>\n",
       "      <td>22.473502</td>\n",
       "      <td>9.798838</td>\n",
       "      <td>33.803237</td>\n",
       "      <td>43.602075</td>\n",
       "      <td>23.716035</td>\n",
       "      <td>7.438668</td>\n",
       "      <td>4.765339</td>\n",
       "      <td>13.531948</td>\n",
       "      <td>20.205627</td>\n",
       "      <td>108.727615</td>\n",
       "      <td>102.071250</td>\n",
       "      <td>0.460088</td>\n",
       "      <td>0.357942</td>\n",
       "      <td>0.772858</td>\n",
       "      <td>0.596753</td>\n",
       "      <td>0.384082</td>\n",
       "      <td>1.258734</td>\n",
       "      <td>0.298810</td>\n",
       "      <td>0.260175</td>\n",
       "      <td>0.560143</td>\n",
       "      <td>1.752596</td>\n",
       "    </tr>\n",
       "    <tr>\n",
       "      <th>6</th>\n",
       "      <td>2020</td>\n",
       "      <td>40.637565</td>\n",
       "      <td>87.183600</td>\n",
       "      <td>12.520406</td>\n",
       "      <td>34.156188</td>\n",
       "      <td>16.730698</td>\n",
       "      <td>21.517093</td>\n",
       "      <td>9.692393</td>\n",
       "      <td>33.988197</td>\n",
       "      <td>43.680589</td>\n",
       "      <td>24.457861</td>\n",
       "      <td>7.466502</td>\n",
       "      <td>4.804198</td>\n",
       "      <td>13.041271</td>\n",
       "      <td>19.021868</td>\n",
       "      <td>110.526234</td>\n",
       "      <td>100.810750</td>\n",
       "      <td>0.466115</td>\n",
       "      <td>0.366563</td>\n",
       "      <td>0.777554</td>\n",
       "      <td>0.601854</td>\n",
       "      <td>0.391773</td>\n",
       "      <td>1.267741</td>\n",
       "      <td>0.308099</td>\n",
       "      <td>0.246802</td>\n",
       "      <td>0.567359</td>\n",
       "      <td>1.875420</td>\n",
       "    </tr>\n",
       "    <tr>\n",
       "      <th>7</th>\n",
       "      <td>2021</td>\n",
       "      <td>40.444286</td>\n",
       "      <td>87.713064</td>\n",
       "      <td>12.383811</td>\n",
       "      <td>35.022979</td>\n",
       "      <td>16.859678</td>\n",
       "      <td>21.766578</td>\n",
       "      <td>10.288949</td>\n",
       "      <td>33.966643</td>\n",
       "      <td>44.255592</td>\n",
       "      <td>24.540976</td>\n",
       "      <td>7.597520</td>\n",
       "      <td>4.692395</td>\n",
       "      <td>12.998590</td>\n",
       "      <td>19.550702</td>\n",
       "      <td>110.132061</td>\n",
       "      <td>99.871250</td>\n",
       "      <td>0.461098</td>\n",
       "      <td>0.353591</td>\n",
       "      <td>0.774567</td>\n",
       "      <td>0.606785</td>\n",
       "      <td>0.399290</td>\n",
       "      <td>1.255595</td>\n",
       "      <td>0.306194</td>\n",
       "      <td>0.248157</td>\n",
       "      <td>0.561599</td>\n",
       "      <td>1.887972</td>\n",
       "    </tr>\n",
       "    <tr>\n",
       "      <th>8</th>\n",
       "      <td>2022</td>\n",
       "      <td>41.294479</td>\n",
       "      <td>86.867572</td>\n",
       "      <td>12.140801</td>\n",
       "      <td>33.658240</td>\n",
       "      <td>18.095028</td>\n",
       "      <td>23.147063</td>\n",
       "      <td>10.265233</td>\n",
       "      <td>32.468114</td>\n",
       "      <td>42.733347</td>\n",
       "      <td>24.905858</td>\n",
       "      <td>7.171547</td>\n",
       "      <td>4.578144</td>\n",
       "      <td>13.212954</td>\n",
       "      <td>19.655068</td>\n",
       "      <td>112.824787</td>\n",
       "      <td>100.886815</td>\n",
       "      <td>0.475373</td>\n",
       "      <td>0.360708</td>\n",
       "      <td>0.781742</td>\n",
       "      <td>0.603128</td>\n",
       "      <td>0.387466</td>\n",
       "      <td>1.298814</td>\n",
       "      <td>0.294005</td>\n",
       "      <td>0.266464</td>\n",
       "      <td>0.576446</td>\n",
       "      <td>1.884958</td>\n",
       "    </tr>\n",
       "    <tr>\n",
       "      <th>9</th>\n",
       "      <td>2023</td>\n",
       "      <td>41.848786</td>\n",
       "      <td>87.891356</td>\n",
       "      <td>12.667200</td>\n",
       "      <td>34.468341</td>\n",
       "      <td>17.563792</td>\n",
       "      <td>22.400162</td>\n",
       "      <td>10.497913</td>\n",
       "      <td>32.382982</td>\n",
       "      <td>42.880895</td>\n",
       "      <td>26.276817</td>\n",
       "      <td>7.276657</td>\n",
       "      <td>5.093275</td>\n",
       "      <td>12.750487</td>\n",
       "      <td>19.144950</td>\n",
       "      <td>113.928564</td>\n",
       "      <td>100.897324</td>\n",
       "      <td>0.476142</td>\n",
       "      <td>0.367502</td>\n",
       "      <td>0.784092</td>\n",
       "      <td>0.627899</td>\n",
       "      <td>0.392170</td>\n",
       "      <td>1.296243</td>\n",
       "      <td>0.302690</td>\n",
       "      <td>0.254862</td>\n",
       "      <td>0.578133</td>\n",
       "      <td>2.060848</td>\n",
       "    </tr>\n",
       "  </tbody>\n",
       "</table>\n",
       "</div>"
      ],
      "text/plain": [
       "   season_start_year        FGM        FGA       FG3M       FG3A        FTM  \\\n",
       "0               2014  38.900086  86.650240   8.135183  23.240912  17.771371   \n",
       "1               2015  38.926558  86.096120   8.670900  24.515476  17.996886   \n",
       "2               2016  39.516445  86.434227   9.769173  27.323490  18.052073   \n",
       "3               2017  39.782703  86.439951  10.536996  29.127708  16.700692   \n",
       "4               2018  40.060963  86.993122  11.081358  31.213318  17.241016   \n",
       "5               2019  39.741774  86.378550  11.875237  33.176460  17.368831   \n",
       "6               2020  40.637565  87.183600  12.520406  34.156188  16.730698   \n",
       "7               2021  40.444286  87.713064  12.383811  35.022979  16.859678   \n",
       "8               2022  41.294479  86.867572  12.140801  33.658240  18.095028   \n",
       "9               2023  41.848786  87.891356  12.667200  34.468341  17.563792   \n",
       "\n",
       "         FTA       OREB       DREB        REB        AST       STL       BLK  \\\n",
       "0  23.688136  11.288515  33.604208  44.892723  22.846798  8.021797  4.972578   \n",
       "1  23.782176  10.603882  33.942436  44.546317  22.690502  7.988086  5.045782   \n",
       "2  23.388341  10.257879  33.777035  44.034914  22.896756  7.795428  4.800256   \n",
       "3  21.772593   9.754285  33.953813  43.708098  23.339648  7.750757  4.836313   \n",
       "4  22.498864  10.089962  33.952838  44.042800  23.975453  7.443993  4.830132   \n",
       "5  22.473502   9.798838  33.803237  43.602075  23.716035  7.438668  4.765339   \n",
       "6  21.517093   9.692393  33.988197  43.680589  24.457861  7.466502  4.804198   \n",
       "7  21.766578  10.288949  33.966643  44.255592  24.540976  7.597520  4.692395   \n",
       "8  23.147063  10.265233  32.468114  42.733347  24.905858  7.171547  4.578144   \n",
       "9  22.400162  10.497913  32.382982  42.880895  26.276817  7.276657  5.093275   \n",
       "\n",
       "         TOV         PF         PTS  POSS_per_48       FG%      3PT%  \\\n",
       "0  14.215495  20.960953  103.706727    95.659492  0.448932  0.350037   \n",
       "1  14.043605  20.630890  104.520902    97.493488  0.452129  0.353691   \n",
       "2  13.532781  20.136476  106.854135    98.151085  0.457185  0.357538   \n",
       "3  13.734393  19.940143  106.803093    98.979263  0.460235  0.361752   \n",
       "4  13.197341  20.384863  108.444300   101.847754  0.460507  0.355020   \n",
       "5  13.531948  20.205627  108.727615   102.071250  0.460088  0.357942   \n",
       "6  13.041271  19.021868  110.526234   100.810750  0.466115  0.366563   \n",
       "7  12.998590  19.550702  110.132061    99.871250  0.461098  0.353591   \n",
       "8  13.212954  19.655068  112.824787   100.886815  0.475373  0.360708   \n",
       "9  12.750487  19.144950  113.928564   100.897324  0.476142  0.367502   \n",
       "\n",
       "        FT%      AST%     FG3A%   PTS/FGA  FG3M/FGM   FTA/FGA      TRU%  \\\n",
       "0  0.750222  0.587320  0.268215  1.196843  0.209130  0.273376  0.529645   \n",
       "1  0.756738  0.582905  0.284745  1.214002  0.222750  0.276228  0.536595   \n",
       "2  0.771841  0.579423  0.316119  1.236248  0.247218  0.270591  0.547724   \n",
       "3  0.767051  0.586678  0.336970  1.235576  0.264864  0.251881  0.551772   \n",
       "4  0.766306  0.598474  0.358802  1.246585  0.276612  0.258628  0.555099   \n",
       "5  0.772858  0.596753  0.384082  1.258734  0.298810  0.260175  0.560143   \n",
       "6  0.777554  0.601854  0.391773  1.267741  0.308099  0.246802  0.567359   \n",
       "7  0.774567  0.606785  0.399290  1.255595  0.306194  0.248157  0.561599   \n",
       "8  0.781742  0.603128  0.387466  1.298814  0.294005  0.266464  0.576446   \n",
       "9  0.784092  0.627899  0.392170  1.296243  0.302690  0.254862  0.578133   \n",
       "\n",
       "    AST_TOV  \n",
       "0  1.607176  \n",
       "1  1.615718  \n",
       "2  1.691948  \n",
       "3  1.699358  \n",
       "4  1.816688  \n",
       "5  1.752596  \n",
       "6  1.875420  \n",
       "7  1.887972  \n",
       "8  1.884958  \n",
       "9  2.060848  "
      ]
     },
     "execution_count": 29,
     "metadata": {},
     "output_type": "execute_result"
    }
   ],
   "source": [
    "rs_change_df = rs_df.groupby('season_start_year')[total_cols].sum().reset_index()\n",
    "playoffs_change_df = playoffs_df.groupby('season_start_year')[total_cols].sum().reset_index()\n",
    "\n",
    "for i in [rs_change_df,playoffs_change_df]:\n",
    "    i['POSS_est'] = i['FGA']-i['OREB']+i['TOV']+0.44*i['FTA']\n",
    "    i['POSS_per_48'] = (i['POSS_est']/i['MIN'])*48*5\n",
    "    \n",
    "    i['FG%'] = i['FGM']/i['FGA']\n",
    "    i['3PT%'] = i['FG3M']/i['FG3A']\n",
    "    i['FT%'] = i['FTM']/i['FTA']\n",
    "    i['AST%'] = i['AST']/i['FGM']\n",
    "    i['FG3A%'] = i['FG3A']/i['FGA']\n",
    "    i['PTS/FGA'] = i['PTS']/i['FGA']\n",
    "    i['FG3M/FGM'] = i['FG3M']/i['FGM']\n",
    "    i['FTA/FGA'] = i['FTA']/i['FGA']\n",
    "    i['TRU%'] = 0.5*i['PTS']/(i['FGA']+0.475*i['FTA'])\n",
    "    i['AST_TOV'] = i['AST']/i['TOV']\n",
    "    for col in total_cols:\n",
    "        i[col] = 100*i[col]/i['POSS_est']\n",
    "    i.drop(columns=['MIN','POSS_est'], inplace=True)\n",
    "    \n",
    "rs_change_df"
   ]
  },
  {
   "cell_type": "code",
   "execution_count": 30,
   "id": "cf26be4f-bedd-4171-8579-69d21a1efbe5",
   "metadata": {},
   "outputs": [
    {
     "data": {
      "text/html": [
       "<div>\n",
       "<style scoped>\n",
       "    .dataframe tbody tr th:only-of-type {\n",
       "        vertical-align: middle;\n",
       "    }\n",
       "\n",
       "    .dataframe tbody tr th {\n",
       "        vertical-align: top;\n",
       "    }\n",
       "\n",
       "    .dataframe thead th {\n",
       "        text-align: right;\n",
       "    }\n",
       "</style>\n",
       "<table border=\"1\" class=\"dataframe\">\n",
       "  <thead>\n",
       "    <tr style=\"text-align: right;\">\n",
       "      <th></th>\n",
       "      <th>season_start_year</th>\n",
       "      <th>FGM</th>\n",
       "      <th>FGA</th>\n",
       "      <th>FG3M</th>\n",
       "      <th>FG3A</th>\n",
       "      <th>FTM</th>\n",
       "      <th>FTA</th>\n",
       "      <th>OREB</th>\n",
       "      <th>DREB</th>\n",
       "      <th>REB</th>\n",
       "      <th>AST</th>\n",
       "      <th>STL</th>\n",
       "      <th>BLK</th>\n",
       "      <th>TOV</th>\n",
       "      <th>PF</th>\n",
       "      <th>PTS</th>\n",
       "      <th>POSS_per_48</th>\n",
       "      <th>FG%</th>\n",
       "      <th>3PT%</th>\n",
       "      <th>FT%</th>\n",
       "      <th>AST%</th>\n",
       "      <th>FG3A%</th>\n",
       "      <th>PTS/FGA</th>\n",
       "      <th>FG3M/FGM</th>\n",
       "      <th>FTA/FGA</th>\n",
       "      <th>TRU%</th>\n",
       "      <th>AST_TOV</th>\n",
       "    </tr>\n",
       "  </thead>\n",
       "  <tbody>\n",
       "    <tr>\n",
       "      <th>0</th>\n",
       "      <td>2014</td>\n",
       "      <td>-2.737</td>\n",
       "      <td>0.266</td>\n",
       "      <td>11.046</td>\n",
       "      <td>12.980</td>\n",
       "      <td>4.844</td>\n",
       "      <td>8.464</td>\n",
       "      <td>0.314</td>\n",
       "      <td>3.983</td>\n",
       "      <td>3.060</td>\n",
       "      <td>-2.120</td>\n",
       "      <td>-2.726</td>\n",
       "      <td>10.739</td>\n",
       "      <td>-7.577</td>\n",
       "      <td>7.261</td>\n",
       "      <td>-0.357</td>\n",
       "      <td>0.549</td>\n",
       "      <td>-2.995</td>\n",
       "      <td>-1.712</td>\n",
       "      <td>-3.337</td>\n",
       "      <td>0.634</td>\n",
       "      <td>12.681</td>\n",
       "      <td>-0.621</td>\n",
       "      <td>14.171</td>\n",
       "      <td>8.176</td>\n",
       "      <td>-1.546</td>\n",
       "      <td>5.905</td>\n",
       "    </tr>\n",
       "    <tr>\n",
       "      <th>1</th>\n",
       "      <td>2015</td>\n",
       "      <td>-1.639</td>\n",
       "      <td>1.134</td>\n",
       "      <td>10.359</td>\n",
       "      <td>10.117</td>\n",
       "      <td>2.449</td>\n",
       "      <td>3.754</td>\n",
       "      <td>3.511</td>\n",
       "      <td>0.314</td>\n",
       "      <td>1.075</td>\n",
       "      <td>-8.193</td>\n",
       "      <td>-3.999</td>\n",
       "      <td>2.971</td>\n",
       "      <td>-7.096</td>\n",
       "      <td>6.995</td>\n",
       "      <td>0.060</td>\n",
       "      <td>-2.678</td>\n",
       "      <td>-2.741</td>\n",
       "      <td>0.220</td>\n",
       "      <td>-1.257</td>\n",
       "      <td>-6.663</td>\n",
       "      <td>8.883</td>\n",
       "      <td>-1.061</td>\n",
       "      <td>12.198</td>\n",
       "      <td>2.591</td>\n",
       "      <td>-1.358</td>\n",
       "      <td>-1.181</td>\n",
       "    </tr>\n",
       "    <tr>\n",
       "      <th>2</th>\n",
       "      <td>2016</td>\n",
       "      <td>0.316</td>\n",
       "      <td>-0.384</td>\n",
       "      <td>10.680</td>\n",
       "      <td>9.586</td>\n",
       "      <td>5.468</td>\n",
       "      <td>4.854</td>\n",
       "      <td>-2.594</td>\n",
       "      <td>-2.346</td>\n",
       "      <td>-2.404</td>\n",
       "      <td>-0.377</td>\n",
       "      <td>-0.318</td>\n",
       "      <td>0.412</td>\n",
       "      <td>-3.207</td>\n",
       "      <td>6.163</td>\n",
       "      <td>2.134</td>\n",
       "      <td>-1.399</td>\n",
       "      <td>0.703</td>\n",
       "      <td>0.998</td>\n",
       "      <td>0.586</td>\n",
       "      <td>-0.691</td>\n",
       "      <td>10.008</td>\n",
       "      <td>2.527</td>\n",
       "      <td>10.331</td>\n",
       "      <td>5.257</td>\n",
       "      <td>1.917</td>\n",
       "      <td>2.924</td>\n",
       "    </tr>\n",
       "    <tr>\n",
       "      <th>3</th>\n",
       "      <td>2017</td>\n",
       "      <td>-1.036</td>\n",
       "      <td>-0.020</td>\n",
       "      <td>2.286</td>\n",
       "      <td>5.358</td>\n",
       "      <td>5.549</td>\n",
       "      <td>5.813</td>\n",
       "      <td>-3.358</td>\n",
       "      <td>1.676</td>\n",
       "      <td>0.552</td>\n",
       "      <td>-4.159</td>\n",
       "      <td>-3.315</td>\n",
       "      <td>2.308</td>\n",
       "      <td>-6.315</td>\n",
       "      <td>6.690</td>\n",
       "      <td>0.322</td>\n",
       "      <td>-2.014</td>\n",
       "      <td>-1.016</td>\n",
       "      <td>-2.916</td>\n",
       "      <td>-0.250</td>\n",
       "      <td>-3.156</td>\n",
       "      <td>5.379</td>\n",
       "      <td>0.341</td>\n",
       "      <td>3.356</td>\n",
       "      <td>5.834</td>\n",
       "      <td>-0.280</td>\n",
       "      <td>2.301</td>\n",
       "    </tr>\n",
       "    <tr>\n",
       "      <th>4</th>\n",
       "      <td>2018</td>\n",
       "      <td>-4.331</td>\n",
       "      <td>-0.476</td>\n",
       "      <td>2.026</td>\n",
       "      <td>5.065</td>\n",
       "      <td>11.887</td>\n",
       "      <td>9.381</td>\n",
       "      <td>0.737</td>\n",
       "      <td>2.060</td>\n",
       "      <td>1.757</td>\n",
       "      <td>-4.422</td>\n",
       "      <td>-5.300</td>\n",
       "      <td>0.441</td>\n",
       "      <td>-3.336</td>\n",
       "      <td>8.363</td>\n",
       "      <td>-1.103</td>\n",
       "      <td>-2.406</td>\n",
       "      <td>-3.874</td>\n",
       "      <td>-2.893</td>\n",
       "      <td>2.291</td>\n",
       "      <td>-0.094</td>\n",
       "      <td>5.567</td>\n",
       "      <td>-0.630</td>\n",
       "      <td>6.645</td>\n",
       "      <td>9.904</td>\n",
       "      <td>-1.696</td>\n",
       "      <td>-1.123</td>\n",
       "    </tr>\n",
       "    <tr>\n",
       "      <th>5</th>\n",
       "      <td>2019</td>\n",
       "      <td>-2.298</td>\n",
       "      <td>-1.639</td>\n",
       "      <td>10.056</td>\n",
       "      <td>9.412</td>\n",
       "      <td>8.292</td>\n",
       "      <td>6.206</td>\n",
       "      <td>-10.140</td>\n",
       "      <td>1.575</td>\n",
       "      <td>-1.058</td>\n",
       "      <td>-3.600</td>\n",
       "      <td>-5.432</td>\n",
       "      <td>-10.645</td>\n",
       "      <td>-1.416</td>\n",
       "      <td>7.634</td>\n",
       "      <td>0.743</td>\n",
       "      <td>-2.870</td>\n",
       "      <td>-0.670</td>\n",
       "      <td>0.588</td>\n",
       "      <td>1.964</td>\n",
       "      <td>-1.333</td>\n",
       "      <td>11.235</td>\n",
       "      <td>2.422</td>\n",
       "      <td>12.644</td>\n",
       "      <td>7.975</td>\n",
       "      <td>1.531</td>\n",
       "      <td>-2.215</td>\n",
       "    </tr>\n",
       "    <tr>\n",
       "      <th>6</th>\n",
       "      <td>2020</td>\n",
       "      <td>0.620</td>\n",
       "      <td>1.445</td>\n",
       "      <td>1.480</td>\n",
       "      <td>2.218</td>\n",
       "      <td>6.434</td>\n",
       "      <td>5.243</td>\n",
       "      <td>4.155</td>\n",
       "      <td>0.363</td>\n",
       "      <td>1.204</td>\n",
       "      <td>-8.586</td>\n",
       "      <td>-8.981</td>\n",
       "      <td>-6.774</td>\n",
       "      <td>-10.378</td>\n",
       "      <td>9.637</td>\n",
       "      <td>1.598</td>\n",
       "      <td>-3.038</td>\n",
       "      <td>-0.813</td>\n",
       "      <td>-0.722</td>\n",
       "      <td>1.132</td>\n",
       "      <td>-9.150</td>\n",
       "      <td>0.762</td>\n",
       "      <td>0.151</td>\n",
       "      <td>0.855</td>\n",
       "      <td>3.744</td>\n",
       "      <td>-0.241</td>\n",
       "      <td>1.999</td>\n",
       "    </tr>\n",
       "    <tr>\n",
       "      <th>7</th>\n",
       "      <td>2021</td>\n",
       "      <td>-3.008</td>\n",
       "      <td>-1.845</td>\n",
       "      <td>1.867</td>\n",
       "      <td>1.512</td>\n",
       "      <td>8.047</td>\n",
       "      <td>6.628</td>\n",
       "      <td>-6.394</td>\n",
       "      <td>-1.246</td>\n",
       "      <td>-2.443</td>\n",
       "      <td>-4.127</td>\n",
       "      <td>-4.031</td>\n",
       "      <td>-0.146</td>\n",
       "      <td>2.504</td>\n",
       "      <td>12.789</td>\n",
       "      <td>-0.768</td>\n",
       "      <td>-2.734</td>\n",
       "      <td>-1.186</td>\n",
       "      <td>0.350</td>\n",
       "      <td>1.331</td>\n",
       "      <td>-1.153</td>\n",
       "      <td>3.419</td>\n",
       "      <td>1.097</td>\n",
       "      <td>5.026</td>\n",
       "      <td>8.632</td>\n",
       "      <td>0.185</td>\n",
       "      <td>-6.468</td>\n",
       "    </tr>\n",
       "    <tr>\n",
       "      <th>8</th>\n",
       "      <td>2022</td>\n",
       "      <td>-1.187</td>\n",
       "      <td>1.956</td>\n",
       "      <td>0.728</td>\n",
       "      <td>3.468</td>\n",
       "      <td>-3.520</td>\n",
       "      <td>-5.069</td>\n",
       "      <td>2.113</td>\n",
       "      <td>2.513</td>\n",
       "      <td>2.417</td>\n",
       "      <td>-3.253</td>\n",
       "      <td>-3.485</td>\n",
       "      <td>5.898</td>\n",
       "      <td>-7.308</td>\n",
       "      <td>1.156</td>\n",
       "      <td>-1.355</td>\n",
       "      <td>-2.888</td>\n",
       "      <td>-3.083</td>\n",
       "      <td>-2.649</td>\n",
       "      <td>1.632</td>\n",
       "      <td>-2.091</td>\n",
       "      <td>1.484</td>\n",
       "      <td>-3.247</td>\n",
       "      <td>1.938</td>\n",
       "      <td>-6.889</td>\n",
       "      <td>-2.493</td>\n",
       "      <td>4.375</td>\n",
       "    </tr>\n",
       "    <tr>\n",
       "      <th>9</th>\n",
       "      <td>2023</td>\n",
       "      <td>NaN</td>\n",
       "      <td>NaN</td>\n",
       "      <td>NaN</td>\n",
       "      <td>NaN</td>\n",
       "      <td>NaN</td>\n",
       "      <td>NaN</td>\n",
       "      <td>NaN</td>\n",
       "      <td>NaN</td>\n",
       "      <td>NaN</td>\n",
       "      <td>NaN</td>\n",
       "      <td>NaN</td>\n",
       "      <td>NaN</td>\n",
       "      <td>NaN</td>\n",
       "      <td>NaN</td>\n",
       "      <td>NaN</td>\n",
       "      <td>NaN</td>\n",
       "      <td>NaN</td>\n",
       "      <td>NaN</td>\n",
       "      <td>NaN</td>\n",
       "      <td>NaN</td>\n",
       "      <td>NaN</td>\n",
       "      <td>NaN</td>\n",
       "      <td>NaN</td>\n",
       "      <td>NaN</td>\n",
       "      <td>NaN</td>\n",
       "      <td>NaN</td>\n",
       "    </tr>\n",
       "  </tbody>\n",
       "</table>\n",
       "</div>"
      ],
      "text/plain": [
       "   season_start_year    FGM    FGA    FG3M    FG3A     FTM    FTA    OREB  \\\n",
       "0               2014 -2.737  0.266  11.046  12.980   4.844  8.464   0.314   \n",
       "1               2015 -1.639  1.134  10.359  10.117   2.449  3.754   3.511   \n",
       "2               2016  0.316 -0.384  10.680   9.586   5.468  4.854  -2.594   \n",
       "3               2017 -1.036 -0.020   2.286   5.358   5.549  5.813  -3.358   \n",
       "4               2018 -4.331 -0.476   2.026   5.065  11.887  9.381   0.737   \n",
       "5               2019 -2.298 -1.639  10.056   9.412   8.292  6.206 -10.140   \n",
       "6               2020  0.620  1.445   1.480   2.218   6.434  5.243   4.155   \n",
       "7               2021 -3.008 -1.845   1.867   1.512   8.047  6.628  -6.394   \n",
       "8               2022 -1.187  1.956   0.728   3.468  -3.520 -5.069   2.113   \n",
       "9               2023    NaN    NaN     NaN     NaN     NaN    NaN     NaN   \n",
       "\n",
       "    DREB    REB    AST    STL     BLK     TOV      PF    PTS  POSS_per_48  \\\n",
       "0  3.983  3.060 -2.120 -2.726  10.739  -7.577   7.261 -0.357        0.549   \n",
       "1  0.314  1.075 -8.193 -3.999   2.971  -7.096   6.995  0.060       -2.678   \n",
       "2 -2.346 -2.404 -0.377 -0.318   0.412  -3.207   6.163  2.134       -1.399   \n",
       "3  1.676  0.552 -4.159 -3.315   2.308  -6.315   6.690  0.322       -2.014   \n",
       "4  2.060  1.757 -4.422 -5.300   0.441  -3.336   8.363 -1.103       -2.406   \n",
       "5  1.575 -1.058 -3.600 -5.432 -10.645  -1.416   7.634  0.743       -2.870   \n",
       "6  0.363  1.204 -8.586 -8.981  -6.774 -10.378   9.637  1.598       -3.038   \n",
       "7 -1.246 -2.443 -4.127 -4.031  -0.146   2.504  12.789 -0.768       -2.734   \n",
       "8  2.513  2.417 -3.253 -3.485   5.898  -7.308   1.156 -1.355       -2.888   \n",
       "9    NaN    NaN    NaN    NaN     NaN     NaN     NaN    NaN          NaN   \n",
       "\n",
       "     FG%   3PT%    FT%   AST%   FG3A%  PTS/FGA  FG3M/FGM  FTA/FGA   TRU%  \\\n",
       "0 -2.995 -1.712 -3.337  0.634  12.681   -0.621    14.171    8.176 -1.546   \n",
       "1 -2.741  0.220 -1.257 -6.663   8.883   -1.061    12.198    2.591 -1.358   \n",
       "2  0.703  0.998  0.586 -0.691  10.008    2.527    10.331    5.257  1.917   \n",
       "3 -1.016 -2.916 -0.250 -3.156   5.379    0.341     3.356    5.834 -0.280   \n",
       "4 -3.874 -2.893  2.291 -0.094   5.567   -0.630     6.645    9.904 -1.696   \n",
       "5 -0.670  0.588  1.964 -1.333  11.235    2.422    12.644    7.975  1.531   \n",
       "6 -0.813 -0.722  1.132 -9.150   0.762    0.151     0.855    3.744 -0.241   \n",
       "7 -1.186  0.350  1.331 -1.153   3.419    1.097     5.026    8.632  0.185   \n",
       "8 -3.083 -2.649  1.632 -2.091   1.484   -3.247     1.938   -6.889 -2.493   \n",
       "9    NaN    NaN    NaN    NaN     NaN      NaN       NaN      NaN    NaN   \n",
       "\n",
       "   AST_TOV  \n",
       "0    5.905  \n",
       "1   -1.181  \n",
       "2    2.924  \n",
       "3    2.301  \n",
       "4   -1.123  \n",
       "5   -2.215  \n",
       "6    1.999  \n",
       "7   -6.468  \n",
       "8    4.375  \n",
       "9      NaN  "
      ]
     },
     "execution_count": 30,
     "metadata": {},
     "output_type": "execute_result"
    }
   ],
   "source": [
    "comp_change_df = round(100*(playoffs_change_df-rs_change_df)/rs_change_df,3)\n",
    "comp_change_df['season_start_year'] = list(range(2014,2024))\n",
    "comp_change_df"
   ]
  },
  {
   "cell_type": "code",
   "execution_count": 31,
   "id": "3bcd5732-7beb-4687-a00e-bd77e5e22ae4",
   "metadata": {},
   "outputs": [
    {
     "data": {
      "application/vnd.plotly.v1+json": {
       "config": {
        "plotlyServerURL": "https://plot.ly"
       },
       "data": [
        {
         "name": "FGM",
         "type": "scatter",
         "x": {
          "bdata": "3gffB+AH4QfiB+MH5AflB+YH5wc=",
          "dtype": "i2"
         },
         "y": {
          "bdata": "TDeJQWDlBcDTTWIQWDn6v9NNYhBYOdQ/+n5qvHST8L9t5/up8VIRwPyp8dJNYgLA16NwPQrX4z+q8dJNYhAIwMuhRbbz/fK/AAAAAAAA+H8=",
          "dtype": "f8"
         }
        },
        {
         "name": "FGA",
         "type": "scatter",
         "x": {
          "bdata": "3gffB+AH4QfiB+MH5AflB+YH5wc=",
          "dtype": "i2"
         },
         "y": {
          "bdata": "oBov3SQG0T++nxov3STyP/p+arx0k9i/exSuR+F6lL8QWDm0yHbev9NNYhBYOfq/H4XrUbge9z+F61G4HoX9v7Kd76fGS/8/AAAAAAAA+H8=",
          "dtype": "f8"
         }
        },
        {
         "name": "FG3M",
         "type": "scatter",
         "x": {
          "bdata": "3gffB+AH4QfiB+MH5AflB+YH5wc=",
          "dtype": "i2"
         },
         "y": {
          "bdata": "ZDvfT40XJkArhxbZzrckQFyPwvUoXCVAfT81XrpJAkBoke18PzUAQOkmMQisHCRArkfhehSu9z+sHFpkO9/9P7Kd76fGS+c/AAAAAAAA+H8=",
          "dtype": "f8"
         }
        },
        {
         "name": "FG3A",
         "type": "scatter",
         "x": {
          "bdata": "3gffB+AH4QfiB+MH5AflB+YH5wc=",
          "dtype": "i2"
         },
         "y": {
          "bdata": "9ihcj8L1KUCWQ4ts5zskQHnpJjEILCNAO99PjZduFUDD9Shcj0IUQG3n+6nx0iJAWDm0yHa+AUD+1HjpJjH4P1g5tMh2vgtAAAAAAAAA+H8=",
          "dtype": "f8"
         }
        },
        {
         "name": "FTM",
         "type": "scatter",
         "x": {
          "bdata": "3gffB+AH4QfiB+MH5AflB+YH5wc=",
          "dtype": "i2"
         },
         "y": {
          "bdata": "x0s3iUFgE0BkO99PjZcDQKwcWmQ73xVAGQRWDi0yFkCgGi/dJMYnQC/dJAaBlSBAI9v5fmq8GUDy0k1iEBggQClcj8L1KAzAAAAAAAAA+H8=",
          "dtype": "f8"
         }
        },
        {
         "name": "FTA",
         "type": "scatter",
         "x": {
          "bdata": "3gffB+AH4QfiB+MH5AflB+YH5wc=",
          "dtype": "i2"
         },
         "y": {
          "bdata": "IbByaJHtIEDVeOkmMQgOQNEi2/l+ahNAjZduEoNAF0BQjZduEsMiQG3n+6nx0hhARrbz/dT4FEBQjZduEoMaQC2yne+nRhTAAAAAAAAA+H8=",
          "dtype": "f8"
         }
        },
        {
         "name": "OREB",
         "type": "scatter",
         "x": {
          "bdata": "3gffB+AH4QfiB+MH5AflB+YH5wc=",
          "dtype": "i2"
         },
         "y": {
          "bdata": "f2q8dJMY1D9KDAIrhxYMQI2XbhKDwATAd76fGi/dCsAv3SQGgZXnP0jhehSuRyTAH4XrUbieEED6fmq8dJMZwIGVQ4ts5wBAAAAAAAAA+H8=",
          "dtype": "f8"
         }
        },
        {
         "name": "DREB",
         "type": "scatter",
         "x": {
          "bdata": "3gffB+AH4QfiB+MH5AflB+YH5wc=",
          "dtype": "i2"
         },
         "y": {
          "bdata": "d76fGi/dD0B/arx0kxjUP/hT46WbxALAN4lBYOXQ+j97FK5H4XoAQDMzMzMzM/k/CKwcWmQ71z9WDi2yne/zv7TIdr6fGgRAAAAAAAAA+H8=",
          "dtype": "f8"
         }
        },
        {
         "name": "REB",
         "type": "scatter",
         "x": {
          "bdata": "3gffB+AH4QfiB+MH5AflB+YH5wc=",
          "dtype": "i2"
         },
         "y": {
          "bdata": "exSuR+F6CEAzMzMzMzPxPwisHFpkOwPARIts5/up4T/pJjEIrBz8PyGwcmiR7fC/3SQGgZVD8z8lBoGVQ4sDwLx0kxgEVgNAAAAAAAAA+H8=",
          "dtype": "f8"
         }
        },
        {
         "name": "AST",
         "type": "scatter",
         "x": {
          "bdata": "3gffB+AH4QfiB+MH5AflB+YH5wc=",
          "dtype": "i2"
         },
         "y": {
          "bdata": "9ihcj8L1AMCJQWDl0GIgwFTjpZvEINi/iUFg5dCiEMDjpZvEILARwM3MzMzMzAzAeekmMQgsIcA1XrpJDIIQwKAaL90kBgrAAAAAAAAA+H8=",
          "dtype": "f8"
         }
        },
        {
         "name": "STL",
         "type": "scatter",
         "x": {
          "bdata": "3gffB+AH4QfiB+MH5AflB+YH5wc=",
          "dtype": "i2"
         },
         "y": {
          "bdata": "AiuHFtnOBcDLoUW28/0PwCcxCKwcWtS/hetRuB6FCsAzMzMzMzMVwO58PzVeuhXAg8DKoUX2IcA5tMh2vh8QwOF6FK5H4QvAAAAAAAAA+H8=",
          "dtype": "f8"
         }
        },
        {
         "name": "BLK",
         "type": "scatter",
         "x": {
          "bdata": "3gffB+AH4QfiB+MH5AflB+YH5wc=",
          "dtype": "i2"
         },
         "y": {
          "bdata": "7nw/NV56JUD4U+Olm8QHQJHtfD81Xto/EFg5tMh2AkDTTWIQWDncPwrXo3A9SiXAf2q8dJMYG8DjpZvEILDCv2Q730+NlxdAAAAAAAAA+H8=",
          "dtype": "f8"
         }
        },
        {
         "name": "TOV",
         "type": "scatter",
         "x": {
          "bdata": "3gffB+AH4QfiB+MH5AflB+YH5wc=",
          "dtype": "i2"
         },
         "y": {
          "bdata": "AiuHFtlOHsD8qfHSTWIcwA4tsp3vpwnAw/UoXI9CGcDjpZvEILAKwA4tsp3vp/a/qMZLN4nBJMDVeOkmMQgEQAisHFpkOx3AAAAAAAAA+H8=",
          "dtype": "f8"
         }
        },
        {
         "name": "PF",
         "type": "scatter",
         "x": {
          "bdata": "3gffB+AH4QfiB+MH5AflB+YH5wc=",
          "dtype": "i2"
         },
         "y": {
          "bdata": "JQaBlUMLHUB7FK5H4fobQPT91HjpphhAw/UoXI/CGkBg5dAi27kgQPCnxks3iR5AoBov3SRGI0CHFtnO95MpQOXQItv5fvI/AAAAAAAA+H8=",
          "dtype": "f8"
         }
        },
        {
         "name": "PTS",
         "type": "scatter",
         "x": {
          "bdata": "3gffB+AH4QfiB+MH5AflB+YH5wc=",
          "dtype": "i2"
         },
         "y": {
          "bdata": "DAIrhxbZ1r+4HoXrUbiuP99PjZduEgFAz/dT46Wb1D/ZzvdT46Xxvy2yne+nxuc/xSCwcmiR+T/6fmq8dJPov65H4XoUrvW/AAAAAAAA+H8=",
          "dtype": "f8"
         }
        },
        {
         "name": "POSS_per_48",
         "type": "scatter",
         "x": {
          "bdata": "3gffB+AH4QfiB+MH5AflB+YH5wc=",
          "dtype": "i2"
         },
         "y": {
          "bdata": "xSCwcmiR4T8GgZVDi2wFwPyp8dJNYva/6SYxCKwcAMBzaJHtfD8DwPYoXI/C9QbA5/up8dJNCMCsHFpkO98FwLTIdr6fGgfAAAAAAAAA+H8=",
          "dtype": "f8"
         }
        },
        {
         "name": "FG%",
         "type": "scatter",
         "x": {
          "bdata": "3gffB+AH4QfiB+MH5AflB+YH5wc=",
          "dtype": "i2"
         },
         "y": {
          "bdata": "9ihcj8L1B8AhsHJoke0FwOXQItv5fuY/qMZLN4lB8L/LoUW28/0OwHE9CtejcOW/arx0kxgE6r9g5dAi2/nyv0SLbOf7qQjAAAAAAAAA+H8=",
          "dtype": "f8"
         }
        },
        {
         "name": "3PT%",
         "type": "scatter",
         "x": {
          "bdata": "3gffB+AH4QfiB+MH5AflB+YH5wc=",
          "dtype": "i2"
         },
         "y": {
          "bdata": "MQisHFpk+78pXI/C9SjMP1YOLbKd7+8/hxbZzvdTB8C+nxov3SQHwDeJQWDl0OI/tMh2vp8a579mZmZmZmbWP/7UeOkmMQXAAAAAAAAA+H8=",
          "dtype": "f8"
         }
        },
        {
         "name": "FT%",
         "type": "scatter",
         "x": {
          "bdata": "3gffB+AH4QfiB+MH5AflB+YH5wc=",
          "dtype": "i2"
         },
         "y": {
          "bdata": "GQRWDi2yCsDpJjEIrBz0v42XbhKDwOI/AAAAAAAA0L+HFtnO91MCQAaBlUOLbP8/6SYxCKwc8j+yne+nxkv1P+kmMQisHPo/AAAAAAAA+H8=",
          "dtype": "f8"
         }
        },
        {
         "name": "AST%",
         "type": "scatter",
         "x": {
          "bdata": "3gffB+AH4QfiB+MH5AflB+YH5wc=",
          "dtype": "i2"
         },
         "y": {
          "bdata": "fT81XrpJ5D/0/dR46aYawOkmMQisHOa/c2iR7Xw/CcCq8dJNYhC4v4cW2c73U/W/zczMzMxMIsCmm8QgsHLyv+58PzVeugDAAAAAAAAA+H8=",
          "dtype": "f8"
         }
        },
        {
         "name": "FG3A%",
         "type": "scatter",
         "x": {
          "bdata": "3gffB+AH4QfiB+MH5AflB+YH5wc=",
          "dtype": "i2"
         },
         "y": {
          "bdata": "6SYxCKxcKUBqvHSTGMQhQGq8dJMYBCRAarx0kxiEFUD4U+Olm0QWQLgehetReCZA/Knx0k1i6D8nMQisHFoLQFg5tMh2vvc/AAAAAAAA+H8=",
          "dtype": "f8"
         }
        },
        {
         "name": "PTS/FGA",
         "type": "scatter",
         "x": {
          "bdata": "3gffB+AH4QfiB+MH5AflB+YH5wc=",
          "dtype": "i2"
         },
         "y": {
          "bdata": "rBxaZDvf479g5dAi2/nwv57vp8ZLNwRAbef7qfHS1T8pXI/C9Sjkv8dLN4lBYANAhxbZzvdTwz9aZDvfT43xP2Dl0CLb+QnAAAAAAAAA+H8=",
          "dtype": "f8"
         }
        },
        {
         "name": "FG3M/FGM",
         "type": "scatter",
         "x": {
          "bdata": "3gffB+AH4QfiB+MH5AflB+YH5wc=",
          "dtype": "i2"
         },
         "y": {
          "bdata": "ZDvfT41XLEBMN4lBYGUoQLbz/dR4qSRADAIrhxbZCkAUrkfhepQaQH0/NV66SSlAXI/C9Shc6z+0yHa+nxoUQDVeukkMAv8/AAAAAAAA+H8=",
          "dtype": "f8"
         }
        },
        {
         "name": "FTA/FGA",
         "type": "scatter",
         "x": {
          "bdata": "3gffB+AH4QfiB+MH5AflB+YH5wc=",
          "dtype": "i2"
         },
         "y": {
          "bdata": "JzEIrBxaIEDufD81XroEQLpJDAIrBxVAvHSTGARWF0ACK4cW2c4jQGZmZmZm5h9AwcqhRbbzDUDdJAaBlUMhQHWTGARWjhvAAAAAAAAA+H8=",
          "dtype": "f8"
         }
        },
        {
         "name": "TRU%",
         "type": "scatter",
         "x": {
          "bdata": "3gffB+AH4QfiB+MH5AflB+YH5wc=",
          "dtype": "i2"
         },
         "y": {
          "bdata": "I9v5fmq8+L/ufD81Xrr1v3npJjEIrP4/7FG4HoXr0b+JQWDl0CL7v+XQItv5fvg/DAIrhxbZzr+uR+F6FK7HP4ts5/up8QPAAAAAAAAA+H8=",
          "dtype": "f8"
         }
        },
        {
         "name": "AST_TOV",
         "type": "scatter",
         "x": {
          "bdata": "3gffB+AH4QfiB+MH5AflB+YH5wc=",
          "dtype": "i2"
         },
         "y": {
          "bdata": "H4XrUbieF0BMN4lBYOXyvzEIrBxaZAdAnMQgsHJoAkArhxbZzvfxv7gehetRuAHAlkOLbOf7/z+sHFpkO98ZwAAAAAAAgBFAAAAAAAAA+H8=",
          "dtype": "f8"
         }
        }
       ],
       "layout": {
        "height": 600,
        "template": {
         "data": {
          "bar": [
           {
            "error_x": {
             "color": "#2a3f5f"
            },
            "error_y": {
             "color": "#2a3f5f"
            },
            "marker": {
             "line": {
              "color": "#E5ECF6",
              "width": 0.5
             },
             "pattern": {
              "fillmode": "overlay",
              "size": 10,
              "solidity": 0.2
             }
            },
            "type": "bar"
           }
          ],
          "barpolar": [
           {
            "marker": {
             "line": {
              "color": "#E5ECF6",
              "width": 0.5
             },
             "pattern": {
              "fillmode": "overlay",
              "size": 10,
              "solidity": 0.2
             }
            },
            "type": "barpolar"
           }
          ],
          "carpet": [
           {
            "aaxis": {
             "endlinecolor": "#2a3f5f",
             "gridcolor": "white",
             "linecolor": "white",
             "minorgridcolor": "white",
             "startlinecolor": "#2a3f5f"
            },
            "baxis": {
             "endlinecolor": "#2a3f5f",
             "gridcolor": "white",
             "linecolor": "white",
             "minorgridcolor": "white",
             "startlinecolor": "#2a3f5f"
            },
            "type": "carpet"
           }
          ],
          "choropleth": [
           {
            "colorbar": {
             "outlinewidth": 0,
             "ticks": ""
            },
            "type": "choropleth"
           }
          ],
          "contour": [
           {
            "colorbar": {
             "outlinewidth": 0,
             "ticks": ""
            },
            "colorscale": [
             [
              0,
              "#0d0887"
             ],
             [
              0.1111111111111111,
              "#46039f"
             ],
             [
              0.2222222222222222,
              "#7201a8"
             ],
             [
              0.3333333333333333,
              "#9c179e"
             ],
             [
              0.4444444444444444,
              "#bd3786"
             ],
             [
              0.5555555555555556,
              "#d8576b"
             ],
             [
              0.6666666666666666,
              "#ed7953"
             ],
             [
              0.7777777777777778,
              "#fb9f3a"
             ],
             [
              0.8888888888888888,
              "#fdca26"
             ],
             [
              1,
              "#f0f921"
             ]
            ],
            "type": "contour"
           }
          ],
          "contourcarpet": [
           {
            "colorbar": {
             "outlinewidth": 0,
             "ticks": ""
            },
            "type": "contourcarpet"
           }
          ],
          "heatmap": [
           {
            "colorbar": {
             "outlinewidth": 0,
             "ticks": ""
            },
            "colorscale": [
             [
              0,
              "#0d0887"
             ],
             [
              0.1111111111111111,
              "#46039f"
             ],
             [
              0.2222222222222222,
              "#7201a8"
             ],
             [
              0.3333333333333333,
              "#9c179e"
             ],
             [
              0.4444444444444444,
              "#bd3786"
             ],
             [
              0.5555555555555556,
              "#d8576b"
             ],
             [
              0.6666666666666666,
              "#ed7953"
             ],
             [
              0.7777777777777778,
              "#fb9f3a"
             ],
             [
              0.8888888888888888,
              "#fdca26"
             ],
             [
              1,
              "#f0f921"
             ]
            ],
            "type": "heatmap"
           }
          ],
          "histogram": [
           {
            "marker": {
             "pattern": {
              "fillmode": "overlay",
              "size": 10,
              "solidity": 0.2
             }
            },
            "type": "histogram"
           }
          ],
          "histogram2d": [
           {
            "colorbar": {
             "outlinewidth": 0,
             "ticks": ""
            },
            "colorscale": [
             [
              0,
              "#0d0887"
             ],
             [
              0.1111111111111111,
              "#46039f"
             ],
             [
              0.2222222222222222,
              "#7201a8"
             ],
             [
              0.3333333333333333,
              "#9c179e"
             ],
             [
              0.4444444444444444,
              "#bd3786"
             ],
             [
              0.5555555555555556,
              "#d8576b"
             ],
             [
              0.6666666666666666,
              "#ed7953"
             ],
             [
              0.7777777777777778,
              "#fb9f3a"
             ],
             [
              0.8888888888888888,
              "#fdca26"
             ],
             [
              1,
              "#f0f921"
             ]
            ],
            "type": "histogram2d"
           }
          ],
          "histogram2dcontour": [
           {
            "colorbar": {
             "outlinewidth": 0,
             "ticks": ""
            },
            "colorscale": [
             [
              0,
              "#0d0887"
             ],
             [
              0.1111111111111111,
              "#46039f"
             ],
             [
              0.2222222222222222,
              "#7201a8"
             ],
             [
              0.3333333333333333,
              "#9c179e"
             ],
             [
              0.4444444444444444,
              "#bd3786"
             ],
             [
              0.5555555555555556,
              "#d8576b"
             ],
             [
              0.6666666666666666,
              "#ed7953"
             ],
             [
              0.7777777777777778,
              "#fb9f3a"
             ],
             [
              0.8888888888888888,
              "#fdca26"
             ],
             [
              1,
              "#f0f921"
             ]
            ],
            "type": "histogram2dcontour"
           }
          ],
          "mesh3d": [
           {
            "colorbar": {
             "outlinewidth": 0,
             "ticks": ""
            },
            "type": "mesh3d"
           }
          ],
          "parcoords": [
           {
            "line": {
             "colorbar": {
              "outlinewidth": 0,
              "ticks": ""
             }
            },
            "type": "parcoords"
           }
          ],
          "pie": [
           {
            "automargin": true,
            "type": "pie"
           }
          ],
          "scatter": [
           {
            "fillpattern": {
             "fillmode": "overlay",
             "size": 10,
             "solidity": 0.2
            },
            "type": "scatter"
           }
          ],
          "scatter3d": [
           {
            "line": {
             "colorbar": {
              "outlinewidth": 0,
              "ticks": ""
             }
            },
            "marker": {
             "colorbar": {
              "outlinewidth": 0,
              "ticks": ""
             }
            },
            "type": "scatter3d"
           }
          ],
          "scattercarpet": [
           {
            "marker": {
             "colorbar": {
              "outlinewidth": 0,
              "ticks": ""
             }
            },
            "type": "scattercarpet"
           }
          ],
          "scattergeo": [
           {
            "marker": {
             "colorbar": {
              "outlinewidth": 0,
              "ticks": ""
             }
            },
            "type": "scattergeo"
           }
          ],
          "scattergl": [
           {
            "marker": {
             "colorbar": {
              "outlinewidth": 0,
              "ticks": ""
             }
            },
            "type": "scattergl"
           }
          ],
          "scattermap": [
           {
            "marker": {
             "colorbar": {
              "outlinewidth": 0,
              "ticks": ""
             }
            },
            "type": "scattermap"
           }
          ],
          "scattermapbox": [
           {
            "marker": {
             "colorbar": {
              "outlinewidth": 0,
              "ticks": ""
             }
            },
            "type": "scattermapbox"
           }
          ],
          "scatterpolar": [
           {
            "marker": {
             "colorbar": {
              "outlinewidth": 0,
              "ticks": ""
             }
            },
            "type": "scatterpolar"
           }
          ],
          "scatterpolargl": [
           {
            "marker": {
             "colorbar": {
              "outlinewidth": 0,
              "ticks": ""
             }
            },
            "type": "scatterpolargl"
           }
          ],
          "scatterternary": [
           {
            "marker": {
             "colorbar": {
              "outlinewidth": 0,
              "ticks": ""
             }
            },
            "type": "scatterternary"
           }
          ],
          "surface": [
           {
            "colorbar": {
             "outlinewidth": 0,
             "ticks": ""
            },
            "colorscale": [
             [
              0,
              "#0d0887"
             ],
             [
              0.1111111111111111,
              "#46039f"
             ],
             [
              0.2222222222222222,
              "#7201a8"
             ],
             [
              0.3333333333333333,
              "#9c179e"
             ],
             [
              0.4444444444444444,
              "#bd3786"
             ],
             [
              0.5555555555555556,
              "#d8576b"
             ],
             [
              0.6666666666666666,
              "#ed7953"
             ],
             [
              0.7777777777777778,
              "#fb9f3a"
             ],
             [
              0.8888888888888888,
              "#fdca26"
             ],
             [
              1,
              "#f0f921"
             ]
            ],
            "type": "surface"
           }
          ],
          "table": [
           {
            "cells": {
             "fill": {
              "color": "#EBF0F8"
             },
             "line": {
              "color": "white"
             }
            },
            "header": {
             "fill": {
              "color": "#C8D4E3"
             },
             "line": {
              "color": "white"
             }
            },
            "type": "table"
           }
          ]
         },
         "layout": {
          "annotationdefaults": {
           "arrowcolor": "#2a3f5f",
           "arrowhead": 0,
           "arrowwidth": 1
          },
          "autotypenumbers": "strict",
          "coloraxis": {
           "colorbar": {
            "outlinewidth": 0,
            "ticks": ""
           }
          },
          "colorscale": {
           "diverging": [
            [
             0,
             "#8e0152"
            ],
            [
             0.1,
             "#c51b7d"
            ],
            [
             0.2,
             "#de77ae"
            ],
            [
             0.3,
             "#f1b6da"
            ],
            [
             0.4,
             "#fde0ef"
            ],
            [
             0.5,
             "#f7f7f7"
            ],
            [
             0.6,
             "#e6f5d0"
            ],
            [
             0.7,
             "#b8e186"
            ],
            [
             0.8,
             "#7fbc41"
            ],
            [
             0.9,
             "#4d9221"
            ],
            [
             1,
             "#276419"
            ]
           ],
           "sequential": [
            [
             0,
             "#0d0887"
            ],
            [
             0.1111111111111111,
             "#46039f"
            ],
            [
             0.2222222222222222,
             "#7201a8"
            ],
            [
             0.3333333333333333,
             "#9c179e"
            ],
            [
             0.4444444444444444,
             "#bd3786"
            ],
            [
             0.5555555555555556,
             "#d8576b"
            ],
            [
             0.6666666666666666,
             "#ed7953"
            ],
            [
             0.7777777777777778,
             "#fb9f3a"
            ],
            [
             0.8888888888888888,
             "#fdca26"
            ],
            [
             1,
             "#f0f921"
            ]
           ],
           "sequentialminus": [
            [
             0,
             "#0d0887"
            ],
            [
             0.1111111111111111,
             "#46039f"
            ],
            [
             0.2222222222222222,
             "#7201a8"
            ],
            [
             0.3333333333333333,
             "#9c179e"
            ],
            [
             0.4444444444444444,
             "#bd3786"
            ],
            [
             0.5555555555555556,
             "#d8576b"
            ],
            [
             0.6666666666666666,
             "#ed7953"
            ],
            [
             0.7777777777777778,
             "#fb9f3a"
            ],
            [
             0.8888888888888888,
             "#fdca26"
            ],
            [
             1,
             "#f0f921"
            ]
           ]
          },
          "colorway": [
           "#636efa",
           "#EF553B",
           "#00cc96",
           "#ab63fa",
           "#FFA15A",
           "#19d3f3",
           "#FF6692",
           "#B6E880",
           "#FF97FF",
           "#FECB52"
          ],
          "font": {
           "color": "#2a3f5f"
          },
          "geo": {
           "bgcolor": "white",
           "lakecolor": "white",
           "landcolor": "#E5ECF6",
           "showlakes": true,
           "showland": true,
           "subunitcolor": "white"
          },
          "hoverlabel": {
           "align": "left"
          },
          "hovermode": "closest",
          "mapbox": {
           "style": "light"
          },
          "paper_bgcolor": "white",
          "plot_bgcolor": "#E5ECF6",
          "polar": {
           "angularaxis": {
            "gridcolor": "white",
            "linecolor": "white",
            "ticks": ""
           },
           "bgcolor": "#E5ECF6",
           "radialaxis": {
            "gridcolor": "white",
            "linecolor": "white",
            "ticks": ""
           }
          },
          "scene": {
           "xaxis": {
            "backgroundcolor": "#E5ECF6",
            "gridcolor": "white",
            "gridwidth": 2,
            "linecolor": "white",
            "showbackground": true,
            "ticks": "",
            "zerolinecolor": "white"
           },
           "yaxis": {
            "backgroundcolor": "#E5ECF6",
            "gridcolor": "white",
            "gridwidth": 2,
            "linecolor": "white",
            "showbackground": true,
            "ticks": "",
            "zerolinecolor": "white"
           },
           "zaxis": {
            "backgroundcolor": "#E5ECF6",
            "gridcolor": "white",
            "gridwidth": 2,
            "linecolor": "white",
            "showbackground": true,
            "ticks": "",
            "zerolinecolor": "white"
           }
          },
          "shapedefaults": {
           "line": {
            "color": "#2a3f5f"
           }
          },
          "ternary": {
           "aaxis": {
            "gridcolor": "white",
            "linecolor": "white",
            "ticks": ""
           },
           "baxis": {
            "gridcolor": "white",
            "linecolor": "white",
            "ticks": ""
           },
           "bgcolor": "#E5ECF6",
           "caxis": {
            "gridcolor": "white",
            "linecolor": "white",
            "ticks": ""
           }
          },
          "title": {
           "x": 0.05
          },
          "xaxis": {
           "automargin": true,
           "gridcolor": "white",
           "linecolor": "white",
           "ticks": "",
           "title": {
            "standoff": 15
           },
           "zerolinecolor": "white",
           "zerolinewidth": 2
          },
          "yaxis": {
           "automargin": true,
           "gridcolor": "white",
           "linecolor": "white",
           "ticks": "",
           "title": {
            "standoff": 15
           },
           "zerolinecolor": "white",
           "zerolinewidth": 2
          }
         }
        },
        "title": {
         "text": "comparing playoffs to regular season",
         "x": 0.5,
         "y": 0.95
        },
        "width": 800,
        "xaxis": {
         "title": {
          "text": "years"
         }
        },
        "yaxis": {
         "title": {
          "text": "stats"
         }
        }
       }
      }
     },
     "metadata": {},
     "output_type": "display_data"
    }
   ],
   "source": [
    "fig = go.Figure()\n",
    "for col in comp_change_df.columns[1:]:\n",
    "    fig.add_trace(go.Scatter(x=comp_change_df['season_start_year'],\n",
    "                             y=comp_change_df[col], name=col))\n",
    "\n",
    "fig.update_layout(height=600, width=800)\n",
    "fig.update_xaxes(title_text='years')\n",
    "fig.update_yaxes(title_text='stats')\n",
    "fig.update_layout(title_text='comparing playoffs to regular season', title_x=0.5, title_y=0.95)\n",
    "fig.show()"
   ]
  },
  {
   "cell_type": "code",
   "execution_count": 32,
   "id": "5eb17c66-5b51-4c76-9f47-8ae02440fab1",
   "metadata": {},
   "outputs": [
    {
     "data": {
      "text/html": [
       "<div>\n",
       "<style scoped>\n",
       "    .dataframe tbody tr th:only-of-type {\n",
       "        vertical-align: middle;\n",
       "    }\n",
       "\n",
       "    .dataframe tbody tr th {\n",
       "        vertical-align: top;\n",
       "    }\n",
       "\n",
       "    .dataframe thead th {\n",
       "        text-align: right;\n",
       "    }\n",
       "</style>\n",
       "<table border=\"1\" class=\"dataframe\">\n",
       "  <thead>\n",
       "    <tr style=\"text-align: right;\">\n",
       "      <th></th>\n",
       "      <th>season_start_year</th>\n",
       "      <th>FGM</th>\n",
       "      <th>FGA</th>\n",
       "      <th>FG3M</th>\n",
       "      <th>FG3A</th>\n",
       "      <th>FTM</th>\n",
       "      <th>FTA</th>\n",
       "      <th>OREB</th>\n",
       "      <th>DREB</th>\n",
       "      <th>REB</th>\n",
       "      <th>AST</th>\n",
       "      <th>STL</th>\n",
       "      <th>BLK</th>\n",
       "      <th>TOV</th>\n",
       "      <th>PF</th>\n",
       "      <th>PTS</th>\n",
       "      <th>POSS_per_48</th>\n",
       "      <th>FG%</th>\n",
       "      <th>3PT%</th>\n",
       "      <th>FT%</th>\n",
       "      <th>AST%</th>\n",
       "      <th>FG3A%</th>\n",
       "      <th>PTS/FGA</th>\n",
       "      <th>FG3M/FGM</th>\n",
       "      <th>FTA/FGA</th>\n",
       "      <th>TRU%</th>\n",
       "      <th>AST_TOV</th>\n",
       "    </tr>\n",
       "  </thead>\n",
       "  <tbody>\n",
       "    <tr>\n",
       "      <th>0</th>\n",
       "      <td>2014</td>\n",
       "      <td>2.814</td>\n",
       "      <td>-0.265</td>\n",
       "      <td>-9.947</td>\n",
       "      <td>-11.489</td>\n",
       "      <td>-4.620</td>\n",
       "      <td>-7.803</td>\n",
       "      <td>-0.313</td>\n",
       "      <td>-3.830</td>\n",
       "      <td>-2.969</td>\n",
       "      <td>2.166</td>\n",
       "      <td>2.803</td>\n",
       "      <td>-9.697</td>\n",
       "      <td>8.198</td>\n",
       "      <td>-6.770</td>\n",
       "      <td>0.358</td>\n",
       "      <td>-0.546</td>\n",
       "      <td>3.087</td>\n",
       "      <td>1.742</td>\n",
       "      <td>3.453</td>\n",
       "      <td>-0.630</td>\n",
       "      <td>-11.254</td>\n",
       "      <td>0.625</td>\n",
       "      <td>-12.412</td>\n",
       "      <td>-7.558</td>\n",
       "      <td>1.570</td>\n",
       "      <td>-5.576</td>\n",
       "    </tr>\n",
       "    <tr>\n",
       "      <th>1</th>\n",
       "      <td>2015</td>\n",
       "      <td>1.666</td>\n",
       "      <td>-1.121</td>\n",
       "      <td>-9.386</td>\n",
       "      <td>-9.187</td>\n",
       "      <td>-2.391</td>\n",
       "      <td>-3.618</td>\n",
       "      <td>-3.391</td>\n",
       "      <td>-0.313</td>\n",
       "      <td>-1.064</td>\n",
       "      <td>8.924</td>\n",
       "      <td>4.165</td>\n",
       "      <td>-2.885</td>\n",
       "      <td>7.638</td>\n",
       "      <td>-6.538</td>\n",
       "      <td>-0.060</td>\n",
       "      <td>2.752</td>\n",
       "      <td>2.819</td>\n",
       "      <td>-0.219</td>\n",
       "      <td>1.273</td>\n",
       "      <td>7.139</td>\n",
       "      <td>-8.158</td>\n",
       "      <td>1.073</td>\n",
       "      <td>-10.872</td>\n",
       "      <td>-2.526</td>\n",
       "      <td>1.376</td>\n",
       "      <td>1.195</td>\n",
       "    </tr>\n",
       "    <tr>\n",
       "      <th>2</th>\n",
       "      <td>2016</td>\n",
       "      <td>-0.315</td>\n",
       "      <td>0.385</td>\n",
       "      <td>-9.649</td>\n",
       "      <td>-8.748</td>\n",
       "      <td>-5.184</td>\n",
       "      <td>-4.629</td>\n",
       "      <td>2.663</td>\n",
       "      <td>2.402</td>\n",
       "      <td>2.463</td>\n",
       "      <td>0.378</td>\n",
       "      <td>0.319</td>\n",
       "      <td>-0.410</td>\n",
       "      <td>3.313</td>\n",
       "      <td>-5.805</td>\n",
       "      <td>-2.090</td>\n",
       "      <td>1.419</td>\n",
       "      <td>-0.698</td>\n",
       "      <td>-0.988</td>\n",
       "      <td>-0.582</td>\n",
       "      <td>0.696</td>\n",
       "      <td>-9.098</td>\n",
       "      <td>-2.465</td>\n",
       "      <td>-9.363</td>\n",
       "      <td>-4.995</td>\n",
       "      <td>-1.881</td>\n",
       "      <td>-2.841</td>\n",
       "    </tr>\n",
       "    <tr>\n",
       "      <th>3</th>\n",
       "      <td>2017</td>\n",
       "      <td>1.047</td>\n",
       "      <td>0.020</td>\n",
       "      <td>-2.235</td>\n",
       "      <td>-5.085</td>\n",
       "      <td>-5.257</td>\n",
       "      <td>-5.493</td>\n",
       "      <td>3.475</td>\n",
       "      <td>-1.648</td>\n",
       "      <td>-0.549</td>\n",
       "      <td>4.340</td>\n",
       "      <td>3.429</td>\n",
       "      <td>-2.256</td>\n",
       "      <td>6.740</td>\n",
       "      <td>-6.271</td>\n",
       "      <td>-0.321</td>\n",
       "      <td>2.055</td>\n",
       "      <td>1.027</td>\n",
       "      <td>3.004</td>\n",
       "      <td>0.250</td>\n",
       "      <td>3.259</td>\n",
       "      <td>-5.104</td>\n",
       "      <td>-0.340</td>\n",
       "      <td>-3.247</td>\n",
       "      <td>-5.512</td>\n",
       "      <td>0.281</td>\n",
       "      <td>-2.249</td>\n",
       "    </tr>\n",
       "    <tr>\n",
       "      <th>4</th>\n",
       "      <td>2018</td>\n",
       "      <td>4.527</td>\n",
       "      <td>0.478</td>\n",
       "      <td>-1.986</td>\n",
       "      <td>-4.821</td>\n",
       "      <td>-10.624</td>\n",
       "      <td>-8.576</td>\n",
       "      <td>-0.732</td>\n",
       "      <td>-2.019</td>\n",
       "      <td>-1.727</td>\n",
       "      <td>4.626</td>\n",
       "      <td>5.596</td>\n",
       "      <td>-0.439</td>\n",
       "      <td>3.451</td>\n",
       "      <td>-7.717</td>\n",
       "      <td>1.116</td>\n",
       "      <td>2.465</td>\n",
       "      <td>4.030</td>\n",
       "      <td>2.979</td>\n",
       "      <td>-2.240</td>\n",
       "      <td>0.095</td>\n",
       "      <td>-5.274</td>\n",
       "      <td>0.634</td>\n",
       "      <td>-6.231</td>\n",
       "      <td>-9.011</td>\n",
       "      <td>1.725</td>\n",
       "      <td>1.136</td>\n",
       "    </tr>\n",
       "    <tr>\n",
       "      <th>5</th>\n",
       "      <td>2019</td>\n",
       "      <td>2.352</td>\n",
       "      <td>1.666</td>\n",
       "      <td>-9.137</td>\n",
       "      <td>-8.603</td>\n",
       "      <td>-7.657</td>\n",
       "      <td>-5.843</td>\n",
       "      <td>11.284</td>\n",
       "      <td>-1.551</td>\n",
       "      <td>1.069</td>\n",
       "      <td>3.734</td>\n",
       "      <td>5.744</td>\n",
       "      <td>11.913</td>\n",
       "      <td>1.436</td>\n",
       "      <td>-7.093</td>\n",
       "      <td>-0.738</td>\n",
       "      <td>2.955</td>\n",
       "      <td>0.674</td>\n",
       "      <td>-0.585</td>\n",
       "      <td>-1.926</td>\n",
       "      <td>1.351</td>\n",
       "      <td>-10.100</td>\n",
       "      <td>-2.365</td>\n",
       "      <td>-11.225</td>\n",
       "      <td>-7.386</td>\n",
       "      <td>-1.508</td>\n",
       "      <td>2.266</td>\n",
       "    </tr>\n",
       "    <tr>\n",
       "      <th>6</th>\n",
       "      <td>2020</td>\n",
       "      <td>-0.616</td>\n",
       "      <td>-1.424</td>\n",
       "      <td>-1.459</td>\n",
       "      <td>-2.170</td>\n",
       "      <td>-6.045</td>\n",
       "      <td>-4.982</td>\n",
       "      <td>-3.990</td>\n",
       "      <td>-0.362</td>\n",
       "      <td>-1.190</td>\n",
       "      <td>9.393</td>\n",
       "      <td>9.867</td>\n",
       "      <td>7.266</td>\n",
       "      <td>11.580</td>\n",
       "      <td>-8.790</td>\n",
       "      <td>-1.573</td>\n",
       "      <td>3.133</td>\n",
       "      <td>0.820</td>\n",
       "      <td>0.727</td>\n",
       "      <td>-1.119</td>\n",
       "      <td>10.071</td>\n",
       "      <td>-0.757</td>\n",
       "      <td>-0.150</td>\n",
       "      <td>-0.848</td>\n",
       "      <td>-3.609</td>\n",
       "      <td>0.242</td>\n",
       "      <td>-1.960</td>\n",
       "    </tr>\n",
       "    <tr>\n",
       "      <th>7</th>\n",
       "      <td>2021</td>\n",
       "      <td>3.102</td>\n",
       "      <td>1.879</td>\n",
       "      <td>-1.833</td>\n",
       "      <td>-1.489</td>\n",
       "      <td>-7.448</td>\n",
       "      <td>-6.216</td>\n",
       "      <td>6.830</td>\n",
       "      <td>1.262</td>\n",
       "      <td>2.504</td>\n",
       "      <td>4.304</td>\n",
       "      <td>4.200</td>\n",
       "      <td>0.146</td>\n",
       "      <td>-2.442</td>\n",
       "      <td>-11.339</td>\n",
       "      <td>0.774</td>\n",
       "      <td>2.811</td>\n",
       "      <td>1.200</td>\n",
       "      <td>-0.349</td>\n",
       "      <td>-1.314</td>\n",
       "      <td>1.166</td>\n",
       "      <td>-3.306</td>\n",
       "      <td>-1.085</td>\n",
       "      <td>-4.786</td>\n",
       "      <td>-7.946</td>\n",
       "      <td>-0.185</td>\n",
       "      <td>6.916</td>\n",
       "    </tr>\n",
       "    <tr>\n",
       "      <th>8</th>\n",
       "      <td>2022</td>\n",
       "      <td>1.201</td>\n",
       "      <td>-1.918</td>\n",
       "      <td>-0.723</td>\n",
       "      <td>-3.352</td>\n",
       "      <td>3.648</td>\n",
       "      <td>5.339</td>\n",
       "      <td>-2.069</td>\n",
       "      <td>-2.452</td>\n",
       "      <td>-2.360</td>\n",
       "      <td>3.362</td>\n",
       "      <td>3.611</td>\n",
       "      <td>-5.569</td>\n",
       "      <td>7.884</td>\n",
       "      <td>-1.143</td>\n",
       "      <td>1.374</td>\n",
       "      <td>2.974</td>\n",
       "      <td>3.181</td>\n",
       "      <td>2.721</td>\n",
       "      <td>-1.606</td>\n",
       "      <td>2.135</td>\n",
       "      <td>-1.462</td>\n",
       "      <td>3.356</td>\n",
       "      <td>-1.901</td>\n",
       "      <td>7.399</td>\n",
       "      <td>2.556</td>\n",
       "      <td>-4.192</td>\n",
       "    </tr>\n",
       "    <tr>\n",
       "      <th>9</th>\n",
       "      <td>2023</td>\n",
       "      <td>NaN</td>\n",
       "      <td>NaN</td>\n",
       "      <td>NaN</td>\n",
       "      <td>NaN</td>\n",
       "      <td>NaN</td>\n",
       "      <td>NaN</td>\n",
       "      <td>NaN</td>\n",
       "      <td>NaN</td>\n",
       "      <td>NaN</td>\n",
       "      <td>NaN</td>\n",
       "      <td>NaN</td>\n",
       "      <td>NaN</td>\n",
       "      <td>NaN</td>\n",
       "      <td>NaN</td>\n",
       "      <td>NaN</td>\n",
       "      <td>NaN</td>\n",
       "      <td>NaN</td>\n",
       "      <td>NaN</td>\n",
       "      <td>NaN</td>\n",
       "      <td>NaN</td>\n",
       "      <td>NaN</td>\n",
       "      <td>NaN</td>\n",
       "      <td>NaN</td>\n",
       "      <td>NaN</td>\n",
       "      <td>NaN</td>\n",
       "      <td>NaN</td>\n",
       "    </tr>\n",
       "  </tbody>\n",
       "</table>\n",
       "</div>"
      ],
      "text/plain": [
       "   season_start_year    FGM    FGA   FG3M    FG3A     FTM    FTA    OREB  \\\n",
       "0               2014  2.814 -0.265 -9.947 -11.489  -4.620 -7.803  -0.313   \n",
       "1               2015  1.666 -1.121 -9.386  -9.187  -2.391 -3.618  -3.391   \n",
       "2               2016 -0.315  0.385 -9.649  -8.748  -5.184 -4.629   2.663   \n",
       "3               2017  1.047  0.020 -2.235  -5.085  -5.257 -5.493   3.475   \n",
       "4               2018  4.527  0.478 -1.986  -4.821 -10.624 -8.576  -0.732   \n",
       "5               2019  2.352  1.666 -9.137  -8.603  -7.657 -5.843  11.284   \n",
       "6               2020 -0.616 -1.424 -1.459  -2.170  -6.045 -4.982  -3.990   \n",
       "7               2021  3.102  1.879 -1.833  -1.489  -7.448 -6.216   6.830   \n",
       "8               2022  1.201 -1.918 -0.723  -3.352   3.648  5.339  -2.069   \n",
       "9               2023    NaN    NaN    NaN     NaN     NaN    NaN     NaN   \n",
       "\n",
       "    DREB    REB    AST    STL     BLK     TOV      PF    PTS  POSS_per_48  \\\n",
       "0 -3.830 -2.969  2.166  2.803  -9.697   8.198  -6.770  0.358       -0.546   \n",
       "1 -0.313 -1.064  8.924  4.165  -2.885   7.638  -6.538 -0.060        2.752   \n",
       "2  2.402  2.463  0.378  0.319  -0.410   3.313  -5.805 -2.090        1.419   \n",
       "3 -1.648 -0.549  4.340  3.429  -2.256   6.740  -6.271 -0.321        2.055   \n",
       "4 -2.019 -1.727  4.626  5.596  -0.439   3.451  -7.717  1.116        2.465   \n",
       "5 -1.551  1.069  3.734  5.744  11.913   1.436  -7.093 -0.738        2.955   \n",
       "6 -0.362 -1.190  9.393  9.867   7.266  11.580  -8.790 -1.573        3.133   \n",
       "7  1.262  2.504  4.304  4.200   0.146  -2.442 -11.339  0.774        2.811   \n",
       "8 -2.452 -2.360  3.362  3.611  -5.569   7.884  -1.143  1.374        2.974   \n",
       "9    NaN    NaN    NaN    NaN     NaN     NaN     NaN    NaN          NaN   \n",
       "\n",
       "     FG%   3PT%    FT%    AST%   FG3A%  PTS/FGA  FG3M/FGM  FTA/FGA   TRU%  \\\n",
       "0  3.087  1.742  3.453  -0.630 -11.254    0.625   -12.412   -7.558  1.570   \n",
       "1  2.819 -0.219  1.273   7.139  -8.158    1.073   -10.872   -2.526  1.376   \n",
       "2 -0.698 -0.988 -0.582   0.696  -9.098   -2.465    -9.363   -4.995 -1.881   \n",
       "3  1.027  3.004  0.250   3.259  -5.104   -0.340    -3.247   -5.512  0.281   \n",
       "4  4.030  2.979 -2.240   0.095  -5.274    0.634    -6.231   -9.011  1.725   \n",
       "5  0.674 -0.585 -1.926   1.351 -10.100   -2.365   -11.225   -7.386 -1.508   \n",
       "6  0.820  0.727 -1.119  10.071  -0.757   -0.150    -0.848   -3.609  0.242   \n",
       "7  1.200 -0.349 -1.314   1.166  -3.306   -1.085    -4.786   -7.946 -0.185   \n",
       "8  3.181  2.721 -1.606   2.135  -1.462    3.356    -1.901    7.399  2.556   \n",
       "9    NaN    NaN    NaN     NaN     NaN      NaN       NaN      NaN    NaN   \n",
       "\n",
       "   AST_TOV  \n",
       "0   -5.576  \n",
       "1    1.195  \n",
       "2   -2.841  \n",
       "3   -2.249  \n",
       "4    1.136  \n",
       "5    2.266  \n",
       "6   -1.960  \n",
       "7    6.916  \n",
       "8   -4.192  \n",
       "9      NaN  "
      ]
     },
     "execution_count": 32,
     "metadata": {},
     "output_type": "execute_result"
    }
   ],
   "source": [
    "comp_change_df = round(100*(rs_change_df-playoffs_change_df)/ playoffs_change_df,3)\n",
    "comp_change_df['season_start_year'] = list(range(2014,2024))\n",
    "comp_change_df"
   ]
  },
  {
   "cell_type": "code",
   "execution_count": 33,
   "id": "a0696b3a-f922-44c8-909c-9f2d8344637b",
   "metadata": {},
   "outputs": [
    {
     "data": {
      "application/vnd.plotly.v1+json": {
       "config": {
        "plotlyServerURL": "https://plot.ly"
       },
       "data": [
        {
         "name": "FGM",
         "type": "scatter",
         "x": {
          "bdata": "3gffB+AH4QfiB+MH5AflB+YH5wc=",
          "dtype": "i2"
         },
         "y": {
          "bdata": "UI2XbhKDBkAOLbKd76f6Pylcj8L1KNS/jZduEoPA8D/P91PjpRsSQDeJQWDl0AJAg8DKoUW24783iUFg5dAIQJ7vp8ZLN/M/AAAAAAAA+H8=",
          "dtype": "f8"
         }
        },
        {
         "name": "FGA",
         "type": "scatter",
         "x": {
          "bdata": "3gffB+AH4QfiB+MH5AflB+YH5wc=",
          "dtype": "i2"
         },
         "y": {
          "bdata": "9ihcj8L10L9WDi2yne/xv6RwPQrXo9g/exSuR+F6lD9kO99PjZfePw4tsp3vp/o/YhBYObTI9r+q8dJNYhD+P+Olm8QgsP6/AAAAAAAA+H8=",
          "dtype": "f8"
         }
        },
        {
         "name": "FG3M",
         "type": "scatter",
         "x": {
          "bdata": "3gffB+AH4QfiB+MH5AflB+YH5wc=",
          "dtype": "i2"
         },
         "y": {
          "bdata": "vp8aL93kI8ASg8DKocUiwD81XrpJTCPA4XoUrkfhAcAtsp3vp8b/v6AaL90kRiLA8tJNYhBY97+HFtnO91P9v4lBYOXQIue/AAAAAAAA+H8=",
          "dtype": "f8"
         }
        },
        {
         "name": "FG3A",
         "type": "scatter",
         "x": {
          "bdata": "3gffB+AH4QfiB+MH5AflB+YH5wc=",
          "dtype": "i2"
         },
         "y": {
          "bdata": "7nw/NV76JsA5tMh2vl8iwOXQItv5fiHA16NwPQpXFMBiEFg5tEgTwNv5fmq8NCHAXI/C9ShcAcBt5/up8dL3vzeJQWDl0ArAAAAAAAAA+H8=",
          "dtype": "f8"
         }
        },
        {
         "name": "FTM",
         "type": "scatter",
         "x": {
          "bdata": "3gffB+AH4QfiB+MH5AflB+YH5wc=",
          "dtype": "i2"
         },
         "y": {
          "bdata": "exSuR+F6EsBU46WbxCADwCPb+X5qvBTAukkMAisHFcBzaJHtfD8lwFTjpZvEoB7ArkfhehQuGMCYbhKDwModwMl2vp8aLw1AAAAAAAAA+H8=",
          "dtype": "f8"
         }
        },
        {
         "name": "FTA",
         "type": "scatter",
         "x": {
          "bdata": "3gffB+AH4QfiB+MH5AflB+YH5wc=",
          "dtype": "i2"
         },
         "y": {
          "bdata": "g8DKoUU2H8CLbOf7qfEMwGq8dJMYhBLARrbz/dT4FcD0/dR46SYhwKwcWmQ7XxfAIbByaJHtE8B3vp8aL90YwEJg5dAiWxVAAAAAAAAA+H8=",
          "dtype": "f8"
         }
        },
        {
         "name": "OREB",
         "type": "scatter",
         "x": {
          "bdata": "3gffB+AH4QfiB+MH5AflB+YH5wc=",
          "dtype": "i2"
         },
         "y": {
          "bdata": "1XjpJjEI1L9U46WbxCALwOf7qfHSTQVAzczMzMzMC0AGgZVDi2znv8UgsHJokSZA7FG4HoXrD8BSuB6F61EbQFpkO99PjQDAAAAAAAAA+H8=",
          "dtype": "f8"
         }
        },
        {
         "name": "DREB",
         "type": "scatter",
         "x": {
          "bdata": "3gffB+AH4QfiB+MH5AflB+YH5wc=",
          "dtype": "i2"
         },
         "y": {
          "bdata": "pHA9CtejDsDVeOkmMQjUv57vp8ZLNwNAke18PzVe+r/0/dR46SYAwDeJQWDl0Pi/XrpJDAIr17/+1HjpJjH0PwRWDi2ynQPAAAAAAAAA+H8=",
          "dtype": "f8"
         }
        },
        {
         "name": "REB",
         "type": "scatter",
         "x": {
          "bdata": "3gffB+AH4QfiB+MH5AflB+YH5wc=",
          "dtype": "i2"
         },
         "y": {
          "bdata": "jZduEoPAB8CgGi/dJAbxv05iEFg5tANAxSCwcmiR4b9vEoPAyqH7v7TIdr6fGvE/CtejcD0K87/VeOkmMQgEQOF6FK5H4QLAAAAAAAAA+H8=",
          "dtype": "f8"
         }
        },
        {
         "name": "AST",
         "type": "scatter",
         "x": {
          "bdata": "3gffB+AH4QfiB+MH5AflB+YH5wc=",
          "dtype": "i2"
         },
         "y": {
          "bdata": "hxbZzvdTAUAMAiuHFtkhQP7UeOkmMdg/XI/C9ShcEUAbL90kBoESQKwcWmQ73w1A8KfGSzfJIkCe76fGSzcRQEw3iUFg5QpAAAAAAAAA+H8=",
          "dtype": "f8"
         }
        },
        {
         "name": "STL",
         "type": "scatter",
         "x": {
          "bdata": "3gffB+AH4QfiB+MH5AflB+YH5wc=",
          "dtype": "i2"
         },
         "y": {
          "bdata": "BoGVQ4tsBkApXI/C9agQQNEi2/l+atQ/O99PjZduC0D8qfHSTWIWQGDl0CLb+RZAlkOLbOe7I0DNzMzMzMwQQBfZzvdT4wxAAAAAAAAA+H8=",
          "dtype": "f8"
         }
        },
        {
         "name": "BLK",
         "type": "scatter",
         "x": {
          "bdata": "3gffB+AH4QfiB+MH5AflB+YH5wc=",
          "dtype": "i2"
         },
         "y": {
          "bdata": "vp8aL91kI8AUrkfhehQHwD0K16NwPdq/PzVeukkMAsB/arx0kxjcv/p+arx00ydAqvHSTWIQHUDjpZvEILDCPy2yne+nRhbAAAAAAAAA+H8=",
          "dtype": "f8"
         }
        },
        {
         "name": "TOV",
         "type": "scatter",
         "x": {
          "bdata": "3gffB+AH4QfiB+MH5AflB+YH5wc=",
          "dtype": "i2"
         },
         "y": {
          "bdata": "TDeJQWBlIEBaZDvfT40eQBsv3SQGgQpA9ihcj8L1GkDP91PjpZsLQGDl0CLb+fY/KVyPwvUoJ0Dwp8ZLN4kDwPCnxks3iR9AAAAAAAAA+H8=",
          "dtype": "f8"
         }
        },
        {
         "name": "PF",
         "type": "scatter",
         "x": {
          "bdata": "3gffB+AH4QfiB+MH5AflB+YH5wc=",
          "dtype": "i2"
         },
         "y": {
          "bdata": "FK5H4XoUG8D0/dR46SYawLgehetROBfAL90kBoEVGcCR7Xw/Nd4ewKwcWmQ7XxzAFK5H4XqUIcAhsHJoka0mwH0/NV66SfK/AAAAAAAA+H8=",
          "dtype": "f8"
         }
        },
        {
         "name": "PTS",
         "type": "scatter",
         "x": {
          "bdata": "3gffB+AH4QfiB+MH5AflB+YH5wc=",
          "dtype": "i2"
         },
         "y": {
          "bdata": "tvP91Hjp1j+4HoXrUbiuv7gehetRuADAJQaBlUOL1L9CYOXQItvxPwRWDi2ynee/XrpJDAIr+b/4U+Olm8ToP5ZDi2zn+/U/AAAAAAAA+H8=",
          "dtype": "f8"
         }
        },
        {
         "name": "POSS_per_48",
         "type": "scatter",
         "x": {
          "bdata": "3gffB+AH4QfiB+MH5AflB+YH5wc=",
          "dtype": "i2"
         },
         "y": {
          "bdata": "Rrbz/dR44b9qvHSTGAQGQE5iEFg5tPY/cT0K16NwAEC4HoXrUbgDQKRwPQrXowdAqvHSTWIQCUCwcmiR7XwGQJhuEoPAygdAAAAAAAAA+H8=",
          "dtype": "f8"
         }
        },
        {
         "name": "FG%",
         "type": "scatter",
         "x": {
          "bdata": "3gffB+AH4QfiB+MH5AflB+YH5wc=",
          "dtype": "i2"
         },
         "y": {
          "bdata": "GQRWDi2yCEBaZDvfT40GQLx0kxgEVua/O99PjZdu8D8fhetRuB4QQMUgsHJokeU/PQrXo3A96j8zMzMzMzPzP6abxCCwcglAAAAAAAAA+H8=",
          "dtype": "f8"
         }
        },
        {
         "name": "3PT%",
         "type": "scatter",
         "x": {
          "bdata": "3gffB+AH4QfiB+MH5AflB+YH5wc=",
          "dtype": "i2"
         },
         "y": {
          "bdata": "rBxaZDvf+z/VeOkmMQjMvwRWDi2yne+/1XjpJjEICECiRbbz/dQHQLgehetRuOK/3SQGgZVD5z+8dJMYBFbWv/hT46WbxAVAAAAAAAAA+H8=",
          "dtype": "f8"
         }
        },
        {
         "name": "FT%",
         "type": "scatter",
         "x": {
          "bdata": "3gffB+AH4QfiB+MH5AflB+YH5wc=",
          "dtype": "i2"
         },
         "y": {
          "bdata": "ObTIdr6fC0CR7Xw/NV70Pzm0yHa+n+K/AAAAAAAA0D/sUbgehesBwDeJQWDl0P6/gZVDi2zn8b+gGi/dJAb1vxkEVg4tsvm/AAAAAAAA+H8=",
          "dtype": "f8"
         }
        },
        {
         "name": "AST%",
         "type": "scatter",
         "x": {
          "bdata": "3gffB+AH4QfiB+MH5AflB+YH5wc=",
          "dtype": "i2"
         },
         "y": {
          "bdata": "KVyPwvUo5L91kxgEVo4cQBKDwMqhReY/30+Nl24SCkBSuB6F61G4PwRWDi2ynfU/MQisHFokJEAOLbKd76fyPxSuR+F6FAFAAAAAAAAA+H8=",
          "dtype": "f8"
         }
        },
        {
         "name": "FG3A%",
         "type": "scatter",
         "x": {
          "bdata": "3gffB+AH4QfiB+MH5AflB+YH5wc=",
          "dtype": "i2"
         },
         "y": {
          "bdata": "NV66SQyCJsA3iUFg5VAgwBkEVg4tMiLA0SLb+X5qFMB/arx0kxgVwDMzMzMzMyTA001iEFg56L+mm8QgsHIKwDEIrBxaZPe/AAAAAAAA+H8=",
          "dtype": "f8"
         }
        },
        {
         "name": "PTS/FGA",
         "type": "scatter",
         "x": {
          "bdata": "3gffB+AH4QfiB+MH5AflB+YH5wc=",
          "dtype": "i2"
         },
         "y": {
          "bdata": "AAAAAAAA5D9eukkMAivxP7gehetRuAPAw/UoXI/C1b99PzVeuknkP+xRuB6F6wLAMzMzMzMzw79cj8L1KFzxvwwCK4cW2QpAAAAAAAAA+H8=",
          "dtype": "f8"
         }
        },
        {
         "name": "FG3M/FGM",
         "type": "scatter",
         "x": {
          "bdata": "3gffB+AH4QfiB+MH5AflB+YH5wc=",
          "dtype": "i2"
         },
         "y": {
          "bdata": "bef7qfHSKMBYObTIdr4lwGDl0CLbuSLAYOXQItv5CcAGgZVDi+wYwDMzMzMzcybAiUFg5dAi67++nxov3SQTwNEi2/l+av6/AAAAAAAA+H8=",
          "dtype": "f8"
         }
        },
        {
         "name": "FTA/FGA",
         "type": "scatter",
         "x": {
          "bdata": "3gffB+AH4QfiB+MH5AflB+YH5wc=",
          "dtype": "i2"
         },
         "y": {
          "bdata": "CKwcWmQ7HsBoke18PzUEwHsUrkfh+hPAPzVeukkMFsASg8DKoQUiwCUGgZVDix3ArBxaZDvfDMBiEFg5tMgfwH9qvHSTmB1AAAAAAAAA+H8=",
          "dtype": "f8"
         }
        },
        {
         "name": "TRU%",
         "type": "scatter",
         "x": {
          "bdata": "3gffB+AH4QfiB+MH5AflB+YH5wc=",
          "dtype": "i2"
         },
         "y": {
          "bdata": "H4XrUbge+T9qvHSTGAT2P39qvHSTGP6/lkOLbOf70T+amZmZmZn7P1TjpZvEIPi/YOXQItv5zj+uR+F6FK7Hv6abxCCwcgRAAAAAAAAA+H8=",
          "dtype": "f8"
         }
        },
        {
         "name": "AST_TOV",
         "type": "scatter",
         "x": {
          "bdata": "3gffB+AH4QfiB+MH5AflB+YH5wc=",
          "dtype": "i2"
         },
         "y": {
          "bdata": "5/up8dJNFsAfhetRuB7zP+58PzVeugbAy6FFtvP9AcCTGARWDi3yP1TjpZvEIAJAXI/C9Shc/79Ei2zn+6kbQPhT46WbxBDAAAAAAAAA+H8=",
          "dtype": "f8"
         }
        }
       ],
       "layout": {
        "height": 600,
        "template": {
         "data": {
          "bar": [
           {
            "error_x": {
             "color": "#2a3f5f"
            },
            "error_y": {
             "color": "#2a3f5f"
            },
            "marker": {
             "line": {
              "color": "#E5ECF6",
              "width": 0.5
             },
             "pattern": {
              "fillmode": "overlay",
              "size": 10,
              "solidity": 0.2
             }
            },
            "type": "bar"
           }
          ],
          "barpolar": [
           {
            "marker": {
             "line": {
              "color": "#E5ECF6",
              "width": 0.5
             },
             "pattern": {
              "fillmode": "overlay",
              "size": 10,
              "solidity": 0.2
             }
            },
            "type": "barpolar"
           }
          ],
          "carpet": [
           {
            "aaxis": {
             "endlinecolor": "#2a3f5f",
             "gridcolor": "white",
             "linecolor": "white",
             "minorgridcolor": "white",
             "startlinecolor": "#2a3f5f"
            },
            "baxis": {
             "endlinecolor": "#2a3f5f",
             "gridcolor": "white",
             "linecolor": "white",
             "minorgridcolor": "white",
             "startlinecolor": "#2a3f5f"
            },
            "type": "carpet"
           }
          ],
          "choropleth": [
           {
            "colorbar": {
             "outlinewidth": 0,
             "ticks": ""
            },
            "type": "choropleth"
           }
          ],
          "contour": [
           {
            "colorbar": {
             "outlinewidth": 0,
             "ticks": ""
            },
            "colorscale": [
             [
              0,
              "#0d0887"
             ],
             [
              0.1111111111111111,
              "#46039f"
             ],
             [
              0.2222222222222222,
              "#7201a8"
             ],
             [
              0.3333333333333333,
              "#9c179e"
             ],
             [
              0.4444444444444444,
              "#bd3786"
             ],
             [
              0.5555555555555556,
              "#d8576b"
             ],
             [
              0.6666666666666666,
              "#ed7953"
             ],
             [
              0.7777777777777778,
              "#fb9f3a"
             ],
             [
              0.8888888888888888,
              "#fdca26"
             ],
             [
              1,
              "#f0f921"
             ]
            ],
            "type": "contour"
           }
          ],
          "contourcarpet": [
           {
            "colorbar": {
             "outlinewidth": 0,
             "ticks": ""
            },
            "type": "contourcarpet"
           }
          ],
          "heatmap": [
           {
            "colorbar": {
             "outlinewidth": 0,
             "ticks": ""
            },
            "colorscale": [
             [
              0,
              "#0d0887"
             ],
             [
              0.1111111111111111,
              "#46039f"
             ],
             [
              0.2222222222222222,
              "#7201a8"
             ],
             [
              0.3333333333333333,
              "#9c179e"
             ],
             [
              0.4444444444444444,
              "#bd3786"
             ],
             [
              0.5555555555555556,
              "#d8576b"
             ],
             [
              0.6666666666666666,
              "#ed7953"
             ],
             [
              0.7777777777777778,
              "#fb9f3a"
             ],
             [
              0.8888888888888888,
              "#fdca26"
             ],
             [
              1,
              "#f0f921"
             ]
            ],
            "type": "heatmap"
           }
          ],
          "histogram": [
           {
            "marker": {
             "pattern": {
              "fillmode": "overlay",
              "size": 10,
              "solidity": 0.2
             }
            },
            "type": "histogram"
           }
          ],
          "histogram2d": [
           {
            "colorbar": {
             "outlinewidth": 0,
             "ticks": ""
            },
            "colorscale": [
             [
              0,
              "#0d0887"
             ],
             [
              0.1111111111111111,
              "#46039f"
             ],
             [
              0.2222222222222222,
              "#7201a8"
             ],
             [
              0.3333333333333333,
              "#9c179e"
             ],
             [
              0.4444444444444444,
              "#bd3786"
             ],
             [
              0.5555555555555556,
              "#d8576b"
             ],
             [
              0.6666666666666666,
              "#ed7953"
             ],
             [
              0.7777777777777778,
              "#fb9f3a"
             ],
             [
              0.8888888888888888,
              "#fdca26"
             ],
             [
              1,
              "#f0f921"
             ]
            ],
            "type": "histogram2d"
           }
          ],
          "histogram2dcontour": [
           {
            "colorbar": {
             "outlinewidth": 0,
             "ticks": ""
            },
            "colorscale": [
             [
              0,
              "#0d0887"
             ],
             [
              0.1111111111111111,
              "#46039f"
             ],
             [
              0.2222222222222222,
              "#7201a8"
             ],
             [
              0.3333333333333333,
              "#9c179e"
             ],
             [
              0.4444444444444444,
              "#bd3786"
             ],
             [
              0.5555555555555556,
              "#d8576b"
             ],
             [
              0.6666666666666666,
              "#ed7953"
             ],
             [
              0.7777777777777778,
              "#fb9f3a"
             ],
             [
              0.8888888888888888,
              "#fdca26"
             ],
             [
              1,
              "#f0f921"
             ]
            ],
            "type": "histogram2dcontour"
           }
          ],
          "mesh3d": [
           {
            "colorbar": {
             "outlinewidth": 0,
             "ticks": ""
            },
            "type": "mesh3d"
           }
          ],
          "parcoords": [
           {
            "line": {
             "colorbar": {
              "outlinewidth": 0,
              "ticks": ""
             }
            },
            "type": "parcoords"
           }
          ],
          "pie": [
           {
            "automargin": true,
            "type": "pie"
           }
          ],
          "scatter": [
           {
            "fillpattern": {
             "fillmode": "overlay",
             "size": 10,
             "solidity": 0.2
            },
            "type": "scatter"
           }
          ],
          "scatter3d": [
           {
            "line": {
             "colorbar": {
              "outlinewidth": 0,
              "ticks": ""
             }
            },
            "marker": {
             "colorbar": {
              "outlinewidth": 0,
              "ticks": ""
             }
            },
            "type": "scatter3d"
           }
          ],
          "scattercarpet": [
           {
            "marker": {
             "colorbar": {
              "outlinewidth": 0,
              "ticks": ""
             }
            },
            "type": "scattercarpet"
           }
          ],
          "scattergeo": [
           {
            "marker": {
             "colorbar": {
              "outlinewidth": 0,
              "ticks": ""
             }
            },
            "type": "scattergeo"
           }
          ],
          "scattergl": [
           {
            "marker": {
             "colorbar": {
              "outlinewidth": 0,
              "ticks": ""
             }
            },
            "type": "scattergl"
           }
          ],
          "scattermap": [
           {
            "marker": {
             "colorbar": {
              "outlinewidth": 0,
              "ticks": ""
             }
            },
            "type": "scattermap"
           }
          ],
          "scattermapbox": [
           {
            "marker": {
             "colorbar": {
              "outlinewidth": 0,
              "ticks": ""
             }
            },
            "type": "scattermapbox"
           }
          ],
          "scatterpolar": [
           {
            "marker": {
             "colorbar": {
              "outlinewidth": 0,
              "ticks": ""
             }
            },
            "type": "scatterpolar"
           }
          ],
          "scatterpolargl": [
           {
            "marker": {
             "colorbar": {
              "outlinewidth": 0,
              "ticks": ""
             }
            },
            "type": "scatterpolargl"
           }
          ],
          "scatterternary": [
           {
            "marker": {
             "colorbar": {
              "outlinewidth": 0,
              "ticks": ""
             }
            },
            "type": "scatterternary"
           }
          ],
          "surface": [
           {
            "colorbar": {
             "outlinewidth": 0,
             "ticks": ""
            },
            "colorscale": [
             [
              0,
              "#0d0887"
             ],
             [
              0.1111111111111111,
              "#46039f"
             ],
             [
              0.2222222222222222,
              "#7201a8"
             ],
             [
              0.3333333333333333,
              "#9c179e"
             ],
             [
              0.4444444444444444,
              "#bd3786"
             ],
             [
              0.5555555555555556,
              "#d8576b"
             ],
             [
              0.6666666666666666,
              "#ed7953"
             ],
             [
              0.7777777777777778,
              "#fb9f3a"
             ],
             [
              0.8888888888888888,
              "#fdca26"
             ],
             [
              1,
              "#f0f921"
             ]
            ],
            "type": "surface"
           }
          ],
          "table": [
           {
            "cells": {
             "fill": {
              "color": "#EBF0F8"
             },
             "line": {
              "color": "white"
             }
            },
            "header": {
             "fill": {
              "color": "#C8D4E3"
             },
             "line": {
              "color": "white"
             }
            },
            "type": "table"
           }
          ]
         },
         "layout": {
          "annotationdefaults": {
           "arrowcolor": "#2a3f5f",
           "arrowhead": 0,
           "arrowwidth": 1
          },
          "autotypenumbers": "strict",
          "coloraxis": {
           "colorbar": {
            "outlinewidth": 0,
            "ticks": ""
           }
          },
          "colorscale": {
           "diverging": [
            [
             0,
             "#8e0152"
            ],
            [
             0.1,
             "#c51b7d"
            ],
            [
             0.2,
             "#de77ae"
            ],
            [
             0.3,
             "#f1b6da"
            ],
            [
             0.4,
             "#fde0ef"
            ],
            [
             0.5,
             "#f7f7f7"
            ],
            [
             0.6,
             "#e6f5d0"
            ],
            [
             0.7,
             "#b8e186"
            ],
            [
             0.8,
             "#7fbc41"
            ],
            [
             0.9,
             "#4d9221"
            ],
            [
             1,
             "#276419"
            ]
           ],
           "sequential": [
            [
             0,
             "#0d0887"
            ],
            [
             0.1111111111111111,
             "#46039f"
            ],
            [
             0.2222222222222222,
             "#7201a8"
            ],
            [
             0.3333333333333333,
             "#9c179e"
            ],
            [
             0.4444444444444444,
             "#bd3786"
            ],
            [
             0.5555555555555556,
             "#d8576b"
            ],
            [
             0.6666666666666666,
             "#ed7953"
            ],
            [
             0.7777777777777778,
             "#fb9f3a"
            ],
            [
             0.8888888888888888,
             "#fdca26"
            ],
            [
             1,
             "#f0f921"
            ]
           ],
           "sequentialminus": [
            [
             0,
             "#0d0887"
            ],
            [
             0.1111111111111111,
             "#46039f"
            ],
            [
             0.2222222222222222,
             "#7201a8"
            ],
            [
             0.3333333333333333,
             "#9c179e"
            ],
            [
             0.4444444444444444,
             "#bd3786"
            ],
            [
             0.5555555555555556,
             "#d8576b"
            ],
            [
             0.6666666666666666,
             "#ed7953"
            ],
            [
             0.7777777777777778,
             "#fb9f3a"
            ],
            [
             0.8888888888888888,
             "#fdca26"
            ],
            [
             1,
             "#f0f921"
            ]
           ]
          },
          "colorway": [
           "#636efa",
           "#EF553B",
           "#00cc96",
           "#ab63fa",
           "#FFA15A",
           "#19d3f3",
           "#FF6692",
           "#B6E880",
           "#FF97FF",
           "#FECB52"
          ],
          "font": {
           "color": "#2a3f5f"
          },
          "geo": {
           "bgcolor": "white",
           "lakecolor": "white",
           "landcolor": "#E5ECF6",
           "showlakes": true,
           "showland": true,
           "subunitcolor": "white"
          },
          "hoverlabel": {
           "align": "left"
          },
          "hovermode": "closest",
          "mapbox": {
           "style": "light"
          },
          "paper_bgcolor": "white",
          "plot_bgcolor": "#E5ECF6",
          "polar": {
           "angularaxis": {
            "gridcolor": "white",
            "linecolor": "white",
            "ticks": ""
           },
           "bgcolor": "#E5ECF6",
           "radialaxis": {
            "gridcolor": "white",
            "linecolor": "white",
            "ticks": ""
           }
          },
          "scene": {
           "xaxis": {
            "backgroundcolor": "#E5ECF6",
            "gridcolor": "white",
            "gridwidth": 2,
            "linecolor": "white",
            "showbackground": true,
            "ticks": "",
            "zerolinecolor": "white"
           },
           "yaxis": {
            "backgroundcolor": "#E5ECF6",
            "gridcolor": "white",
            "gridwidth": 2,
            "linecolor": "white",
            "showbackground": true,
            "ticks": "",
            "zerolinecolor": "white"
           },
           "zaxis": {
            "backgroundcolor": "#E5ECF6",
            "gridcolor": "white",
            "gridwidth": 2,
            "linecolor": "white",
            "showbackground": true,
            "ticks": "",
            "zerolinecolor": "white"
           }
          },
          "shapedefaults": {
           "line": {
            "color": "#2a3f5f"
           }
          },
          "ternary": {
           "aaxis": {
            "gridcolor": "white",
            "linecolor": "white",
            "ticks": ""
           },
           "baxis": {
            "gridcolor": "white",
            "linecolor": "white",
            "ticks": ""
           },
           "bgcolor": "#E5ECF6",
           "caxis": {
            "gridcolor": "white",
            "linecolor": "white",
            "ticks": ""
           }
          },
          "title": {
           "x": 0.05
          },
          "xaxis": {
           "automargin": true,
           "gridcolor": "white",
           "linecolor": "white",
           "ticks": "",
           "title": {
            "standoff": 15
           },
           "zerolinecolor": "white",
           "zerolinewidth": 2
          },
          "yaxis": {
           "automargin": true,
           "gridcolor": "white",
           "linecolor": "white",
           "ticks": "",
           "title": {
            "standoff": 15
           },
           "zerolinecolor": "white",
           "zerolinewidth": 2
          }
         }
        },
        "title": {
         "text": "comparing regular season to playoffs  ",
         "x": 0.5,
         "y": 0.95
        },
        "width": 800,
        "xaxis": {
         "title": {
          "text": "years"
         }
        },
        "yaxis": {
         "title": {
          "text": "stats"
         }
        }
       }
      }
     },
     "metadata": {},
     "output_type": "display_data"
    }
   ],
   "source": [
    "fig = go.Figure()\n",
    "for col in comp_change_df.columns[1:]:\n",
    "    fig.add_trace(go.Scatter(x=comp_change_df['season_start_year'],\n",
    "                             y=comp_change_df[col], name=col))\n",
    "\n",
    "fig.update_layout(height=600, width=800)\n",
    "fig.update_xaxes(title_text='years')\n",
    "fig.update_yaxes(title_text='stats')\n",
    "fig.update_layout(title_text='comparing regular season to playoffs  ', title_x=0.5, title_y=0.95)\n",
    "fig.show()"
   ]
  },
  {
   "cell_type": "code",
   "execution_count": null,
   "id": "5b5b415b-3681-45a1-800f-b1fddae3992d",
   "metadata": {},
   "outputs": [],
   "source": []
  }
 ],
 "metadata": {
  "kernelspec": {
   "display_name": "Python 3",
   "language": "python",
   "name": "python3"
  },
  "language_info": {
   "codemirror_mode": {
    "name": "ipython",
    "version": 3
   },
   "file_extension": ".py",
   "mimetype": "text/x-python",
   "name": "python",
   "nbconvert_exporter": "python",
   "pygments_lexer": "ipython3",
   "version": "3.12.5"
  }
 },
 "nbformat": 4,
 "nbformat_minor": 5
}
